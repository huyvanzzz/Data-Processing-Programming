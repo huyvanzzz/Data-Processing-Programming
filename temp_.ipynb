{
 "cells": [
  {
   "cell_type": "markdown",
   "metadata": {},
   "source": [
    "1. ĐỌC FILE DỮ LIỆU CSV"
   ]
  },
  {
   "cell_type": "code",
   "execution_count": null,
   "metadata": {},
   "outputs": [
    {
     "data": {
      "text/plain": [
       "18095"
      ]
     },
     "execution_count": 62,
     "metadata": {},
     "output_type": "execute_result"
    }
   ],
   "source": [
    "import pandas as pd\n",
    "import numpy as np\n",
    "import matplotlib.pyplot as plt\n",
    "import seaborn as sns\n",
    "import matplotlib.cm as cm\n",
    "import plotly.express as px\n",
    "from scipy.stats import norm\n",
    "from sklearn.linear_model import Ridge\n",
    "from sklearn.metrics import mean_absolute_error, mean_squared_error\n",
    "%matplotlib inline\n",
    "\n",
    "df = pd.read_csv('data/filtered_data_northern_vietnam.csv')"
   ]
  },
  {
   "cell_type": "markdown",
   "metadata": {},
   "source": [
    "3. KIỂM TRA XEM CÓ DỮ LIỆU NÀO BỊ LỖI KHÔNG "
   ]
  },
  {
   "cell_type": "code",
   "execution_count": 32,
   "metadata": {},
   "outputs": [
    {
     "data": {
      "text/html": [
       "<div>\n",
       "<style scoped>\n",
       "    .dataframe tbody tr th:only-of-type {\n",
       "        vertical-align: middle;\n",
       "    }\n",
       "\n",
       "    .dataframe tbody tr th {\n",
       "        vertical-align: top;\n",
       "    }\n",
       "\n",
       "    .dataframe thead th {\n",
       "        text-align: right;\n",
       "    }\n",
       "</style>\n",
       "<table border=\"1\" class=\"dataframe\">\n",
       "  <thead>\n",
       "    <tr style=\"text-align: right;\">\n",
       "      <th></th>\n",
       "      <th>DATE</th>\n",
       "      <th>STATION</th>\n",
       "      <th>TMAX</th>\n",
       "      <th>TMIN</th>\n",
       "      <th>TAVG</th>\n",
       "      <th>PRCP</th>\n",
       "      <th>YEAR</th>\n",
       "      <th>MONTH</th>\n",
       "      <th>SEASON</th>\n",
       "      <th>ISOUTLIER</th>\n",
       "      <th>ISOUTLIER_MAX</th>\n",
       "      <th>ISOUTLIER_MIN</th>\n",
       "    </tr>\n",
       "  </thead>\n",
       "  <tbody>\n",
       "  </tbody>\n",
       "</table>\n",
       "</div>"
      ],
      "text/plain": [
       "Empty DataFrame\n",
       "Columns: [DATE, STATION, TMAX, TMIN, TAVG, PRCP, YEAR, MONTH, SEASON, ISOUTLIER, ISOUTLIER_MAX, ISOUTLIER_MIN]\n",
       "Index: []"
      ]
     },
     "execution_count": 32,
     "metadata": {},
     "output_type": "execute_result"
    }
   ],
   "source": [
    "a = df[(df['TMIN'] > df['TAVG']) & (df['TAVG'] > df['TMAX'])]\n",
    "a\n"
   ]
  },
  {
   "cell_type": "code",
   "execution_count": 33,
   "metadata": {},
   "outputs": [
    {
     "data": {
      "text/html": [
       "<div>\n",
       "<style scoped>\n",
       "    .dataframe tbody tr th:only-of-type {\n",
       "        vertical-align: middle;\n",
       "    }\n",
       "\n",
       "    .dataframe tbody tr th {\n",
       "        vertical-align: top;\n",
       "    }\n",
       "\n",
       "    .dataframe thead th {\n",
       "        text-align: right;\n",
       "    }\n",
       "</style>\n",
       "<table border=\"1\" class=\"dataframe\">\n",
       "  <thead>\n",
       "    <tr style=\"text-align: right;\">\n",
       "      <th></th>\n",
       "      <th>DATE</th>\n",
       "      <th>STATION</th>\n",
       "      <th>TMAX</th>\n",
       "      <th>TMIN</th>\n",
       "      <th>TAVG</th>\n",
       "      <th>PRCP</th>\n",
       "      <th>YEAR</th>\n",
       "      <th>MONTH</th>\n",
       "      <th>SEASON</th>\n",
       "      <th>ISOUTLIER</th>\n",
       "      <th>ISOUTLIER_MAX</th>\n",
       "      <th>ISOUTLIER_MIN</th>\n",
       "    </tr>\n",
       "  </thead>\n",
       "  <tbody>\n",
       "  </tbody>\n",
       "</table>\n",
       "</div>"
      ],
      "text/plain": [
       "Empty DataFrame\n",
       "Columns: [DATE, STATION, TMAX, TMIN, TAVG, PRCP, YEAR, MONTH, SEASON, ISOUTLIER, ISOUTLIER_MAX, ISOUTLIER_MIN]\n",
       "Index: []"
      ]
     },
     "execution_count": 33,
     "metadata": {},
     "output_type": "execute_result"
    }
   ],
   "source": [
    "# kiểm tra xem có bản ghi nào trùng lặp ko\n",
    "df[df.duplicated()]"
   ]
  },
  {
   "cell_type": "markdown",
   "metadata": {},
   "source": [
    "6. NHIỆT ĐỘ TRUNG BÌNH THEO NĂM TRONG PHẠM VI"
   ]
  },
  {
   "cell_type": "code",
   "execution_count": 34,
   "metadata": {},
   "outputs": [],
   "source": [
    "# temp_avg theo năm\n",
    "df1 = df[df['ISOUTLIER']==False].groupby('YEAR')['TAVG'].mean().reset_index().round(1)\n",
    "df1.to_csv('temp_year.csv',index= False)"
   ]
  },
  {
   "cell_type": "markdown",
   "metadata": {},
   "source": [
    "8. NHIỆT ĐỘ MAX, MIN VÀ BIÊN ĐỘ NHIỆT THEO NĂM"
   ]
  },
  {
   "cell_type": "code",
   "execution_count": null,
   "metadata": {},
   "outputs": [
    {
     "data": {
      "text/plain": [
       "18095"
      ]
     },
     "execution_count": 63,
     "metadata": {},
     "output_type": "execute_result"
    }
   ],
   "source": [
    "# Tính nhiệt độ lớn nhất và nhỏ nhất theo từng năm\n",
    "temp_max = df.groupby('YEAR')['TMAX'].max().reset_index(name= 'TMAX')\n",
    "temp_min = df.groupby('YEAR')['TMIN'].min().reset_index(name= 'TMIN')\n",
    "# Tính biên độ dao động nhiệt theo năm\n",
    "df1 = df1.merge(temp_max, on='YEAR', how='left')\n",
    "df1 = df1.merge(temp_min, on='YEAR', how='left')\n",
    "df1"
   ]
  },
  {
   "cell_type": "markdown",
   "metadata": {},
   "source": [
    "9. XÁC ĐỊNH TUẦN SUẤT NHIỆT CỰC ĐOAN"
   ]
  },
  {
   "cell_type": "code",
   "execution_count": 36,
   "metadata": {},
   "outputs": [],
   "source": [
    "hot_ = df[df['TMAX']>37].groupby('YEAR')['TMAX'].count().reset_index(name='frequency_hot')\n",
    "cold_ = df[df['TMIN']<5].groupby('YEAR')['TMIN'].count().reset_index(name='frequency_cold')\n",
    "df1 = df1.merge(hot_,on='YEAR',how='left')\n",
    "df1 = df1.merge(cold_,on='YEAR',how='left')\n",
    "# Thay thế các giá trị NaN trong cột 'frequency_cold' bằng 0\n",
    "df1['frequency_hot'] = df1['frequency_hot'].fillna(0).astype(int)\n",
    "df1['frequency_cold'] = df1['frequency_cold'].fillna(0).astype(int)\n",
    "df1.to_csv('temp_year.csv',index=False)"
   ]
  },
  {
   "cell_type": "code",
   "execution_count": 65,
   "metadata": {},
   "outputs": [
    {
     "data": {
      "text/html": [
       "<div>\n",
       "<style scoped>\n",
       "    .dataframe tbody tr th:only-of-type {\n",
       "        vertical-align: middle;\n",
       "    }\n",
       "\n",
       "    .dataframe tbody tr th {\n",
       "        vertical-align: top;\n",
       "    }\n",
       "\n",
       "    .dataframe thead th {\n",
       "        text-align: right;\n",
       "    }\n",
       "</style>\n",
       "<table border=\"1\" class=\"dataframe\">\n",
       "  <thead>\n",
       "    <tr style=\"text-align: right;\">\n",
       "      <th></th>\n",
       "      <th>TMAX</th>\n",
       "      <th>TMIN</th>\n",
       "      <th>TAVG</th>\n",
       "    </tr>\n",
       "  </thead>\n",
       "  <tbody>\n",
       "    <tr>\n",
       "      <th>count</th>\n",
       "      <td>18095.000000</td>\n",
       "      <td>18095.000000</td>\n",
       "      <td>18095.000000</td>\n",
       "    </tr>\n",
       "    <tr>\n",
       "      <th>mean</th>\n",
       "      <td>27.449577</td>\n",
       "      <td>19.722581</td>\n",
       "      <td>23.462907</td>\n",
       "    </tr>\n",
       "    <tr>\n",
       "      <th>std</th>\n",
       "      <td>6.001191</td>\n",
       "      <td>5.480586</td>\n",
       "      <td>5.407985</td>\n",
       "    </tr>\n",
       "    <tr>\n",
       "      <th>min</th>\n",
       "      <td>4.400000</td>\n",
       "      <td>-2.300000</td>\n",
       "      <td>2.800000</td>\n",
       "    </tr>\n",
       "    <tr>\n",
       "      <th>25%</th>\n",
       "      <td>23.400000</td>\n",
       "      <td>16.100000</td>\n",
       "      <td>20.000000</td>\n",
       "    </tr>\n",
       "    <tr>\n",
       "      <th>50%</th>\n",
       "      <td>28.300000</td>\n",
       "      <td>21.100000</td>\n",
       "      <td>24.400000</td>\n",
       "    </tr>\n",
       "    <tr>\n",
       "      <th>75%</th>\n",
       "      <td>32.200000</td>\n",
       "      <td>23.900000</td>\n",
       "      <td>27.800000</td>\n",
       "    </tr>\n",
       "    <tr>\n",
       "      <th>max</th>\n",
       "      <td>41.600000</td>\n",
       "      <td>31.100000</td>\n",
       "      <td>36.100000</td>\n",
       "    </tr>\n",
       "  </tbody>\n",
       "</table>\n",
       "</div>"
      ],
      "text/plain": [
       "               TMAX          TMIN          TAVG\n",
       "count  18095.000000  18095.000000  18095.000000\n",
       "mean      27.449577     19.722581     23.462907\n",
       "std        6.001191      5.480586      5.407985\n",
       "min        4.400000     -2.300000      2.800000\n",
       "25%       23.400000     16.100000     20.000000\n",
       "50%       28.300000     21.100000     24.400000\n",
       "75%       32.200000     23.900000     27.800000\n",
       "max       41.600000     31.100000     36.100000"
      ]
     },
     "execution_count": 65,
     "metadata": {},
     "output_type": "execute_result"
    }
   ],
   "source": [
    "df[['TMAX','TMIN','TAVG']].describe()"
   ]
  },
  {
   "cell_type": "markdown",
   "metadata": {},
   "source": [
    "10. VẼ ĐỒ THỊ"
   ]
  },
  {
   "cell_type": "code",
   "execution_count": 37,
   "metadata": {},
   "outputs": [
    {
     "data": {
      "text/plain": [
       "Text(0.5, 1.0, 'nhiệt độ trung bình theo năm')"
      ]
     },
     "execution_count": 37,
     "metadata": {},
     "output_type": "execute_result"
    },
    {
     "data": {
      "image/png": "[encoded data removed]",
      "text/plain": [
       "<Figure size 1200x600 with 1 Axes>"
      ]
     },
     "metadata": {},
     "output_type": "display_data"
    }
   ],
   "source": [
    "df1.plot(kind= 'line',x='YEAR',y='TAVG',figsize=(12,6))\n",
    "plt.title('nhiệt độ trung bình theo năm')"
   ]
  },
  {
   "cell_type": "code",
   "execution_count": 38,
   "metadata": {},
   "outputs": [
    {
     "data": {
      "image/png": "[encoded data removed]",
      "text/plain": [
       "<Figure size 1000x600 with 1 Axes>"
      ]
     },
     "metadata": {},
     "output_type": "display_data"
    }
   ],
   "source": [
    "import pandas as pd\n",
    "import matplotlib.pyplot as plt\n",
    "# Vẽ biểu đồ vùng\n",
    "plt.figure(figsize=(10, 6))\n",
    "plt.fill_between(df1['YEAR'], df1['TMAX'], df1['TMIN'], color='lightblue', alpha=0.5, label='Khoảng nhiệt độ')\n",
    "plt.plot(df1['YEAR'], df1['TMAX'], color='red', label='Nhiệt độ cao nhất (TMAX)')\n",
    "plt.plot(df1['YEAR'], df1['TMIN'], color='blue', label='Nhiệt độ thấp nhất (TMIN)')\n",
    "\n",
    "# Cấu hình biểu đồ\n",
    "plt.title('Biểu đồ khoảng nhiệt độ theo năm', fontsize=14)\n",
    "plt.xlabel('Năm', fontsize=12)\n",
    "plt.ylabel('Nhiệt độ (°C)', fontsize=12)\n",
    "plt.grid(True, linestyle='--', alpha=0.7)\n",
    "plt.legend()\n",
    "plt.tight_layout()\n",
    "\n",
    "# Hiển thị biểu đồ\n",
    "plt.show()\n"
   ]
  },
  {
   "cell_type": "code",
   "execution_count": 39,
   "metadata": {},
   "outputs": [
    {
     "data": {
      "application/vnd.plotly.v1+json": {
       "config": {
        "plotlyServerURL": "https://plot.ly"
       },
       "data": [
        {
         "alignmentgroup": "True",
         "hovertemplate": "variable=frequency_hot<br>Năm=%{x}<br>Tần số xuất hiện=%{y}<extra></extra>",
         "legendgroup": "frequency_hot",
         "marker": {
          "color": "salmon",
          "pattern": {
           "shape": ""
          }
         },
         "name": "frequency_hot",
         "offsetgroup": "frequency_hot",
         "orientation": "v",
         "showlegend": true,
         "textposition": "auto",
         "type": "bar",
         "x": [
          2013,
          2014,
          2015,
          2016,
          2017,
          2018,
          2019,
          2020,
          2021,
          2022,
          2023,
          2024
         ],
         "xaxis": "x",
         "y": [
          22,
          24,
          31,
          21,
          24,
          30,
          53,
          22,
          47,
          34,
          45,
          45
         ],
         "yaxis": "y"
        },
        {
         "alignmentgroup": "True",
         "hovertemplate": "variable=frequency_cold<br>Năm=%{x}<br>Tần số xuất hiện=%{y}<extra></extra>",
         "legendgroup": "frequency_cold",
         "marker": {
          "color": "skyblue",
          "pattern": {
           "shape": ""
          }
         },
         "name": "frequency_cold",
         "offsetgroup": "frequency_cold",
         "orientation": "v",
         "showlegend": true,
         "textposition": "auto",
         "type": "bar",
         "x": [
          2013,
          2014,
          2015,
          2016,
          2017,
          2018,
          2019,
          2020,
          2021,
          2022,
          2023,
          2024
         ],
         "xaxis": "x",
         "y": [
          36,
          46,
          3,
          18,
          4,
          4,
          13,
          0,
          15,
          6,
          11,
          2
         ],
         "yaxis": "y"
        }
       ],
       "layout": {
        "barmode": "group",
        "legend": {
         "title": {
          "text": "variable"
         },
         "tracegroupgap": 0
        },
        "template": {
         "data": {
          "bar": [
           {
            "error_x": {
             "color": "#2a3f5f"
            },
            "error_y": {
             "color": "#2a3f5f"
            },
            "marker": {
             "line": {
              "color": "#E5ECF6",
              "width": 0.5
             },
             "pattern": {
              "fillmode": "overlay",
              "size": 10,
              "solidity": 0.2
             }
            },
            "type": "bar"
           }
          ],
          "barpolar": [
           {
            "marker": {
             "line": {
              "color": "#E5ECF6",
              "width": 0.5
             },
             "pattern": {
              "fillmode": "overlay",
              "size": 10,
              "solidity": 0.2
             }
            },
            "type": "barpolar"
           }
          ],
          "carpet": [
           {
            "aaxis": {
             "endlinecolor": "#2a3f5f",
             "gridcolor": "white",
             "linecolor": "white",
             "minorgridcolor": "white",
             "startlinecolor": "#2a3f5f"
            },
            "baxis": {
             "endlinecolor": "#2a3f5f",
             "gridcolor": "white",
             "linecolor": "white",
             "minorgridcolor": "white",
             "startlinecolor": "#2a3f5f"
            },
            "type": "carpet"
           }
          ],
          "choropleth": [
           {
            "colorbar": {
             "outlinewidth": 0,
             "ticks": ""
            },
            "type": "choropleth"
           }
          ],
          "contour": [
           {
            "colorbar": {
             "outlinewidth": 0,
             "ticks": ""
            },
            "colorscale": [
             [
              0,
              "#0d0887"
             ],
             [
              0.1111111111111111,
              "#46039f"
             ],
             [
              0.2222222222222222,
              "#7201a8"
             ],
             [
              0.3333333333333333,
              "#9c179e"
             ],
             [
              0.4444444444444444,
              "#bd3786"
             ],
             [
              0.5555555555555556,
              "#d8576b"
             ],
             [
              0.6666666666666666,
              "#ed7953"
             ],
             [
              0.7777777777777778,
              "#fb9f3a"
             ],
             [
              0.8888888888888888,
              "#fdca26"
             ],
             [
              1,
              "#f0f921"
             ]
            ],
            "type": "contour"
           }
          ],
          "contourcarpet": [
           {
            "colorbar": {
             "outlinewidth": 0,
             "ticks": ""
            },
            "type": "contourcarpet"
           }
          ],
          "heatmap": [
           {
            "colorbar": {
             "outlinewidth": 0,
             "ticks": ""
            },
            "colorscale": [
             [
              0,
              "#0d0887"
             ],
             [
              0.1111111111111111,
              "#46039f"
             ],
             [
              0.2222222222222222,
              "#7201a8"
             ],
             [
              0.3333333333333333,
              "#9c179e"
             ],
             [
              0.4444444444444444,
              "#bd3786"
             ],
             [
              0.5555555555555556,
              "#d8576b"
             ],
             [
              0.6666666666666666,
              "#ed7953"
             ],
             [
              0.7777777777777778,
              "#fb9f3a"
             ],
             [
              0.8888888888888888,
              "#fdca26"
             ],
             [
              1,
              "#f0f921"
             ]
            ],
            "type": "heatmap"
           }
          ],
          "heatmapgl": [
           {
            "colorbar": {
             "outlinewidth": 0,
             "ticks": ""
            },
            "colorscale": [
             [
              0,
              "#0d0887"
             ],
             [
              0.1111111111111111,
              "#46039f"
             ],
             [
              0.2222222222222222,
              "#7201a8"
             ],
             [
              0.3333333333333333,
              "#9c179e"
             ],
             [
              0.4444444444444444,
              "#bd3786"
             ],
             [
              0.5555555555555556,
              "#d8576b"
             ],
             [
              0.6666666666666666,
              "#ed7953"
             ],
             [
              0.7777777777777778,
              "#fb9f3a"
             ],
             [
              0.8888888888888888,
              "#fdca26"
             ],
             [
              1,
              "#f0f921"
             ]
            ],
            "type": "heatmapgl"
           }
          ],
          "histogram": [
           {
            "marker": {
             "pattern": {
              "fillmode": "overlay",
              "size": 10,
              "solidity": 0.2
             }
            },
            "type": "histogram"
           }
          ],
          "histogram2d": [
           {
            "colorbar": {
             "outlinewidth": 0,
             "ticks": ""
            },
            "colorscale": [
             [
              0,
              "#0d0887"
             ],
             [
              0.1111111111111111,
              "#46039f"
             ],
             [
              0.2222222222222222,
              "#7201a8"
             ],
             [
              0.3333333333333333,
              "#9c179e"
             ],
             [
              0.4444444444444444,
              "#bd3786"
             ],
             [
              0.5555555555555556,
              "#d8576b"
             ],
             [
              0.6666666666666666,
              "#ed7953"
             ],
             [
              0.7777777777777778,
              "#fb9f3a"
             ],
             [
              0.8888888888888888,
              "#fdca26"
             ],
             [
              1,
              "#f0f921"
             ]
            ],
            "type": "histogram2d"
           }
          ],
          "histogram2dcontour": [
           {
            "colorbar": {
             "outlinewidth": 0,
             "ticks": ""
            },
            "colorscale": [
             [
              0,
              "#0d0887"
             ],
             [
              0.1111111111111111,
              "#46039f"
             ],
             [
              0.2222222222222222,
              "#7201a8"
             ],
             [
              0.3333333333333333,
              "#9c179e"
             ],
             [
              0.4444444444444444,
              "#bd3786"
             ],
             [
              0.5555555555555556,
              "#d8576b"
             ],
             [
              0.6666666666666666,
              "#ed7953"
             ],
             [
              0.7777777777777778,
              "#fb9f3a"
             ],
             [
              0.8888888888888888,
              "#fdca26"
             ],
             [
              1,
              "#f0f921"
             ]
            ],
            "type": "histogram2dcontour"
           }
          ],
          "mesh3d": [
           {
            "colorbar": {
             "outlinewidth": 0,
             "ticks": ""
            },
            "type": "mesh3d"
           }
          ],
          "parcoords": [
           {
            "line": {
             "colorbar": {
              "outlinewidth": 0,
              "ticks": ""
             }
            },
            "type": "parcoords"
           }
          ],
          "pie": [
           {
            "automargin": true,
            "type": "pie"
           }
          ],
          "scatter": [
           {
            "fillpattern": {
             "fillmode": "overlay",
             "size": 10,
             "solidity": 0.2
            },
            "type": "scatter"
           }
          ],
          "scatter3d": [
           {
            "line": {
             "colorbar": {
              "outlinewidth": 0,
              "ticks": ""
             }
            },
            "marker": {
             "colorbar": {
              "outlinewidth": 0,
              "ticks": ""
             }
            },
            "type": "scatter3d"
           }
          ],
          "scattercarpet": [
           {
            "marker": {
             "colorbar": {
              "outlinewidth": 0,
              "ticks": ""
             }
            },
            "type": "scattercarpet"
           }
          ],
          "scattergeo": [
           {
            "marker": {
             "colorbar": {
              "outlinewidth": 0,
              "ticks": ""
             }
            },
            "type": "scattergeo"
           }
          ],
          "scattergl": [
           {
            "marker": {
             "colorbar": {
              "outlinewidth": 0,
              "ticks": ""
             }
            },
            "type": "scattergl"
           }
          ],
          "scattermapbox": [
           {
            "marker": {
             "colorbar": {
              "outlinewidth": 0,
              "ticks": ""
             }
            },
            "type": "scattermapbox"
           }
          ],
          "scatterpolar": [
           {
            "marker": {
             "colorbar": {
              "outlinewidth": 0,
              "ticks": ""
             }
            },
            "type": "scatterpolar"
           }
          ],
          "scatterpolargl": [
           {
            "marker": {
             "colorbar": {
              "outlinewidth": 0,
              "ticks": ""
             }
            },
            "type": "scatterpolargl"
           }
          ],
          "scatterternary": [
           {
            "marker": {
             "colorbar": {
              "outlinewidth": 0,
              "ticks": ""
             }
            },
            "type": "scatterternary"
           }
          ],
          "surface": [
           {
            "colorbar": {
             "outlinewidth": 0,
             "ticks": ""
            },
            "colorscale": [
             [
              0,
              "#0d0887"
             ],
             [
              0.1111111111111111,
              "#46039f"
             ],
             [
              0.2222222222222222,
              "#7201a8"
             ],
             [
              0.3333333333333333,
              "#9c179e"
             ],
             [
              0.4444444444444444,
              "#bd3786"
             ],
             [
              0.5555555555555556,
              "#d8576b"
             ],
             [
              0.6666666666666666,
              "#ed7953"
             ],
             [
              0.7777777777777778,
              "#fb9f3a"
             ],
             [
              0.8888888888888888,
              "#fdca26"
             ],
             [
              1,
              "#f0f921"
             ]
            ],
            "type": "surface"
           }
          ],
          "table": [
           {
            "cells": {
             "fill": {
              "color": "#EBF0F8"
             },
             "line": {
              "color": "white"
             }
            },
            "header": {
             "fill": {
              "color": "#C8D4E3"
             },
             "line": {
              "color": "white"
             }
            },
            "type": "table"
           }
          ]
         },
         "layout": {
          "annotationdefaults": {
           "arrowcolor": "#2a3f5f",
           "arrowhead": 0,
           "arrowwidth": 1
          },
          "autotypenumbers": "strict",
          "coloraxis": {
           "colorbar": {
            "outlinewidth": 0,
            "ticks": ""
           }
          },
          "colorscale": {
           "diverging": [
            [
             0,
             "#8e0152"
            ],
            [
             0.1,
             "#c51b7d"
            ],
            [
             0.2,
             "#de77ae"
            ],
            [
             0.3,
             "#f1b6da"
            ],
            [
             0.4,
             "#fde0ef"
            ],
            [
             0.5,
             "#f7f7f7"
            ],
            [
             0.6,
             "#e6f5d0"
            ],
            [
             0.7,
             "#b8e186"
            ],
            [
             0.8,
             "#7fbc41"
            ],
            [
             0.9,
             "#4d9221"
            ],
            [
             1,
             "#276419"
            ]
           ],
           "sequential": [
            [
             0,
             "#0d0887"
            ],
            [
             0.1111111111111111,
             "#46039f"
            ],
            [
             0.2222222222222222,
             "#7201a8"
            ],
            [
             0.3333333333333333,
             "#9c179e"
            ],
            [
             0.4444444444444444,
             "#bd3786"
            ],
            [
             0.5555555555555556,
             "#d8576b"
            ],
            [
             0.6666666666666666,
             "#ed7953"
            ],
            [
             0.7777777777777778,
             "#fb9f3a"
            ],
            [
             0.8888888888888888,
             "#fdca26"
            ],
            [
             1,
             "#f0f921"
            ]
           ],
           "sequentialminus": [
            [
             0,
             "#0d0887"
            ],
            [
             0.1111111111111111,
             "#46039f"
            ],
            [
             0.2222222222222222,
             "#7201a8"
            ],
            [
             0.3333333333333333,
             "#9c179e"
            ],
            [
             0.4444444444444444,
             "#bd3786"
            ],
            [
             0.5555555555555556,
             "#d8576b"
            ],
            [
             0.6666666666666666,
             "#ed7953"
            ],
            [
             0.7777777777777778,
             "#fb9f3a"
            ],
            [
             0.8888888888888888,
             "#fdca26"
            ],
            [
             1,
             "#f0f921"
            ]
           ]
          },
          "colorway": [
           "#636efa",
           "#EF553B",
           "#00cc96",
           "#ab63fa",
           "#FFA15A",
           "#19d3f3",
           "#FF6692",
           "#B6E880",
           "#FF97FF",
           "#FECB52"
          ],
          "font": {
           "color": "#2a3f5f"
          },
          "geo": {
           "bgcolor": "white",
           "lakecolor": "white",
           "landcolor": "#E5ECF6",
           "showlakes": true,
           "showland": true,
           "subunitcolor": "white"
          },
          "hoverlabel": {
           "align": "left"
          },
          "hovermode": "closest",
          "mapbox": {
           "style": "light"
          },
          "paper_bgcolor": "white",
          "plot_bgcolor": "#E5ECF6",
          "polar": {
           "angularaxis": {
            "gridcolor": "white",
            "linecolor": "white",
            "ticks": ""
           },
           "bgcolor": "#E5ECF6",
           "radialaxis": {
            "gridcolor": "white",
            "linecolor": "white",
            "ticks": ""
           }
          },
          "scene": {
           "xaxis": {
            "backgroundcolor": "#E5ECF6",
            "gridcolor": "white",
            "gridwidth": 2,
            "linecolor": "white",
            "showbackground": true,
            "ticks": "",
            "zerolinecolor": "white"
           },
           "yaxis": {
            "backgroundcolor": "#E5ECF6",
            "gridcolor": "white",
            "gridwidth": 2,
            "linecolor": "white",
            "showbackground": true,
            "ticks": "",
            "zerolinecolor": "white"
           },
           "zaxis": {
            "backgroundcolor": "#E5ECF6",
            "gridcolor": "white",
            "gridwidth": 2,
            "linecolor": "white",
            "showbackground": true,
            "ticks": "",
            "zerolinecolor": "white"
           }
          },
          "shapedefaults": {
           "line": {
            "color": "#2a3f5f"
           }
          },
          "ternary": {
           "aaxis": {
            "gridcolor": "white",
            "linecolor": "white",
            "ticks": ""
           },
           "baxis": {
            "gridcolor": "white",
            "linecolor": "white",
            "ticks": ""
           },
           "bgcolor": "#E5ECF6",
           "caxis": {
            "gridcolor": "white",
            "linecolor": "white",
            "ticks": ""
           }
          },
          "title": {
           "x": 0.05
          },
          "xaxis": {
           "automargin": true,
           "gridcolor": "white",
           "linecolor": "white",
           "ticks": "",
           "title": {
            "standoff": 15
           },
           "zerolinecolor": "white",
           "zerolinewidth": 2
          },
          "yaxis": {
           "automargin": true,
           "gridcolor": "white",
           "linecolor": "white",
           "ticks": "",
           "title": {
            "standoff": 15
           },
           "zerolinecolor": "white",
           "zerolinewidth": 2
          }
         }
        },
        "title": {
         "text": "So sánh tần số nhiệt độ cực đoan theo năm (Hot và Cold)"
        },
        "xaxis": {
         "anchor": "y",
         "domain": [
          0,
          1
         ],
         "title": {
          "text": "Năm"
         }
        },
        "yaxis": {
         "anchor": "x",
         "domain": [
          0,
          1
         ],
         "title": {
          "text": "Tần số xuất hiện"
         }
        }
       }
      }
     },
     "metadata": {},
     "output_type": "display_data"
    }
   ],
   "source": [
    "fig = px.bar(\n",
    "    df1,\n",
    "    x='YEAR',\n",
    "    y=['frequency_hot', 'frequency_cold'],\n",
    "    barmode='group',  # Grouped bar chart\n",
    "    labels={'value': 'Tần số xuất hiện', 'YEAR': 'Năm'},\n",
    "    title='So sánh tần số nhiệt độ cực đoan theo năm (Hot và Cold)',\n",
    "    color_discrete_sequence=['salmon', 'skyblue']\n",
    ")\n",
    "fig.show()\n"
   ]
  },
  {
   "cell_type": "code",
   "execution_count": 40,
   "metadata": {},
   "outputs": [
    {
     "data": {
      "application/vnd.plotly.v1+json": {
       "config": {
        "plotlyServerURL": "https://plot.ly"
       },
       "data": [
        {
         "hovertemplate": "variable=frequency_hot<br>Năm=%{x}<br>Tần số xuất hiện=%{y}<extra></extra>",
         "legendgroup": "frequency_hot",
         "line": {
          "color": "salmon",
          "dash": "solid"
         },
         "marker": {
          "symbol": "circle"
         },
         "mode": "lines+markers",
         "name": "frequency_hot",
         "orientation": "v",
         "showlegend": true,
         "type": "scatter",
         "x": [
          2013,
          2014,
          2015,
          2016,
          2017,
          2018,
          2019,
          2020,
          2021,
          2022,
          2023,
          2024
         ],
         "xaxis": "x",
         "y": [
          22,
          24,
          31,
          21,
          24,
          30,
          53,
          22,
          47,
          34,
          45,
          45
         ],
         "yaxis": "y"
        },
        {
         "hovertemplate": "variable=frequency_cold<br>Năm=%{x}<br>Tần số xuất hiện=%{y}<extra></extra>",
         "legendgroup": "frequency_cold",
         "line": {
          "color": "skyblue",
          "dash": "solid"
         },
         "marker": {
          "symbol": "circle"
         },
         "mode": "lines+markers",
         "name": "frequency_cold",
         "orientation": "v",
         "showlegend": true,
         "type": "scatter",
         "x": [
          2013,
          2014,
          2015,
          2016,
          2017,
          2018,
          2019,
          2020,
          2021,
          2022,
          2023,
          2024
         ],
         "xaxis": "x",
         "y": [
          36,
          46,
          3,
          18,
          4,
          4,
          13,
          0,
          15,
          6,
          11,
          2
         ],
         "yaxis": "y"
        }
       ],
       "layout": {
        "legend": {
         "title": {
          "text": "variable"
         },
         "tracegroupgap": 0
        },
        "template": {
         "data": {
          "bar": [
           {
            "error_x": {
             "color": "#2a3f5f"
            },
            "error_y": {
             "color": "#2a3f5f"
            },
            "marker": {
             "line": {
              "color": "#E5ECF6",
              "width": 0.5
             },
             "pattern": {
              "fillmode": "overlay",
              "size": 10,
              "solidity": 0.2
             }
            },
            "type": "bar"
           }
          ],
          "barpolar": [
           {
            "marker": {
             "line": {
              "color": "#E5ECF6",
              "width": 0.5
             },
             "pattern": {
              "fillmode": "overlay",
              "size": 10,
              "solidity": 0.2
             }
            },
            "type": "barpolar"
           }
          ],
          "carpet": [
           {
            "aaxis": {
             "endlinecolor": "#2a3f5f",
             "gridcolor": "white",
             "linecolor": "white",
             "minorgridcolor": "white",
             "startlinecolor": "#2a3f5f"
            },
            "baxis": {
             "endlinecolor": "#2a3f5f",
             "gridcolor": "white",
             "linecolor": "white",
             "minorgridcolor": "white",
             "startlinecolor": "#2a3f5f"
            },
            "type": "carpet"
           }
          ],
          "choropleth": [
           {
            "colorbar": {
             "outlinewidth": 0,
             "ticks": ""
            },
            "type": "choropleth"
           }
          ],
          "contour": [
           {
            "colorbar": {
             "outlinewidth": 0,
             "ticks": ""
            },
            "colorscale": [
             [
              0,
              "#0d0887"
             ],
             [
              0.1111111111111111,
              "#46039f"
             ],
             [
              0.2222222222222222,
              "#7201a8"
             ],
             [
              0.3333333333333333,
              "#9c179e"
             ],
             [
              0.4444444444444444,
              "#bd3786"
             ],
             [
              0.5555555555555556,
              "#d8576b"
             ],
             [
              0.6666666666666666,
              "#ed7953"
             ],
             [
              0.7777777777777778,
              "#fb9f3a"
             ],
             [
              0.8888888888888888,
              "#fdca26"
             ],
             [
              1,
              "#f0f921"
             ]
            ],
            "type": "contour"
           }
          ],
          "contourcarpet": [
           {
            "colorbar": {
             "outlinewidth": 0,
             "ticks": ""
            },
            "type": "contourcarpet"
           }
          ],
          "heatmap": [
           {
            "colorbar": {
             "outlinewidth": 0,
             "ticks": ""
            },
            "colorscale": [
             [
              0,
              "#0d0887"
             ],
             [
              0.1111111111111111,
              "#46039f"
             ],
             [
              0.2222222222222222,
              "#7201a8"
             ],
             [
              0.3333333333333333,
              "#9c179e"
             ],
             [
              0.4444444444444444,
              "#bd3786"
             ],
             [
              0.5555555555555556,
              "#d8576b"
             ],
             [
              0.6666666666666666,
              "#ed7953"
             ],
             [
              0.7777777777777778,
              "#fb9f3a"
             ],
             [
              0.8888888888888888,
              "#fdca26"
             ],
             [
              1,
              "#f0f921"
             ]
            ],
            "type": "heatmap"
           }
          ],
          "heatmapgl": [
           {
            "colorbar": {
             "outlinewidth": 0,
             "ticks": ""
            },
            "colorscale": [
             [
              0,
              "#0d0887"
             ],
             [
              0.1111111111111111,
              "#46039f"
             ],
             [
              0.2222222222222222,
              "#7201a8"
             ],
             [
              0.3333333333333333,
              "#9c179e"
             ],
             [
              0.4444444444444444,
              "#bd3786"
             ],
             [
              0.5555555555555556,
              "#d8576b"
             ],
             [
              0.6666666666666666,
              "#ed7953"
             ],
             [
              0.7777777777777778,
              "#fb9f3a"
             ],
             [
              0.8888888888888888,
              "#fdca26"
             ],
             [
              1,
              "#f0f921"
             ]
            ],
            "type": "heatmapgl"
           }
          ],
          "histogram": [
           {
            "marker": {
             "pattern": {
              "fillmode": "overlay",
              "size": 10,
              "solidity": 0.2
             }
            },
            "type": "histogram"
           }
          ],
          "histogram2d": [
           {
            "colorbar": {
             "outlinewidth": 0,
             "ticks": ""
            },
            "colorscale": [
             [
              0,
              "#0d0887"
             ],
             [
              0.1111111111111111,
              "#46039f"
             ],
             [
              0.2222222222222222,
              "#7201a8"
             ],
             [
              0.3333333333333333,
              "#9c179e"
             ],
             [
              0.4444444444444444,
              "#bd3786"
             ],
             [
              0.5555555555555556,
              "#d8576b"
             ],
             [
              0.6666666666666666,
              "#ed7953"
             ],
             [
              0.7777777777777778,
              "#fb9f3a"
             ],
             [
              0.8888888888888888,
              "#fdca26"
             ],
             [
              1,
              "#f0f921"
             ]
            ],
            "type": "histogram2d"
           }
          ],
          "histogram2dcontour": [
           {
            "colorbar": {
             "outlinewidth": 0,
             "ticks": ""
            },
            "colorscale": [
             [
              0,
              "#0d0887"
             ],
             [
              0.1111111111111111,
              "#46039f"
             ],
             [
              0.2222222222222222,
              "#7201a8"
             ],
             [
              0.3333333333333333,
              "#9c179e"
             ],
             [
              0.4444444444444444,
              "#bd3786"
             ],
             [
              0.5555555555555556,
              "#d8576b"
             ],
             [
              0.6666666666666666,
              "#ed7953"
             ],
             [
              0.7777777777777778,
              "#fb9f3a"
             ],
             [
              0.8888888888888888,
              "#fdca26"
             ],
             [
              1,
              "#f0f921"
             ]
            ],
            "type": "histogram2dcontour"
           }
          ],
          "mesh3d": [
           {
            "colorbar": {
             "outlinewidth": 0,
             "ticks": ""
            },
            "type": "mesh3d"
           }
          ],
          "parcoords": [
           {
            "line": {
             "colorbar": {
              "outlinewidth": 0,
              "ticks": ""
             }
            },
            "type": "parcoords"
           }
          ],
          "pie": [
           {
            "automargin": true,
            "type": "pie"
           }
          ],
          "scatter": [
           {
            "fillpattern": {
             "fillmode": "overlay",
             "size": 10,
             "solidity": 0.2
            },
            "type": "scatter"
           }
          ],
          "scatter3d": [
           {
            "line": {
             "colorbar": {
              "outlinewidth": 0,
              "ticks": ""
             }
            },
            "marker": {
             "colorbar": {
              "outlinewidth": 0,
              "ticks": ""
             }
            },
            "type": "scatter3d"
           }
          ],
          "scattercarpet": [
           {
            "marker": {
             "colorbar": {
              "outlinewidth": 0,
              "ticks": ""
             }
            },
            "type": "scattercarpet"
           }
          ],
          "scattergeo": [
           {
            "marker": {
             "colorbar": {
              "outlinewidth": 0,
              "ticks": ""
             }
            },
            "type": "scattergeo"
           }
          ],
          "scattergl": [
           {
            "marker": {
             "colorbar": {
              "outlinewidth": 0,
              "ticks": ""
             }
            },
            "type": "scattergl"
           }
          ],
          "scattermapbox": [
           {
            "marker": {
             "colorbar": {
              "outlinewidth": 0,
              "ticks": ""
             }
            },
            "type": "scattermapbox"
           }
          ],
          "scatterpolar": [
           {
            "marker": {
             "colorbar": {
              "outlinewidth": 0,
              "ticks": ""
             }
            },
            "type": "scatterpolar"
           }
          ],
          "scatterpolargl": [
           {
            "marker": {
             "colorbar": {
              "outlinewidth": 0,
              "ticks": ""
             }
            },
            "type": "scatterpolargl"
           }
          ],
          "scatterternary": [
           {
            "marker": {
             "colorbar": {
              "outlinewidth": 0,
              "ticks": ""
             }
            },
            "type": "scatterternary"
           }
          ],
          "surface": [
           {
            "colorbar": {
             "outlinewidth": 0,
             "ticks": ""
            },
            "colorscale": [
             [
              0,
              "#0d0887"
             ],
             [
              0.1111111111111111,
              "#46039f"
             ],
             [
              0.2222222222222222,
              "#7201a8"
             ],
             [
              0.3333333333333333,
              "#9c179e"
             ],
             [
              0.4444444444444444,
              "#bd3786"
             ],
             [
              0.5555555555555556,
              "#d8576b"
             ],
             [
              0.6666666666666666,
              "#ed7953"
             ],
             [
              0.7777777777777778,
              "#fb9f3a"
             ],
             [
              0.8888888888888888,
              "#fdca26"
             ],
             [
              1,
              "#f0f921"
             ]
            ],
            "type": "surface"
           }
          ],
          "table": [
           {
            "cells": {
             "fill": {
              "color": "#EBF0F8"
             },
             "line": {
              "color": "white"
             }
            },
            "header": {
             "fill": {
              "color": "#C8D4E3"
             },
             "line": {
              "color": "white"
             }
            },
            "type": "table"
           }
          ]
         },
         "layout": {
          "annotationdefaults": {
           "arrowcolor": "#2a3f5f",
           "arrowhead": 0,
           "arrowwidth": 1
          },
          "autotypenumbers": "strict",
          "coloraxis": {
           "colorbar": {
            "outlinewidth": 0,
            "ticks": ""
           }
          },
          "colorscale": {
           "diverging": [
            [
             0,
             "#8e0152"
            ],
            [
             0.1,
             "#c51b7d"
            ],
            [
             0.2,
             "#de77ae"
            ],
            [
             0.3,
             "#f1b6da"
            ],
            [
             0.4,
             "#fde0ef"
            ],
            [
             0.5,
             "#f7f7f7"
            ],
            [
             0.6,
             "#e6f5d0"
            ],
            [
             0.7,
             "#b8e186"
            ],
            [
             0.8,
             "#7fbc41"
            ],
            [
             0.9,
             "#4d9221"
            ],
            [
             1,
             "#276419"
            ]
           ],
           "sequential": [
            [
             0,
             "#0d0887"
            ],
            [
             0.1111111111111111,
             "#46039f"
            ],
            [
             0.2222222222222222,
             "#7201a8"
            ],
            [
             0.3333333333333333,
             "#9c179e"
            ],
            [
             0.4444444444444444,
             "#bd3786"
            ],
            [
             0.5555555555555556,
             "#d8576b"
            ],
            [
             0.6666666666666666,
             "#ed7953"
            ],
            [
             0.7777777777777778,
             "#fb9f3a"
            ],
            [
             0.8888888888888888,
             "#fdca26"
            ],
            [
             1,
             "#f0f921"
            ]
           ],
           "sequentialminus": [
            [
             0,
             "#0d0887"
            ],
            [
             0.1111111111111111,
             "#46039f"
            ],
            [
             0.2222222222222222,
             "#7201a8"
            ],
            [
             0.3333333333333333,
             "#9c179e"
            ],
            [
             0.4444444444444444,
             "#bd3786"
            ],
            [
             0.5555555555555556,
             "#d8576b"
            ],
            [
             0.6666666666666666,
             "#ed7953"
            ],
            [
             0.7777777777777778,
             "#fb9f3a"
            ],
            [
             0.8888888888888888,
             "#fdca26"
            ],
            [
             1,
             "#f0f921"
            ]
           ]
          },
          "colorway": [
           "#636efa",
           "#EF553B",
           "#00cc96",
           "#ab63fa",
           "#FFA15A",
           "#19d3f3",
           "#FF6692",
           "#B6E880",
           "#FF97FF",
           "#FECB52"
          ],
          "font": {
           "color": "#2a3f5f"
          },
          "geo": {
           "bgcolor": "white",
           "lakecolor": "white",
           "landcolor": "#E5ECF6",
           "showlakes": true,
           "showland": true,
           "subunitcolor": "white"
          },
          "hoverlabel": {
           "align": "left"
          },
          "hovermode": "closest",
          "mapbox": {
           "style": "light"
          },
          "paper_bgcolor": "white",
          "plot_bgcolor": "#E5ECF6",
          "polar": {
           "angularaxis": {
            "gridcolor": "white",
            "linecolor": "white",
            "ticks": ""
           },
           "bgcolor": "#E5ECF6",
           "radialaxis": {
            "gridcolor": "white",
            "linecolor": "white",
            "ticks": ""
           }
          },
          "scene": {
           "xaxis": {
            "backgroundcolor": "#E5ECF6",
            "gridcolor": "white",
            "gridwidth": 2,
            "linecolor": "white",
            "showbackground": true,
            "ticks": "",
            "zerolinecolor": "white"
           },
           "yaxis": {
            "backgroundcolor": "#E5ECF6",
            "gridcolor": "white",
            "gridwidth": 2,
            "linecolor": "white",
            "showbackground": true,
            "ticks": "",
            "zerolinecolor": "white"
           },
           "zaxis": {
            "backgroundcolor": "#E5ECF6",
            "gridcolor": "white",
            "gridwidth": 2,
            "linecolor": "white",
            "showbackground": true,
            "ticks": "",
            "zerolinecolor": "white"
           }
          },
          "shapedefaults": {
           "line": {
            "color": "#2a3f5f"
           }
          },
          "ternary": {
           "aaxis": {
            "gridcolor": "white",
            "linecolor": "white",
            "ticks": ""
           },
           "baxis": {
            "gridcolor": "white",
            "linecolor": "white",
            "ticks": ""
           },
           "bgcolor": "#E5ECF6",
           "caxis": {
            "gridcolor": "white",
            "linecolor": "white",
            "ticks": ""
           }
          },
          "title": {
           "x": 0.05
          },
          "xaxis": {
           "automargin": true,
           "gridcolor": "white",
           "linecolor": "white",
           "ticks": "",
           "title": {
            "standoff": 15
           },
           "zerolinecolor": "white",
           "zerolinewidth": 2
          },
          "yaxis": {
           "automargin": true,
           "gridcolor": "white",
           "linecolor": "white",
           "ticks": "",
           "title": {
            "standoff": 15
           },
           "zerolinecolor": "white",
           "zerolinewidth": 2
          }
         }
        },
        "title": {
         "text": "Xu hướng tần số nhiệt độ cực đoan theo năm"
        },
        "xaxis": {
         "anchor": "y",
         "domain": [
          0,
          1
         ],
         "title": {
          "text": "Năm"
         }
        },
        "yaxis": {
         "anchor": "x",
         "domain": [
          0,
          1
         ],
         "title": {
          "text": "Tần số xuất hiện"
         }
        }
       }
      }
     },
     "metadata": {},
     "output_type": "display_data"
    }
   ],
   "source": [
    "fig = px.line(\n",
    "    df1,\n",
    "    x='YEAR',\n",
    "    y=['frequency_hot', 'frequency_cold'],\n",
    "    labels={'value': 'Tần số xuất hiện', 'YEAR': 'Năm'},\n",
    "    title='Xu hướng tần số nhiệt độ cực đoan theo năm',\n",
    "    markers=True,\n",
    "    color_discrete_sequence=['salmon', 'skyblue']\n",
    ")\n",
    "fig.show()\n"
   ]
  },
  {
   "cell_type": "code",
   "execution_count": 41,
   "metadata": {},
   "outputs": [
    {
     "data": {
      "image/png": "[encoded data removed]",
      "text/plain": [
       "<Figure size 1000x600 with 1 Axes>"
      ]
     },
     "metadata": {},
     "output_type": "display_data"
    }
   ],
   "source": [
    "plt.figure(figsize=(10, 6))\n",
    "sns.histplot(df['TAVG'], kde=True, color='blue', bins=10, stat='density', linewidth=0)\n",
    "\n",
    "# Tính toán các tham số cho phân phối chuẩn (mean và std dev)\n",
    "mean = df1['TAVG'].mean()\n",
    "std_dev = df1['TAVG'].std()\n",
    "\n",
    "# Vẽ đường phân phối chuẩn\n",
    "xmin, xmax = plt.xlim()  # Lấy phạm vi của trục x\n",
    "x = np.linspace(xmin, xmax, 100)\n",
    "p = norm.pdf(x, mean, std_dev)\n",
    "plt.plot(x, p, 'k', linewidth=2)\n",
    "\n",
    "# Thêm tiêu đề và nhãn\n",
    "plt.title('Phân phối Nhiệt độ Trung bình theo Năm')\n",
    "plt.xlabel('Nhiệt độ Trung bình (°C)')\n",
    "plt.ylabel('Mật độ')\n",
    "\n",
    "# Hiển thị đồ thị\n",
    "plt.show()"
   ]
  },
  {
   "cell_type": "code",
   "execution_count": 42,
   "metadata": {},
   "outputs": [],
   "source": [
    "check =(df['ISOUTLIER'] == False) & (df['ISOUTLIER_MAX'] == False) & (df['ISOUTLIER_MIN'] == False)\n",
    "corr = df[check]\n",
    "df_corr = corr.groupby(['MONTH','YEAR'])['TAVG'].mean().reset_index()\n",
    "df_corr1 = corr.groupby(['MONTH','YEAR'])['TMIN'].min().reset_index()\n",
    "df_corr2 = corr.groupby(['MONTH','YEAR'])['TMAX'].max().reset_index()\n",
    "df_corr3 = corr.groupby(['MONTH','YEAR'])['PRCP'].sum().reset_index()\n",
    "df_corr = df_corr.merge(df_corr1,on=['YEAR','MONTH'],how='left')\n",
    "df_corr = df_corr.merge(df_corr2,on=['YEAR','MONTH'],how='left')\n",
    "df_corr = df_corr.merge(df_corr3,on=['YEAR','MONTH'],how='left')\n",
    "df_corr = df_corr[df_corr['YEAR'].isin([2021,2022,2023,2024])]\n",
    "df_corr.columns = df_corr.columns.str.lower()\n",
    "df_corr.to_csv('correlate.csv',index=False)"
   ]
  },
  {
   "cell_type": "markdown",
   "metadata": {},
   "source": [
    "11. DỰ BÁO NHIỆT ĐỘ"
   ]
  },
  {
   "cell_type": "code",
   "execution_count": 43,
   "metadata": {},
   "outputs": [
    {
     "data": {
      "image/png": "[encoded data removed]",
      "text/plain": [
       "<Figure size 640x480 with 1 Axes>"
      ]
     },
     "metadata": {},
     "output_type": "display_data"
    }
   ],
   "source": [
    "sns.scatterplot(\n",
    "    data=df,\n",
    "    x = 'TAVG',\n",
    "    y = 'PRCP'\n",
    ")\n",
    "plt.show()"
   ]
  },
  {
   "cell_type": "code",
   "execution_count": 44,
   "metadata": {},
   "outputs": [
    {
     "name": "stdout",
     "output_type": "stream",
     "text": [
      "0.16800658472450541 0.31404288371394534\n"
     ]
    }
   ],
   "source": [
    "# đặt 2 vector là x và y\n",
    "x = df['TAVG'].values\n",
    "y = df['PRCP'].values\n",
    "# tìm m và b trong phương trình y = m*x+b\n",
    "N = x.shape[0] # lấy số lượng hàng của x\n",
    "m = (N*np.sum(x*y)-np.sum(x)*np.sum(y))/(N*np.sum(x**2)-(np.sum(x)**2))\n",
    "b = (np.sum(y)-m*np.sum(x))/N\n",
    "print(m,b)\n"
   ]
  },
  {
   "cell_type": "code",
   "execution_count": 45,
   "metadata": {},
   "outputs": [
    {
     "data": {
      "image/png": "[encoded data removed]",
      "text/plain": [
       "<Figure size 640x480 with 1 Axes>"
      ]
     },
     "metadata": {},
     "output_type": "display_data"
    }
   ],
   "source": [
    "# vẽ\n",
    "x_min = np.min(x)\n",
    "y_min = m*x_min+b\n",
    "x_max = np.max(x)\n",
    "y_max = m*x_max+b\n",
    "fig,ax = plt.subplots()\n",
    "sns.scatterplot(\n",
    "    data= df,\n",
    "    x = 'TAVG',\n",
    "    y = 'PRCP',\n",
    "    ax=ax,\n",
    "    alpha = 0.4\n",
    ")\n",
    "sns.lineplot(\n",
    "    x = [x_min,x_max],\n",
    "    y = [y_min,y_max],\n",
    "    linewidth = 1.5,\n",
    "    color = 'red'\n",
    ")\n",
    "plt.show()"
   ]
  },
  {
   "cell_type": "code",
   "execution_count": 46,
   "metadata": {},
   "outputs": [
    {
     "data": {
      "text/html": [
       "<div>\n",
       "<style scoped>\n",
       "    .dataframe tbody tr th:only-of-type {\n",
       "        vertical-align: middle;\n",
       "    }\n",
       "\n",
       "    .dataframe tbody tr th {\n",
       "        vertical-align: top;\n",
       "    }\n",
       "\n",
       "    .dataframe thead th {\n",
       "        text-align: right;\n",
       "    }\n",
       "</style>\n",
       "<table border=\"1\" class=\"dataframe\">\n",
       "  <thead>\n",
       "    <tr style=\"text-align: right;\">\n",
       "      <th></th>\n",
       "      <th>TAVG</th>\n",
       "      <th>TMAX</th>\n",
       "      <th>TMIN</th>\n",
       "      <th>PRCP</th>\n",
       "    </tr>\n",
       "    <tr>\n",
       "      <th>DATE</th>\n",
       "      <th></th>\n",
       "      <th></th>\n",
       "      <th></th>\n",
       "      <th></th>\n",
       "    </tr>\n",
       "  </thead>\n",
       "  <tbody>\n",
       "    <tr>\n",
       "      <th>2013-01-01</th>\n",
       "      <td>12.440000</td>\n",
       "      <td>14.540000</td>\n",
       "      <td>10.100000</td>\n",
       "      <td>0.000000</td>\n",
       "    </tr>\n",
       "    <tr>\n",
       "      <th>2013-01-02</th>\n",
       "      <td>14.440000</td>\n",
       "      <td>17.240000</td>\n",
       "      <td>10.120000</td>\n",
       "      <td>0.000000</td>\n",
       "    </tr>\n",
       "    <tr>\n",
       "      <th>2013-01-03</th>\n",
       "      <td>12.000000</td>\n",
       "      <td>14.120000</td>\n",
       "      <td>9.880000</td>\n",
       "      <td>2.134000</td>\n",
       "    </tr>\n",
       "    <tr>\n",
       "      <th>2013-01-04</th>\n",
       "      <td>10.120000</td>\n",
       "      <td>11.680000</td>\n",
       "      <td>9.000000</td>\n",
       "      <td>0.000000</td>\n",
       "    </tr>\n",
       "    <tr>\n",
       "      <th>2013-01-05</th>\n",
       "      <td>9.900000</td>\n",
       "      <td>12.220000</td>\n",
       "      <td>7.900000</td>\n",
       "      <td>0.254000</td>\n",
       "    </tr>\n",
       "    <tr>\n",
       "      <th>...</th>\n",
       "      <td>...</td>\n",
       "      <td>...</td>\n",
       "      <td>...</td>\n",
       "      <td>...</td>\n",
       "    </tr>\n",
       "    <tr>\n",
       "      <th>2024-11-26</th>\n",
       "      <td>18.133333</td>\n",
       "      <td>21.833333</td>\n",
       "      <td>15.533333</td>\n",
       "      <td>1.016667</td>\n",
       "    </tr>\n",
       "    <tr>\n",
       "      <th>2024-11-27</th>\n",
       "      <td>17.800000</td>\n",
       "      <td>19.900000</td>\n",
       "      <td>15.700000</td>\n",
       "      <td>0.000000</td>\n",
       "    </tr>\n",
       "    <tr>\n",
       "      <th>2024-11-28</th>\n",
       "      <td>17.000000</td>\n",
       "      <td>20.780000</td>\n",
       "      <td>13.380000</td>\n",
       "      <td>0.000000</td>\n",
       "    </tr>\n",
       "    <tr>\n",
       "      <th>2024-11-29</th>\n",
       "      <td>17.100000</td>\n",
       "      <td>23.880000</td>\n",
       "      <td>10.320000</td>\n",
       "      <td>0.000000</td>\n",
       "    </tr>\n",
       "    <tr>\n",
       "      <th>2024-11-30</th>\n",
       "      <td>17.580000</td>\n",
       "      <td>24.900000</td>\n",
       "      <td>11.560000</td>\n",
       "      <td>0.000000</td>\n",
       "    </tr>\n",
       "  </tbody>\n",
       "</table>\n",
       "<p>4245 rows × 4 columns</p>\n",
       "</div>"
      ],
      "text/plain": [
       "                 TAVG       TMAX       TMIN      PRCP\n",
       "DATE                                                 \n",
       "2013-01-01  12.440000  14.540000  10.100000  0.000000\n",
       "2013-01-02  14.440000  17.240000  10.120000  0.000000\n",
       "2013-01-03  12.000000  14.120000   9.880000  2.134000\n",
       "2013-01-04  10.120000  11.680000   9.000000  0.000000\n",
       "2013-01-05   9.900000  12.220000   7.900000  0.254000\n",
       "...               ...        ...        ...       ...\n",
       "2024-11-26  18.133333  21.833333  15.533333  1.016667\n",
       "2024-11-27  17.800000  19.900000  15.700000  0.000000\n",
       "2024-11-28  17.000000  20.780000  13.380000  0.000000\n",
       "2024-11-29  17.100000  23.880000  10.320000  0.000000\n",
       "2024-11-30  17.580000  24.900000  11.560000  0.000000\n",
       "\n",
       "[4245 rows x 4 columns]"
      ]
     },
     "execution_count": 46,
     "metadata": {},
     "output_type": "execute_result"
    },
    {
     "data": {
      "image/png": "[encoded data removed]",
      "text/plain": [
       "<Figure size 640x480 with 1 Axes>"
      ]
     },
     "metadata": {},
     "output_type": "display_data"
    }
   ],
   "source": [
    "df = df.groupby(['DATE'])[['TAVG','TMAX','TMIN','PRCP']].mean().reset_index()\n",
    "df['TAVG'].plot()\n",
    "df.set_index(df['DATE'],inplace=True)\n",
    "df = df.drop('DATE',axis=1)\n",
    "df"
   ]
  },
  {
   "cell_type": "code",
   "execution_count": 47,
   "metadata": {},
   "outputs": [
    {
     "data": {
      "text/html": [
       "<div>\n",
       "<style scoped>\n",
       "    .dataframe tbody tr th:only-of-type {\n",
       "        vertical-align: middle;\n",
       "    }\n",
       "\n",
       "    .dataframe tbody tr th {\n",
       "        vertical-align: top;\n",
       "    }\n",
       "\n",
       "    .dataframe thead th {\n",
       "        text-align: right;\n",
       "    }\n",
       "</style>\n",
       "<table border=\"1\" class=\"dataframe\">\n",
       "  <thead>\n",
       "    <tr style=\"text-align: right;\">\n",
       "      <th></th>\n",
       "      <th>actual</th>\n",
       "      <th>prediction</th>\n",
       "      <th>diff</th>\n",
       "    </tr>\n",
       "    <tr>\n",
       "      <th>DATE</th>\n",
       "      <th></th>\n",
       "      <th></th>\n",
       "      <th></th>\n",
       "    </tr>\n",
       "  </thead>\n",
       "  <tbody>\n",
       "    <tr>\n",
       "      <th>2013-01-02</th>\n",
       "      <td>12.00</td>\n",
       "      <td>14.440000</td>\n",
       "      <td>2.440000</td>\n",
       "    </tr>\n",
       "    <tr>\n",
       "      <th>2013-01-03</th>\n",
       "      <td>10.12</td>\n",
       "      <td>14.847375</td>\n",
       "      <td>4.727375</td>\n",
       "    </tr>\n",
       "    <tr>\n",
       "      <th>2013-01-04</th>\n",
       "      <td>9.90</td>\n",
       "      <td>16.548605</td>\n",
       "      <td>6.648605</td>\n",
       "    </tr>\n",
       "    <tr>\n",
       "      <th>2013-01-05</th>\n",
       "      <td>10.44</td>\n",
       "      <td>4.963981</td>\n",
       "      <td>5.476019</td>\n",
       "    </tr>\n",
       "    <tr>\n",
       "      <th>2013-01-06</th>\n",
       "      <td>10.90</td>\n",
       "      <td>9.681157</td>\n",
       "      <td>1.218843</td>\n",
       "    </tr>\n",
       "    <tr>\n",
       "      <th>...</th>\n",
       "      <td>...</td>\n",
       "      <td>...</td>\n",
       "      <td>...</td>\n",
       "    </tr>\n",
       "    <tr>\n",
       "      <th>2024-11-26</th>\n",
       "      <td>17.80</td>\n",
       "      <td>18.576398</td>\n",
       "      <td>0.776398</td>\n",
       "    </tr>\n",
       "    <tr>\n",
       "      <th>2024-11-27</th>\n",
       "      <td>17.00</td>\n",
       "      <td>18.267154</td>\n",
       "      <td>1.267154</td>\n",
       "    </tr>\n",
       "    <tr>\n",
       "      <th>2024-11-28</th>\n",
       "      <td>17.10</td>\n",
       "      <td>17.293089</td>\n",
       "      <td>0.193089</td>\n",
       "    </tr>\n",
       "    <tr>\n",
       "      <th>2024-11-29</th>\n",
       "      <td>17.58</td>\n",
       "      <td>16.914098</td>\n",
       "      <td>0.665902</td>\n",
       "    </tr>\n",
       "    <tr>\n",
       "      <th>2024-11-30</th>\n",
       "      <td>17.58</td>\n",
       "      <td>17.541262</td>\n",
       "      <td>0.038738</td>\n",
       "    </tr>\n",
       "  </tbody>\n",
       "</table>\n",
       "<p>4244 rows × 3 columns</p>\n",
       "</div>"
      ],
      "text/plain": [
       "            actual  prediction      diff\n",
       "DATE                                    \n",
       "2013-01-02   12.00   14.440000  2.440000\n",
       "2013-01-03   10.12   14.847375  4.727375\n",
       "2013-01-04    9.90   16.548605  6.648605\n",
       "2013-01-05   10.44    4.963981  5.476019\n",
       "2013-01-06   10.90    9.681157  1.218843\n",
       "...            ...         ...       ...\n",
       "2024-11-26   17.80   18.576398  0.776398\n",
       "2024-11-27   17.00   18.267154  1.267154\n",
       "2024-11-28   17.10   17.293089  0.193089\n",
       "2024-11-29   17.58   16.914098  0.665902\n",
       "2024-11-30   17.58   17.541262  0.038738\n",
       "\n",
       "[4244 rows x 3 columns]"
      ]
     },
     "execution_count": 47,
     "metadata": {},
     "output_type": "execute_result"
    }
   ],
   "source": [
    "df[\"target\"] = df.shift(-1)[\"TAVG\"]\n",
    "df = df.ffill()\n",
    "rr = Ridge(alpha=.1)\n",
    "predictors = df.columns[~df.columns.isin(['YEAR','MONTH','target'])]\n",
    "def backtest(weather, model, predictors, start=1, step=1):\n",
    "    all_predictions = []\n",
    "    for i in range(start, weather.shape[0], step):\n",
    "        train = weather.iloc[:i,:]\n",
    "        test = weather.iloc[i:(i+step),:]\n",
    "        \n",
    "        model.fit(train[predictors], train[\"target\"])\n",
    "        \n",
    "        preds = model.predict(test[predictors])\n",
    "        preds = pd.Series(preds, index=test.index)\n",
    "        combined = pd.concat([test[\"target\"], preds], axis=1)\n",
    "        combined.columns = [\"actual\", \"prediction\"]\n",
    "        combined[\"diff\"] = (combined[\"prediction\"] - combined[\"actual\"]).abs()\n",
    "        \n",
    "        all_predictions.append(combined)\n",
    "    return pd.concat(all_predictions)\n",
    "predictions = backtest(df, rr, predictors)\n",
    "predictions"
   ]
  },
  {
   "cell_type": "code",
   "execution_count": 48,
   "metadata": {},
   "outputs": [
    {
     "data": {
      "text/plain": [
       "1.271429511860814"
      ]
     },
     "execution_count": 48,
     "metadata": {},
     "output_type": "execute_result"
    }
   ],
   "source": [
    "mean_absolute_error(predictions[\"actual\"], predictions[\"prediction\"])"
   ]
  },
  {
   "cell_type": "code",
   "execution_count": 49,
   "metadata": {},
   "outputs": [
    {
     "data": {
      "text/html": [
       "<div>\n",
       "<style scoped>\n",
       "    .dataframe tbody tr th:only-of-type {\n",
       "        vertical-align: middle;\n",
       "    }\n",
       "\n",
       "    .dataframe tbody tr th {\n",
       "        vertical-align: top;\n",
       "    }\n",
       "\n",
       "    .dataframe thead th {\n",
       "        text-align: right;\n",
       "    }\n",
       "</style>\n",
       "<table border=\"1\" class=\"dataframe\">\n",
       "  <thead>\n",
       "    <tr style=\"text-align: right;\">\n",
       "      <th></th>\n",
       "      <th>actual</th>\n",
       "      <th>prediction</th>\n",
       "      <th>diff</th>\n",
       "    </tr>\n",
       "    <tr>\n",
       "      <th>DATE</th>\n",
       "      <th></th>\n",
       "      <th></th>\n",
       "      <th></th>\n",
       "    </tr>\n",
       "  </thead>\n",
       "  <tbody>\n",
       "    <tr>\n",
       "      <th>2017-03-24</th>\n",
       "      <td>12.800000</td>\n",
       "      <td>26.051281</td>\n",
       "      <td>13.251281</td>\n",
       "    </tr>\n",
       "    <tr>\n",
       "      <th>2021-11-07</th>\n",
       "      <td>15.600000</td>\n",
       "      <td>24.069097</td>\n",
       "      <td>8.469097</td>\n",
       "    </tr>\n",
       "    <tr>\n",
       "      <th>2013-01-31</th>\n",
       "      <td>20.120000</td>\n",
       "      <td>11.767735</td>\n",
       "      <td>8.352265</td>\n",
       "    </tr>\n",
       "    <tr>\n",
       "      <th>2018-02-21</th>\n",
       "      <td>14.750000</td>\n",
       "      <td>22.848706</td>\n",
       "      <td>8.098706</td>\n",
       "    </tr>\n",
       "    <tr>\n",
       "      <th>2022-02-18</th>\n",
       "      <td>11.340000</td>\n",
       "      <td>19.297007</td>\n",
       "      <td>7.957007</td>\n",
       "    </tr>\n",
       "    <tr>\n",
       "      <th>...</th>\n",
       "      <td>...</td>\n",
       "      <td>...</td>\n",
       "      <td>...</td>\n",
       "    </tr>\n",
       "    <tr>\n",
       "      <th>2015-05-30</th>\n",
       "      <td>29.266667</td>\n",
       "      <td>29.268514</td>\n",
       "      <td>0.001848</td>\n",
       "    </tr>\n",
       "    <tr>\n",
       "      <th>2021-07-30</th>\n",
       "      <td>28.900000</td>\n",
       "      <td>28.901809</td>\n",
       "      <td>0.001809</td>\n",
       "    </tr>\n",
       "    <tr>\n",
       "      <th>2018-03-29</th>\n",
       "      <td>23.000000</td>\n",
       "      <td>23.001595</td>\n",
       "      <td>0.001595</td>\n",
       "    </tr>\n",
       "    <tr>\n",
       "      <th>2013-06-21</th>\n",
       "      <td>29.340000</td>\n",
       "      <td>29.340783</td>\n",
       "      <td>0.000783</td>\n",
       "    </tr>\n",
       "    <tr>\n",
       "      <th>2024-04-03</th>\n",
       "      <td>28.200000</td>\n",
       "      <td>28.200568</td>\n",
       "      <td>0.000568</td>\n",
       "    </tr>\n",
       "  </tbody>\n",
       "</table>\n",
       "<p>4244 rows × 3 columns</p>\n",
       "</div>"
      ],
      "text/plain": [
       "               actual  prediction       diff\n",
       "DATE                                        \n",
       "2017-03-24  12.800000   26.051281  13.251281\n",
       "2021-11-07  15.600000   24.069097   8.469097\n",
       "2013-01-31  20.120000   11.767735   8.352265\n",
       "2018-02-21  14.750000   22.848706   8.098706\n",
       "2022-02-18  11.340000   19.297007   7.957007\n",
       "...               ...         ...        ...\n",
       "2015-05-30  29.266667   29.268514   0.001848\n",
       "2021-07-30  28.900000   28.901809   0.001809\n",
       "2018-03-29  23.000000   23.001595   0.001595\n",
       "2013-06-21  29.340000   29.340783   0.000783\n",
       "2024-04-03  28.200000   28.200568   0.000568\n",
       "\n",
       "[4244 rows x 3 columns]"
      ]
     },
     "execution_count": 49,
     "metadata": {},
     "output_type": "execute_result"
    }
   ],
   "source": [
    "predictions.sort_values(\"diff\", ascending=False)"
   ]
  },
  {
   "cell_type": "code",
   "execution_count": 50,
   "metadata": {},
   "outputs": [
    {
     "data": {
      "text/plain": [
       "TAVG    0.705566\n",
       "TMAX    0.046260\n",
       "TMIN    0.193397\n",
       "PRCP    0.015892\n",
       "dtype: float64"
      ]
     },
     "execution_count": 50,
     "metadata": {},
     "output_type": "execute_result"
    }
   ],
   "source": [
    "pd.Series(rr.coef_, index=predictors)"
   ]
  },
  {
   "cell_type": "code",
   "execution_count": 51,
   "metadata": {},
   "outputs": [],
   "source": [
    "def pct_diff(old, new):\n",
    "    return (new - old) / old\n",
    "\n",
    "def compute_rolling(weather, horizon, col):\n",
    "    label = f\"rolling_{horizon}_{col}\"\n",
    "    weather[label] = weather[col].rolling(horizon).mean()\n",
    "    weather[f\"{label}_pct\"] = pct_diff(weather[label], weather[col])\n",
    "    return weather\n",
    "    \n",
    "rolling_horizons = [3, 14]\n",
    "for horizon in rolling_horizons:\n",
    "    for col in [\"TMAX\", \"TMIN\", \"PRCP\",'TAVG']:\n",
    "        df = compute_rolling(df, horizon, col)"
   ]
  },
  {
   "cell_type": "code",
   "execution_count": 52,
   "metadata": {},
   "outputs": [],
   "source": [
    "def expand_mean(df):\n",
    "    return df.expanding(1).mean()\n",
    "df.index = pd.to_datetime(df.index)\n",
    "for col in [\"TMAX\", \"TMIN\", \"PRCP\",'TAVG']:\n",
    "    df[f\"month_avg_{col}\"] = df[col].groupby(df.index.month, group_keys=False).apply(expand_mean)\n",
    "    df[f\"day_avg_{col}\"] = df[col].groupby(df.index.day_of_year, group_keys=False).apply(expand_mean)"
   ]
  },
  {
   "cell_type": "code",
   "execution_count": 53,
   "metadata": {},
   "outputs": [
    {
     "data": {
      "text/html": [
       "<div>\n",
       "<style scoped>\n",
       "    .dataframe tbody tr th:only-of-type {\n",
       "        vertical-align: middle;\n",
       "    }\n",
       "\n",
       "    .dataframe tbody tr th {\n",
       "        vertical-align: top;\n",
       "    }\n",
       "\n",
       "    .dataframe thead th {\n",
       "        text-align: right;\n",
       "    }\n",
       "</style>\n",
       "<table border=\"1\" class=\"dataframe\">\n",
       "  <thead>\n",
       "    <tr style=\"text-align: right;\">\n",
       "      <th></th>\n",
       "      <th>TAVG</th>\n",
       "      <th>TMAX</th>\n",
       "      <th>TMIN</th>\n",
       "      <th>PRCP</th>\n",
       "      <th>target</th>\n",
       "      <th>rolling_3_TMAX</th>\n",
       "      <th>rolling_3_TMAX_pct</th>\n",
       "      <th>rolling_3_TMIN</th>\n",
       "      <th>rolling_3_TMIN_pct</th>\n",
       "      <th>rolling_3_PRCP</th>\n",
       "      <th>...</th>\n",
       "      <th>rolling_14_TAVG</th>\n",
       "      <th>rolling_14_TAVG_pct</th>\n",
       "      <th>month_avg_TMAX</th>\n",
       "      <th>day_avg_TMAX</th>\n",
       "      <th>month_avg_TMIN</th>\n",
       "      <th>day_avg_TMIN</th>\n",
       "      <th>month_avg_PRCP</th>\n",
       "      <th>day_avg_PRCP</th>\n",
       "      <th>month_avg_TAVG</th>\n",
       "      <th>day_avg_TAVG</th>\n",
       "    </tr>\n",
       "    <tr>\n",
       "      <th>DATE</th>\n",
       "      <th></th>\n",
       "      <th></th>\n",
       "      <th></th>\n",
       "      <th></th>\n",
       "      <th></th>\n",
       "      <th></th>\n",
       "      <th></th>\n",
       "      <th></th>\n",
       "      <th></th>\n",
       "      <th></th>\n",
       "      <th></th>\n",
       "      <th></th>\n",
       "      <th></th>\n",
       "      <th></th>\n",
       "      <th></th>\n",
       "      <th></th>\n",
       "      <th></th>\n",
       "      <th></th>\n",
       "      <th></th>\n",
       "      <th></th>\n",
       "      <th></th>\n",
       "    </tr>\n",
       "  </thead>\n",
       "  <tbody>\n",
       "    <tr>\n",
       "      <th>2013-01-15</th>\n",
       "      <td>14.560000</td>\n",
       "      <td>15.900000</td>\n",
       "      <td>13.000000</td>\n",
       "      <td>0.456000</td>\n",
       "      <td>16.00</td>\n",
       "      <td>16.633333</td>\n",
       "      <td>-0.044088</td>\n",
       "      <td>10.140000</td>\n",
       "      <td>0.282051</td>\n",
       "      <td>0.152000</td>\n",
       "      <td>...</td>\n",
       "      <td>11.667143</td>\n",
       "      <td>0.247949</td>\n",
       "      <td>13.882667</td>\n",
       "      <td>15.900000</td>\n",
       "      <td>9.526667</td>\n",
       "      <td>13.000000</td>\n",
       "      <td>0.334933</td>\n",
       "      <td>0.456000</td>\n",
       "      <td>11.718667</td>\n",
       "      <td>14.560000</td>\n",
       "    </tr>\n",
       "    <tr>\n",
       "      <th>2013-01-16</th>\n",
       "      <td>16.000000</td>\n",
       "      <td>18.220000</td>\n",
       "      <td>13.980000</td>\n",
       "      <td>0.408000</td>\n",
       "      <td>15.12</td>\n",
       "      <td>16.746667</td>\n",
       "      <td>0.087978</td>\n",
       "      <td>12.246667</td>\n",
       "      <td>0.141535</td>\n",
       "      <td>0.288000</td>\n",
       "      <td>...</td>\n",
       "      <td>11.778571</td>\n",
       "      <td>0.358399</td>\n",
       "      <td>14.153750</td>\n",
       "      <td>18.220000</td>\n",
       "      <td>9.805000</td>\n",
       "      <td>13.980000</td>\n",
       "      <td>0.339500</td>\n",
       "      <td>0.408000</td>\n",
       "      <td>11.986250</td>\n",
       "      <td>16.000000</td>\n",
       "    </tr>\n",
       "    <tr>\n",
       "      <th>2013-01-17</th>\n",
       "      <td>15.120000</td>\n",
       "      <td>17.340000</td>\n",
       "      <td>12.900000</td>\n",
       "      <td>2.386000</td>\n",
       "      <td>13.34</td>\n",
       "      <td>17.153333</td>\n",
       "      <td>0.010882</td>\n",
       "      <td>13.293333</td>\n",
       "      <td>-0.029589</td>\n",
       "      <td>1.083333</td>\n",
       "      <td>...</td>\n",
       "      <td>12.001429</td>\n",
       "      <td>0.259850</td>\n",
       "      <td>14.341176</td>\n",
       "      <td>17.340000</td>\n",
       "      <td>9.987059</td>\n",
       "      <td>12.900000</td>\n",
       "      <td>0.459882</td>\n",
       "      <td>2.386000</td>\n",
       "      <td>12.170588</td>\n",
       "      <td>15.120000</td>\n",
       "    </tr>\n",
       "    <tr>\n",
       "      <th>2013-01-18</th>\n",
       "      <td>13.340000</td>\n",
       "      <td>15.120000</td>\n",
       "      <td>11.780000</td>\n",
       "      <td>0.204000</td>\n",
       "      <td>14.46</td>\n",
       "      <td>16.893333</td>\n",
       "      <td>-0.104972</td>\n",
       "      <td>12.886667</td>\n",
       "      <td>-0.085877</td>\n",
       "      <td>0.999333</td>\n",
       "      <td>...</td>\n",
       "      <td>12.231429</td>\n",
       "      <td>0.090633</td>\n",
       "      <td>14.384444</td>\n",
       "      <td>15.120000</td>\n",
       "      <td>10.086667</td>\n",
       "      <td>11.780000</td>\n",
       "      <td>0.445667</td>\n",
       "      <td>0.204000</td>\n",
       "      <td>12.235556</td>\n",
       "      <td>13.340000</td>\n",
       "    </tr>\n",
       "    <tr>\n",
       "      <th>2013-01-19</th>\n",
       "      <td>14.460000</td>\n",
       "      <td>17.760000</td>\n",
       "      <td>11.140000</td>\n",
       "      <td>0.000000</td>\n",
       "      <td>17.36</td>\n",
       "      <td>16.740000</td>\n",
       "      <td>0.060932</td>\n",
       "      <td>11.940000</td>\n",
       "      <td>-0.067002</td>\n",
       "      <td>0.863333</td>\n",
       "      <td>...</td>\n",
       "      <td>12.557143</td>\n",
       "      <td>0.151536</td>\n",
       "      <td>14.562105</td>\n",
       "      <td>17.760000</td>\n",
       "      <td>10.142105</td>\n",
       "      <td>11.140000</td>\n",
       "      <td>0.422211</td>\n",
       "      <td>0.000000</td>\n",
       "      <td>12.352632</td>\n",
       "      <td>14.460000</td>\n",
       "    </tr>\n",
       "    <tr>\n",
       "      <th>...</th>\n",
       "      <td>...</td>\n",
       "      <td>...</td>\n",
       "      <td>...</td>\n",
       "      <td>...</td>\n",
       "      <td>...</td>\n",
       "      <td>...</td>\n",
       "      <td>...</td>\n",
       "      <td>...</td>\n",
       "      <td>...</td>\n",
       "      <td>...</td>\n",
       "      <td>...</td>\n",
       "      <td>...</td>\n",
       "      <td>...</td>\n",
       "      <td>...</td>\n",
       "      <td>...</td>\n",
       "      <td>...</td>\n",
       "      <td>...</td>\n",
       "      <td>...</td>\n",
       "      <td>...</td>\n",
       "      <td>...</td>\n",
       "      <td>...</td>\n",
       "    </tr>\n",
       "    <tr>\n",
       "      <th>2024-11-26</th>\n",
       "      <td>18.133333</td>\n",
       "      <td>21.833333</td>\n",
       "      <td>15.533333</td>\n",
       "      <td>1.016667</td>\n",
       "      <td>17.80</td>\n",
       "      <td>23.684444</td>\n",
       "      <td>-0.078157</td>\n",
       "      <td>16.697778</td>\n",
       "      <td>-0.069736</td>\n",
       "      <td>0.338889</td>\n",
       "      <td>...</td>\n",
       "      <td>22.552976</td>\n",
       "      <td>-0.195967</td>\n",
       "      <td>25.388714</td>\n",
       "      <td>24.006111</td>\n",
       "      <td>17.654017</td>\n",
       "      <td>16.311944</td>\n",
       "      <td>1.680556</td>\n",
       "      <td>0.410681</td>\n",
       "      <td>21.460063</td>\n",
       "      <td>20.068194</td>\n",
       "    </tr>\n",
       "    <tr>\n",
       "      <th>2024-11-27</th>\n",
       "      <td>17.800000</td>\n",
       "      <td>19.900000</td>\n",
       "      <td>15.700000</td>\n",
       "      <td>0.000000</td>\n",
       "      <td>17.00</td>\n",
       "      <td>22.911111</td>\n",
       "      <td>-0.131426</td>\n",
       "      <td>16.451111</td>\n",
       "      <td>-0.045657</td>\n",
       "      <td>0.338889</td>\n",
       "      <td>...</td>\n",
       "      <td>22.294405</td>\n",
       "      <td>-0.201593</td>\n",
       "      <td>25.372896</td>\n",
       "      <td>23.618056</td>\n",
       "      <td>17.648386</td>\n",
       "      <td>15.933333</td>\n",
       "      <td>1.675713</td>\n",
       "      <td>0.211667</td>\n",
       "      <td>21.449515</td>\n",
       "      <td>19.630694</td>\n",
       "    </tr>\n",
       "    <tr>\n",
       "      <th>2024-11-28</th>\n",
       "      <td>17.000000</td>\n",
       "      <td>20.780000</td>\n",
       "      <td>13.380000</td>\n",
       "      <td>0.000000</td>\n",
       "      <td>17.10</td>\n",
       "      <td>20.837778</td>\n",
       "      <td>-0.002773</td>\n",
       "      <td>14.871111</td>\n",
       "      <td>-0.100269</td>\n",
       "      <td>0.338889</td>\n",
       "      <td>...</td>\n",
       "      <td>21.860476</td>\n",
       "      <td>-0.222341</td>\n",
       "      <td>25.359698</td>\n",
       "      <td>24.142778</td>\n",
       "      <td>17.636121</td>\n",
       "      <td>16.233333</td>\n",
       "      <td>1.670898</td>\n",
       "      <td>0.025500</td>\n",
       "      <td>21.436729</td>\n",
       "      <td>20.077222</td>\n",
       "    </tr>\n",
       "    <tr>\n",
       "      <th>2024-11-29</th>\n",
       "      <td>17.100000</td>\n",
       "      <td>23.880000</td>\n",
       "      <td>10.320000</td>\n",
       "      <td>0.000000</td>\n",
       "      <td>17.58</td>\n",
       "      <td>21.520000</td>\n",
       "      <td>0.109665</td>\n",
       "      <td>13.133333</td>\n",
       "      <td>-0.214213</td>\n",
       "      <td>0.000000</td>\n",
       "      <td>...</td>\n",
       "      <td>21.399048</td>\n",
       "      <td>-0.200899</td>\n",
       "      <td>25.355458</td>\n",
       "      <td>24.668939</td>\n",
       "      <td>17.615158</td>\n",
       "      <td>15.688939</td>\n",
       "      <td>1.666110</td>\n",
       "      <td>0.290303</td>\n",
       "      <td>21.424303</td>\n",
       "      <td>20.158939</td>\n",
       "    </tr>\n",
       "    <tr>\n",
       "      <th>2024-11-30</th>\n",
       "      <td>17.580000</td>\n",
       "      <td>24.900000</td>\n",
       "      <td>11.560000</td>\n",
       "      <td>0.000000</td>\n",
       "      <td>17.58</td>\n",
       "      <td>23.186667</td>\n",
       "      <td>0.073893</td>\n",
       "      <td>11.753333</td>\n",
       "      <td>-0.016449</td>\n",
       "      <td>0.000000</td>\n",
       "      <td>...</td>\n",
       "      <td>20.931905</td>\n",
       "      <td>-0.160134</td>\n",
       "      <td>25.354157</td>\n",
       "      <td>22.711364</td>\n",
       "      <td>17.597857</td>\n",
       "      <td>14.923485</td>\n",
       "      <td>1.661350</td>\n",
       "      <td>1.437227</td>\n",
       "      <td>21.413319</td>\n",
       "      <td>18.743788</td>\n",
       "    </tr>\n",
       "  </tbody>\n",
       "</table>\n",
       "<p>4231 rows × 29 columns</p>\n",
       "</div>"
      ],
      "text/plain": [
       "                 TAVG       TMAX       TMIN      PRCP  target  rolling_3_TMAX  \\\n",
       "DATE                                                                            \n",
       "2013-01-15  14.560000  15.900000  13.000000  0.456000   16.00       16.633333   \n",
       "2013-01-16  16.000000  18.220000  13.980000  0.408000   15.12       16.746667   \n",
       "2013-01-17  15.120000  17.340000  12.900000  2.386000   13.34       17.153333   \n",
       "2013-01-18  13.340000  15.120000  11.780000  0.204000   14.46       16.893333   \n",
       "2013-01-19  14.460000  17.760000  11.140000  0.000000   17.36       16.740000   \n",
       "...               ...        ...        ...       ...     ...             ...   \n",
       "2024-11-26  18.133333  21.833333  15.533333  1.016667   17.80       23.684444   \n",
       "2024-11-27  17.800000  19.900000  15.700000  0.000000   17.00       22.911111   \n",
       "2024-11-28  17.000000  20.780000  13.380000  0.000000   17.10       20.837778   \n",
       "2024-11-29  17.100000  23.880000  10.320000  0.000000   17.58       21.520000   \n",
       "2024-11-30  17.580000  24.900000  11.560000  0.000000   17.58       23.186667   \n",
       "\n",
       "            rolling_3_TMAX_pct  rolling_3_TMIN  rolling_3_TMIN_pct  \\\n",
       "DATE                                                                 \n",
       "2013-01-15           -0.044088       10.140000            0.282051   \n",
       "2013-01-16            0.087978       12.246667            0.141535   \n",
       "2013-01-17            0.010882       13.293333           -0.029589   \n",
       "2013-01-18           -0.104972       12.886667           -0.085877   \n",
       "2013-01-19            0.060932       11.940000           -0.067002   \n",
       "...                        ...             ...                 ...   \n",
       "2024-11-26           -0.078157       16.697778           -0.069736   \n",
       "2024-11-27           -0.131426       16.451111           -0.045657   \n",
       "2024-11-28           -0.002773       14.871111           -0.100269   \n",
       "2024-11-29            0.109665       13.133333           -0.214213   \n",
       "2024-11-30            0.073893       11.753333           -0.016449   \n",
       "\n",
       "            rolling_3_PRCP  ...  rolling_14_TAVG  rolling_14_TAVG_pct  \\\n",
       "DATE                        ...                                         \n",
       "2013-01-15        0.152000  ...        11.667143             0.247949   \n",
       "2013-01-16        0.288000  ...        11.778571             0.358399   \n",
       "2013-01-17        1.083333  ...        12.001429             0.259850   \n",
       "2013-01-18        0.999333  ...        12.231429             0.090633   \n",
       "2013-01-19        0.863333  ...        12.557143             0.151536   \n",
       "...                    ...  ...              ...                  ...   \n",
       "2024-11-26        0.338889  ...        22.552976            -0.195967   \n",
       "2024-11-27        0.338889  ...        22.294405            -0.201593   \n",
       "2024-11-28        0.338889  ...        21.860476            -0.222341   \n",
       "2024-11-29        0.000000  ...        21.399048            -0.200899   \n",
       "2024-11-30        0.000000  ...        20.931905            -0.160134   \n",
       "\n",
       "            month_avg_TMAX  day_avg_TMAX  month_avg_TMIN  day_avg_TMIN  \\\n",
       "DATE                                                                     \n",
       "2013-01-15       13.882667     15.900000        9.526667     13.000000   \n",
       "2013-01-16       14.153750     18.220000        9.805000     13.980000   \n",
       "2013-01-17       14.341176     17.340000        9.987059     12.900000   \n",
       "2013-01-18       14.384444     15.120000       10.086667     11.780000   \n",
       "2013-01-19       14.562105     17.760000       10.142105     11.140000   \n",
       "...                    ...           ...             ...           ...   \n",
       "2024-11-26       25.388714     24.006111       17.654017     16.311944   \n",
       "2024-11-27       25.372896     23.618056       17.648386     15.933333   \n",
       "2024-11-28       25.359698     24.142778       17.636121     16.233333   \n",
       "2024-11-29       25.355458     24.668939       17.615158     15.688939   \n",
       "2024-11-30       25.354157     22.711364       17.597857     14.923485   \n",
       "\n",
       "            month_avg_PRCP  day_avg_PRCP  month_avg_TAVG  day_avg_TAVG  \n",
       "DATE                                                                    \n",
       "2013-01-15        0.334933      0.456000       11.718667     14.560000  \n",
       "2013-01-16        0.339500      0.408000       11.986250     16.000000  \n",
       "2013-01-17        0.459882      2.386000       12.170588     15.120000  \n",
       "2013-01-18        0.445667      0.204000       12.235556     13.340000  \n",
       "2013-01-19        0.422211      0.000000       12.352632     14.460000  \n",
       "...                    ...           ...             ...           ...  \n",
       "2024-11-26        1.680556      0.410681       21.460063     20.068194  \n",
       "2024-11-27        1.675713      0.211667       21.449515     19.630694  \n",
       "2024-11-28        1.670898      0.025500       21.436729     20.077222  \n",
       "2024-11-29        1.666110      0.290303       21.424303     20.158939  \n",
       "2024-11-30        1.661350      1.437227       21.413319     18.743788  \n",
       "\n",
       "[4231 rows x 29 columns]"
      ]
     },
     "execution_count": 53,
     "metadata": {},
     "output_type": "execute_result"
    }
   ],
   "source": [
    "df = df.iloc[14:,:]\n",
    "df = df.fillna(0)\n",
    "df"
   ]
  },
  {
   "cell_type": "code",
   "execution_count": 54,
   "metadata": {},
   "outputs": [
    {
     "data": {
      "text/plain": [
       "1.2722044770826262"
      ]
     },
     "execution_count": 54,
     "metadata": {},
     "output_type": "execute_result"
    }
   ],
   "source": [
    "predictions = backtest(df, rr, predictors)\n",
    "mean_absolute_error(predictions[\"actual\"], predictions[\"prediction\"])"
   ]
  },
  {
   "cell_type": "code",
   "execution_count": 55,
   "metadata": {},
   "outputs": [
    {
     "data": {
      "text/plain": [
       "2.9407473616794877"
      ]
     },
     "execution_count": 55,
     "metadata": {},
     "output_type": "execute_result"
    }
   ],
   "source": [
    "mean_squared_error(predictions[\"actual\"], predictions[\"prediction\"])"
   ]
  },
  {
   "cell_type": "code",
   "execution_count": 56,
   "metadata": {},
   "outputs": [
    {
     "data": {
      "text/html": [
       "<div>\n",
       "<style scoped>\n",
       "    .dataframe tbody tr th:only-of-type {\n",
       "        vertical-align: middle;\n",
       "    }\n",
       "\n",
       "    .dataframe tbody tr th {\n",
       "        vertical-align: top;\n",
       "    }\n",
       "\n",
       "    .dataframe thead th {\n",
       "        text-align: right;\n",
       "    }\n",
       "</style>\n",
       "<table border=\"1\" class=\"dataframe\">\n",
       "  <thead>\n",
       "    <tr style=\"text-align: right;\">\n",
       "      <th></th>\n",
       "      <th>actual</th>\n",
       "      <th>prediction</th>\n",
       "      <th>diff</th>\n",
       "    </tr>\n",
       "    <tr>\n",
       "      <th>DATE</th>\n",
       "      <th></th>\n",
       "      <th></th>\n",
       "      <th></th>\n",
       "    </tr>\n",
       "  </thead>\n",
       "  <tbody>\n",
       "    <tr>\n",
       "      <th>2017-03-24</th>\n",
       "      <td>12.800</td>\n",
       "      <td>26.048038</td>\n",
       "      <td>13.248038</td>\n",
       "    </tr>\n",
       "    <tr>\n",
       "      <th>2013-01-31</th>\n",
       "      <td>20.120</td>\n",
       "      <td>7.371652</td>\n",
       "      <td>12.748348</td>\n",
       "    </tr>\n",
       "    <tr>\n",
       "      <th>2021-11-07</th>\n",
       "      <td>15.600</td>\n",
       "      <td>24.066371</td>\n",
       "      <td>8.466371</td>\n",
       "    </tr>\n",
       "    <tr>\n",
       "      <th>2018-02-21</th>\n",
       "      <td>14.750</td>\n",
       "      <td>22.845358</td>\n",
       "      <td>8.095358</td>\n",
       "    </tr>\n",
       "    <tr>\n",
       "      <th>2022-02-18</th>\n",
       "      <td>11.340</td>\n",
       "      <td>19.303831</td>\n",
       "      <td>7.963831</td>\n",
       "    </tr>\n",
       "    <tr>\n",
       "      <th>...</th>\n",
       "      <td>...</td>\n",
       "      <td>...</td>\n",
       "      <td>...</td>\n",
       "    </tr>\n",
       "    <tr>\n",
       "      <th>2021-07-30</th>\n",
       "      <td>28.900</td>\n",
       "      <td>28.899034</td>\n",
       "      <td>0.000966</td>\n",
       "    </tr>\n",
       "    <tr>\n",
       "      <th>2016-04-19</th>\n",
       "      <td>23.220</td>\n",
       "      <td>23.219495</td>\n",
       "      <td>0.000505</td>\n",
       "    </tr>\n",
       "    <tr>\n",
       "      <th>2017-01-19</th>\n",
       "      <td>16.500</td>\n",
       "      <td>16.500497</td>\n",
       "      <td>0.000497</td>\n",
       "    </tr>\n",
       "    <tr>\n",
       "      <th>2014-01-25</th>\n",
       "      <td>17.220</td>\n",
       "      <td>17.220481</td>\n",
       "      <td>0.000481</td>\n",
       "    </tr>\n",
       "    <tr>\n",
       "      <th>2021-02-04</th>\n",
       "      <td>19.425</td>\n",
       "      <td>19.425275</td>\n",
       "      <td>0.000275</td>\n",
       "    </tr>\n",
       "  </tbody>\n",
       "</table>\n",
       "<p>4230 rows × 3 columns</p>\n",
       "</div>"
      ],
      "text/plain": [
       "            actual  prediction       diff\n",
       "DATE                                     \n",
       "2017-03-24  12.800   26.048038  13.248038\n",
       "2013-01-31  20.120    7.371652  12.748348\n",
       "2021-11-07  15.600   24.066371   8.466371\n",
       "2018-02-21  14.750   22.845358   8.095358\n",
       "2022-02-18  11.340   19.303831   7.963831\n",
       "...            ...         ...        ...\n",
       "2021-07-30  28.900   28.899034   0.000966\n",
       "2016-04-19  23.220   23.219495   0.000505\n",
       "2017-01-19  16.500   16.500497   0.000497\n",
       "2014-01-25  17.220   17.220481   0.000481\n",
       "2021-02-04  19.425   19.425275   0.000275\n",
       "\n",
       "[4230 rows x 3 columns]"
      ]
     },
     "execution_count": 56,
     "metadata": {},
     "output_type": "execute_result"
    }
   ],
   "source": [
    "predictions.sort_values(\"diff\", ascending=False)"
   ]
  },
  {
   "cell_type": "code",
   "execution_count": 57,
   "metadata": {},
   "outputs": [
    {
     "data": {
      "text/plain": [
       "<Axes: xlabel='diff'>"
      ]
     },
     "execution_count": 57,
     "metadata": {},
     "output_type": "execute_result"
    },
    {
     "data": {
      "image/png": "[encoded data removed]",
      "text/plain": [
       "<Figure size 640x480 with 1 Axes>"
      ]
     },
     "metadata": {},
     "output_type": "display_data"
    }
   ],
   "source": [
    "(predictions[\"diff\"].round().value_counts().sort_index() / predictions.shape[0]).plot()"
   ]
  },
  {
   "cell_type": "code",
   "execution_count": 58,
   "metadata": {},
   "outputs": [
    {
     "data": {
      "text/plain": [
       "<Axes: xlabel='DATE'>"
      ]
     },
     "execution_count": 58,
     "metadata": {},
     "output_type": "execute_result"
    },
    {
     "data": {
      "image/png": "[encoded data removed]",
      "text/plain": [
       "<Figure size 640x480 with 1 Axes>"
      ]
     },
     "metadata": {},
     "output_type": "display_data"
    }
   ],
   "source": [
    "predictions[['actual','prediction']].plot()"
   ]
  }
 ],
 "metadata": {
  "kernelspec": {
   "display_name": "Python 3",
   "language": "python",
   "name": "python3"
  },
  "language_info": {
   "codemirror_mode": {
    "name": "ipython",
    "version": 3
   },
   "file_extension": ".py",
   "mimetype": "text/x-python",
   "name": "python",
   "nbconvert_exporter": "python",
   "pygments_lexer": "ipython3",
   "version": "3.12.8"
  }
 },
 "nbformat": 4,
 "nbformat_minor": 2
}
