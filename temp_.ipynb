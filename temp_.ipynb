{
 "cells": [
  {
   "cell_type": "markdown",
   "metadata": {},
   "source": [
    "1. ĐỌC FILE DỮ LIỆU CSV"
   ]
  },
  {
   "cell_type": "code",
   "execution_count": 225,
   "metadata": {},
   "outputs": [
    {
     "data": {
      "text/html": [
       "<div>\n",
       "<style scoped>\n",
       "    .dataframe tbody tr th:only-of-type {\n",
       "        vertical-align: middle;\n",
       "    }\n",
       "\n",
       "    .dataframe tbody tr th {\n",
       "        vertical-align: top;\n",
       "    }\n",
       "\n",
       "    .dataframe thead th {\n",
       "        text-align: right;\n",
       "    }\n",
       "</style>\n",
       "<table border=\"1\" class=\"dataframe\">\n",
       "  <thead>\n",
       "    <tr style=\"text-align: right;\">\n",
       "      <th></th>\n",
       "      <th>DATE</th>\n",
       "      <th>STATION</th>\n",
       "      <th>TMAX</th>\n",
       "      <th>TMIN</th>\n",
       "      <th>TAVG</th>\n",
       "      <th>PRCP</th>\n",
       "      <th>YEAR</th>\n",
       "      <th>MONTH</th>\n",
       "      <th>SEASON</th>\n",
       "    </tr>\n",
       "  </thead>\n",
       "  <tbody>\n",
       "    <tr>\n",
       "      <th>0</th>\n",
       "      <td>2013-01-01</td>\n",
       "      <td>VMM00048840</td>\n",
       "      <td>61</td>\n",
       "      <td>54</td>\n",
       "      <td>59</td>\n",
       "      <td>0.00</td>\n",
       "      <td>2013</td>\n",
       "      <td>1</td>\n",
       "      <td>Winter</td>\n",
       "    </tr>\n",
       "    <tr>\n",
       "      <th>1</th>\n",
       "      <td>2013-01-04</td>\n",
       "      <td>VMM00048840</td>\n",
       "      <td>59</td>\n",
       "      <td>54</td>\n",
       "      <td>56</td>\n",
       "      <td>0.00</td>\n",
       "      <td>2013</td>\n",
       "      <td>1</td>\n",
       "      <td>Winter</td>\n",
       "    </tr>\n",
       "    <tr>\n",
       "      <th>2</th>\n",
       "      <td>2013-01-05</td>\n",
       "      <td>VMM00048840</td>\n",
       "      <td>56</td>\n",
       "      <td>52</td>\n",
       "      <td>54</td>\n",
       "      <td>0.01</td>\n",
       "      <td>2013</td>\n",
       "      <td>1</td>\n",
       "      <td>Winter</td>\n",
       "    </tr>\n",
       "    <tr>\n",
       "      <th>3</th>\n",
       "      <td>2013-01-06</td>\n",
       "      <td>VMM00048840</td>\n",
       "      <td>54</td>\n",
       "      <td>52</td>\n",
       "      <td>53</td>\n",
       "      <td>0.05</td>\n",
       "      <td>2013</td>\n",
       "      <td>1</td>\n",
       "      <td>Winter</td>\n",
       "    </tr>\n",
       "    <tr>\n",
       "      <th>4</th>\n",
       "      <td>2013-01-07</td>\n",
       "      <td>VMM00048840</td>\n",
       "      <td>57</td>\n",
       "      <td>53</td>\n",
       "      <td>55</td>\n",
       "      <td>0.00</td>\n",
       "      <td>2013</td>\n",
       "      <td>1</td>\n",
       "      <td>Winter</td>\n",
       "    </tr>\n",
       "    <tr>\n",
       "      <th>...</th>\n",
       "      <td>...</td>\n",
       "      <td>...</td>\n",
       "      <td>...</td>\n",
       "      <td>...</td>\n",
       "      <td>...</td>\n",
       "      <td>...</td>\n",
       "      <td>...</td>\n",
       "      <td>...</td>\n",
       "      <td>...</td>\n",
       "    </tr>\n",
       "    <tr>\n",
       "      <th>7613</th>\n",
       "      <td>2024-09-11</td>\n",
       "      <td>VMM00048806</td>\n",
       "      <td>81</td>\n",
       "      <td>70</td>\n",
       "      <td>73</td>\n",
       "      <td>0.00</td>\n",
       "      <td>2024</td>\n",
       "      <td>9</td>\n",
       "      <td>Autumn</td>\n",
       "    </tr>\n",
       "    <tr>\n",
       "      <th>7614</th>\n",
       "      <td>2024-09-12</td>\n",
       "      <td>VMM00048806</td>\n",
       "      <td>82</td>\n",
       "      <td>69</td>\n",
       "      <td>75</td>\n",
       "      <td>0.00</td>\n",
       "      <td>2024</td>\n",
       "      <td>9</td>\n",
       "      <td>Autumn</td>\n",
       "    </tr>\n",
       "    <tr>\n",
       "      <th>7615</th>\n",
       "      <td>2024-09-14</td>\n",
       "      <td>VMM00048806</td>\n",
       "      <td>84</td>\n",
       "      <td>70</td>\n",
       "      <td>76</td>\n",
       "      <td>0.00</td>\n",
       "      <td>2024</td>\n",
       "      <td>9</td>\n",
       "      <td>Autumn</td>\n",
       "    </tr>\n",
       "    <tr>\n",
       "      <th>7616</th>\n",
       "      <td>2024-09-15</td>\n",
       "      <td>VMM00048806</td>\n",
       "      <td>89</td>\n",
       "      <td>69</td>\n",
       "      <td>79</td>\n",
       "      <td>0.00</td>\n",
       "      <td>2024</td>\n",
       "      <td>9</td>\n",
       "      <td>Autumn</td>\n",
       "    </tr>\n",
       "    <tr>\n",
       "      <th>7617</th>\n",
       "      <td>2024-11-09</td>\n",
       "      <td>VMM00048806</td>\n",
       "      <td>78</td>\n",
       "      <td>58</td>\n",
       "      <td>68</td>\n",
       "      <td>0.00</td>\n",
       "      <td>2024</td>\n",
       "      <td>11</td>\n",
       "      <td>Winter</td>\n",
       "    </tr>\n",
       "  </tbody>\n",
       "</table>\n",
       "<p>7618 rows × 9 columns</p>\n",
       "</div>"
      ],
      "text/plain": [
       "            DATE      STATION  TMAX  TMIN  TAVG  PRCP  YEAR  MONTH  SEASON\n",
       "0     2013-01-01  VMM00048840    61    54    59  0.00  2013      1  Winter\n",
       "1     2013-01-04  VMM00048840    59    54    56  0.00  2013      1  Winter\n",
       "2     2013-01-05  VMM00048840    56    52    54  0.01  2013      1  Winter\n",
       "3     2013-01-06  VMM00048840    54    52    53  0.05  2013      1  Winter\n",
       "4     2013-01-07  VMM00048840    57    53    55  0.00  2013      1  Winter\n",
       "...          ...          ...   ...   ...   ...   ...   ...    ...     ...\n",
       "7613  2024-09-11  VMM00048806    81    70    73  0.00  2024      9  Autumn\n",
       "7614  2024-09-12  VMM00048806    82    69    75  0.00  2024      9  Autumn\n",
       "7615  2024-09-14  VMM00048806    84    70    76  0.00  2024      9  Autumn\n",
       "7616  2024-09-15  VMM00048806    89    69    79  0.00  2024      9  Autumn\n",
       "7617  2024-11-09  VMM00048806    78    58    68  0.00  2024     11  Winter\n",
       "\n",
       "[7618 rows x 9 columns]"
      ]
     },
     "execution_count": 225,
     "metadata": {},
     "output_type": "execute_result"
    }
   ],
   "source": [
    "import pandas as pd\n",
    "import numpy as np\n",
    "import matplotlib.pyplot as plt\n",
    "import seaborn as sns\n",
    "import matplotlib.cm as cm\n",
    "import plotly.express as px\n",
    "from scipy.stats import norm\n",
    "from sklearn.linear_model import Ridge\n",
    "from sklearn.metrics import mean_absolute_error, mean_squared_error\n",
    "%matplotlib inline\n",
    "\n",
    "df = pd.read_csv('data/filtered_data_northern_vietnam.csv')\n",
    "df"
   ]
  },
  {
   "cell_type": "markdown",
   "metadata": {},
   "source": [
    "2. CHUYỂN ĐỘ F THÀNH ĐỘ C"
   ]
  },
  {
   "cell_type": "code",
   "execution_count": 226,
   "metadata": {},
   "outputs": [
    {
     "data": {
      "text/html": [
       "<div>\n",
       "<style scoped>\n",
       "    .dataframe tbody tr th:only-of-type {\n",
       "        vertical-align: middle;\n",
       "    }\n",
       "\n",
       "    .dataframe tbody tr th {\n",
       "        vertical-align: top;\n",
       "    }\n",
       "\n",
       "    .dataframe thead th {\n",
       "        text-align: right;\n",
       "    }\n",
       "</style>\n",
       "<table border=\"1\" class=\"dataframe\">\n",
       "  <thead>\n",
       "    <tr style=\"text-align: right;\">\n",
       "      <th></th>\n",
       "      <th>DATE</th>\n",
       "      <th>STATION</th>\n",
       "      <th>TMAX</th>\n",
       "      <th>TMIN</th>\n",
       "      <th>TAVG</th>\n",
       "      <th>PRCP</th>\n",
       "      <th>YEAR</th>\n",
       "      <th>MONTH</th>\n",
       "      <th>SEASON</th>\n",
       "    </tr>\n",
       "  </thead>\n",
       "  <tbody>\n",
       "    <tr>\n",
       "      <th>0</th>\n",
       "      <td>2013-01-01</td>\n",
       "      <td>VMM00048840</td>\n",
       "      <td>16.1</td>\n",
       "      <td>12.2</td>\n",
       "      <td>15.0</td>\n",
       "      <td>0.00</td>\n",
       "      <td>2013</td>\n",
       "      <td>1</td>\n",
       "      <td>Winter</td>\n",
       "    </tr>\n",
       "    <tr>\n",
       "      <th>1</th>\n",
       "      <td>2013-01-04</td>\n",
       "      <td>VMM00048840</td>\n",
       "      <td>15.0</td>\n",
       "      <td>12.2</td>\n",
       "      <td>13.3</td>\n",
       "      <td>0.00</td>\n",
       "      <td>2013</td>\n",
       "      <td>1</td>\n",
       "      <td>Winter</td>\n",
       "    </tr>\n",
       "    <tr>\n",
       "      <th>2</th>\n",
       "      <td>2013-01-05</td>\n",
       "      <td>VMM00048840</td>\n",
       "      <td>13.3</td>\n",
       "      <td>11.1</td>\n",
       "      <td>12.2</td>\n",
       "      <td>0.01</td>\n",
       "      <td>2013</td>\n",
       "      <td>1</td>\n",
       "      <td>Winter</td>\n",
       "    </tr>\n",
       "    <tr>\n",
       "      <th>3</th>\n",
       "      <td>2013-01-06</td>\n",
       "      <td>VMM00048840</td>\n",
       "      <td>12.2</td>\n",
       "      <td>11.1</td>\n",
       "      <td>11.7</td>\n",
       "      <td>0.05</td>\n",
       "      <td>2013</td>\n",
       "      <td>1</td>\n",
       "      <td>Winter</td>\n",
       "    </tr>\n",
       "    <tr>\n",
       "      <th>4</th>\n",
       "      <td>2013-01-07</td>\n",
       "      <td>VMM00048840</td>\n",
       "      <td>13.9</td>\n",
       "      <td>11.7</td>\n",
       "      <td>12.8</td>\n",
       "      <td>0.00</td>\n",
       "      <td>2013</td>\n",
       "      <td>1</td>\n",
       "      <td>Winter</td>\n",
       "    </tr>\n",
       "    <tr>\n",
       "      <th>...</th>\n",
       "      <td>...</td>\n",
       "      <td>...</td>\n",
       "      <td>...</td>\n",
       "      <td>...</td>\n",
       "      <td>...</td>\n",
       "      <td>...</td>\n",
       "      <td>...</td>\n",
       "      <td>...</td>\n",
       "      <td>...</td>\n",
       "    </tr>\n",
       "    <tr>\n",
       "      <th>7613</th>\n",
       "      <td>2024-09-11</td>\n",
       "      <td>VMM00048806</td>\n",
       "      <td>27.2</td>\n",
       "      <td>21.1</td>\n",
       "      <td>22.8</td>\n",
       "      <td>0.00</td>\n",
       "      <td>2024</td>\n",
       "      <td>9</td>\n",
       "      <td>Autumn</td>\n",
       "    </tr>\n",
       "    <tr>\n",
       "      <th>7614</th>\n",
       "      <td>2024-09-12</td>\n",
       "      <td>VMM00048806</td>\n",
       "      <td>27.8</td>\n",
       "      <td>20.6</td>\n",
       "      <td>23.9</td>\n",
       "      <td>0.00</td>\n",
       "      <td>2024</td>\n",
       "      <td>9</td>\n",
       "      <td>Autumn</td>\n",
       "    </tr>\n",
       "    <tr>\n",
       "      <th>7615</th>\n",
       "      <td>2024-09-14</td>\n",
       "      <td>VMM00048806</td>\n",
       "      <td>28.9</td>\n",
       "      <td>21.1</td>\n",
       "      <td>24.4</td>\n",
       "      <td>0.00</td>\n",
       "      <td>2024</td>\n",
       "      <td>9</td>\n",
       "      <td>Autumn</td>\n",
       "    </tr>\n",
       "    <tr>\n",
       "      <th>7616</th>\n",
       "      <td>2024-09-15</td>\n",
       "      <td>VMM00048806</td>\n",
       "      <td>31.7</td>\n",
       "      <td>20.6</td>\n",
       "      <td>26.1</td>\n",
       "      <td>0.00</td>\n",
       "      <td>2024</td>\n",
       "      <td>9</td>\n",
       "      <td>Autumn</td>\n",
       "    </tr>\n",
       "    <tr>\n",
       "      <th>7617</th>\n",
       "      <td>2024-11-09</td>\n",
       "      <td>VMM00048806</td>\n",
       "      <td>25.6</td>\n",
       "      <td>14.4</td>\n",
       "      <td>20.0</td>\n",
       "      <td>0.00</td>\n",
       "      <td>2024</td>\n",
       "      <td>11</td>\n",
       "      <td>Winter</td>\n",
       "    </tr>\n",
       "  </tbody>\n",
       "</table>\n",
       "<p>7618 rows × 9 columns</p>\n",
       "</div>"
      ],
      "text/plain": [
       "            DATE      STATION  TMAX  TMIN  TAVG  PRCP  YEAR  MONTH  SEASON\n",
       "0     2013-01-01  VMM00048840  16.1  12.2  15.0  0.00  2013      1  Winter\n",
       "1     2013-01-04  VMM00048840  15.0  12.2  13.3  0.00  2013      1  Winter\n",
       "2     2013-01-05  VMM00048840  13.3  11.1  12.2  0.01  2013      1  Winter\n",
       "3     2013-01-06  VMM00048840  12.2  11.1  11.7  0.05  2013      1  Winter\n",
       "4     2013-01-07  VMM00048840  13.9  11.7  12.8  0.00  2013      1  Winter\n",
       "...          ...          ...   ...   ...   ...   ...   ...    ...     ...\n",
       "7613  2024-09-11  VMM00048806  27.2  21.1  22.8  0.00  2024      9  Autumn\n",
       "7614  2024-09-12  VMM00048806  27.8  20.6  23.9  0.00  2024      9  Autumn\n",
       "7615  2024-09-14  VMM00048806  28.9  21.1  24.4  0.00  2024      9  Autumn\n",
       "7616  2024-09-15  VMM00048806  31.7  20.6  26.1  0.00  2024      9  Autumn\n",
       "7617  2024-11-09  VMM00048806  25.6  14.4  20.0  0.00  2024     11  Winter\n",
       "\n",
       "[7618 rows x 9 columns]"
      ]
     },
     "execution_count": 226,
     "metadata": {},
     "output_type": "execute_result"
    }
   ],
   "source": [
    "df['TMAX'] = round((df['TMAX']-32)/1.8, 1)\n",
    "df['TMIN'] = round((df['TMIN']-32)/1.8, 1)\n",
    "df['TAVG'] = round((df['TAVG']-32)/1.8, 1)\n",
    "df"
   ]
  },
  {
   "cell_type": "markdown",
   "metadata": {},
   "source": [
    "3. KIỂM TRA XEM CÓ DỮ LIỆU NÀO BỊ LỖI KHÔNG "
   ]
  },
  {
   "cell_type": "code",
   "execution_count": 227,
   "metadata": {},
   "outputs": [
    {
     "data": {
      "text/html": [
       "<div>\n",
       "<style scoped>\n",
       "    .dataframe tbody tr th:only-of-type {\n",
       "        vertical-align: middle;\n",
       "    }\n",
       "\n",
       "    .dataframe tbody tr th {\n",
       "        vertical-align: top;\n",
       "    }\n",
       "\n",
       "    .dataframe thead th {\n",
       "        text-align: right;\n",
       "    }\n",
       "</style>\n",
       "<table border=\"1\" class=\"dataframe\">\n",
       "  <thead>\n",
       "    <tr style=\"text-align: right;\">\n",
       "      <th></th>\n",
       "      <th>DATE</th>\n",
       "      <th>STATION</th>\n",
       "      <th>TMAX</th>\n",
       "      <th>TMIN</th>\n",
       "      <th>TAVG</th>\n",
       "      <th>PRCP</th>\n",
       "      <th>YEAR</th>\n",
       "      <th>MONTH</th>\n",
       "      <th>SEASON</th>\n",
       "    </tr>\n",
       "  </thead>\n",
       "  <tbody>\n",
       "  </tbody>\n",
       "</table>\n",
       "</div>"
      ],
      "text/plain": [
       "Empty DataFrame\n",
       "Columns: [DATE, STATION, TMAX, TMIN, TAVG, PRCP, YEAR, MONTH, SEASON]\n",
       "Index: []"
      ]
     },
     "execution_count": 227,
     "metadata": {},
     "output_type": "execute_result"
    }
   ],
   "source": [
    "a = df[(df['TMIN'] > df['TAVG']) & (df['TAVG'] > df['TMAX'])]\n",
    "a\n"
   ]
  },
  {
   "cell_type": "code",
   "execution_count": 228,
   "metadata": {},
   "outputs": [
    {
     "data": {
      "text/plain": [
       "array(['VMM00048840', 'VMM00048825', 'VMM00048826', 'VMM00048830',\n",
       "       'VMM00048808', 'VMM00048806'], dtype=object)"
      ]
     },
     "execution_count": 228,
     "metadata": {},
     "output_type": "execute_result"
    }
   ],
   "source": [
    "df['STATION'].unique() # xem có những khu vực quan sát nào"
   ]
  },
  {
   "cell_type": "code",
   "execution_count": 229,
   "metadata": {},
   "outputs": [
    {
     "data": {
      "text/html": [
       "<div>\n",
       "<style scoped>\n",
       "    .dataframe tbody tr th:only-of-type {\n",
       "        vertical-align: middle;\n",
       "    }\n",
       "\n",
       "    .dataframe tbody tr th {\n",
       "        vertical-align: top;\n",
       "    }\n",
       "\n",
       "    .dataframe thead th {\n",
       "        text-align: right;\n",
       "    }\n",
       "</style>\n",
       "<table border=\"1\" class=\"dataframe\">\n",
       "  <thead>\n",
       "    <tr style=\"text-align: right;\">\n",
       "      <th></th>\n",
       "      <th>DATE</th>\n",
       "      <th>STATION</th>\n",
       "      <th>TMAX</th>\n",
       "      <th>TMIN</th>\n",
       "      <th>TAVG</th>\n",
       "      <th>PRCP</th>\n",
       "      <th>YEAR</th>\n",
       "      <th>MONTH</th>\n",
       "      <th>SEASON</th>\n",
       "    </tr>\n",
       "  </thead>\n",
       "  <tbody>\n",
       "  </tbody>\n",
       "</table>\n",
       "</div>"
      ],
      "text/plain": [
       "Empty DataFrame\n",
       "Columns: [DATE, STATION, TMAX, TMIN, TAVG, PRCP, YEAR, MONTH, SEASON]\n",
       "Index: []"
      ]
     },
     "execution_count": 229,
     "metadata": {},
     "output_type": "execute_result"
    }
   ],
   "source": [
    "# kiểm tra xem có bản ghi nào trùng lặp ko\n",
    "df[df.duplicated()]"
   ]
  },
  {
   "cell_type": "markdown",
   "metadata": {},
   "source": [
    "4. KIỂM TRA PHẠM VI CỦA TAVG,TMAX,TMIN"
   ]
  },
  {
   "cell_type": "code",
   "execution_count": 230,
   "metadata": {},
   "outputs": [
    {
     "data": {
      "text/plain": [
       "<Axes: title={'center': 'TAVG'}, xlabel='[STATION]', ylabel='TAVG'>"
      ]
     },
     "execution_count": 230,
     "metadata": {},
     "output_type": "execute_result"
    },
    {
     "data": {
      "image/png": "[encoded data removed]",
      "text/plain": [
       "<Figure size 1400x600 with 1 Axes>"
      ]
     },
     "metadata": {},
     "output_type": "display_data"
    }
   ],
   "source": [
    "# kiểm tra phạm vi của Tavg\n",
    "ax = df[['TAVG', 'STATION']].boxplot(by='STATION', figsize=(14, 6))\n",
    "ax.set_ylabel('TAVG')\n",
    "plt.xticks(rotation=90)\n",
    "ax\n"
   ]
  },
  {
   "cell_type": "markdown",
   "metadata": {},
   "source": [
    "5. GÁN MÁC CÁC GIÁ TRỊ NGOÀI PHẠM VI"
   ]
  },
  {
   "cell_type": "code",
   "execution_count": 231,
   "metadata": {},
   "outputs": [
    {
     "data": {
      "text/html": [
       "<div>\n",
       "<style scoped>\n",
       "    .dataframe tbody tr th:only-of-type {\n",
       "        vertical-align: middle;\n",
       "    }\n",
       "\n",
       "    .dataframe tbody tr th {\n",
       "        vertical-align: top;\n",
       "    }\n",
       "\n",
       "    .dataframe thead th {\n",
       "        text-align: right;\n",
       "    }\n",
       "</style>\n",
       "<table border=\"1\" class=\"dataframe\">\n",
       "  <thead>\n",
       "    <tr style=\"text-align: right;\">\n",
       "      <th></th>\n",
       "      <th>DATE</th>\n",
       "      <th>STATION</th>\n",
       "      <th>TMAX</th>\n",
       "      <th>TMIN</th>\n",
       "      <th>TAVG</th>\n",
       "      <th>PRCP</th>\n",
       "      <th>YEAR</th>\n",
       "      <th>MONTH</th>\n",
       "      <th>SEASON</th>\n",
       "      <th>ISOUTLIER</th>\n",
       "    </tr>\n",
       "  </thead>\n",
       "  <tbody>\n",
       "    <tr>\n",
       "      <th>0</th>\n",
       "      <td>2013-01-01</td>\n",
       "      <td>VMM00048840</td>\n",
       "      <td>16.1</td>\n",
       "      <td>12.2</td>\n",
       "      <td>15.0</td>\n",
       "      <td>0.00</td>\n",
       "      <td>2013</td>\n",
       "      <td>1</td>\n",
       "      <td>Winter</td>\n",
       "      <td>False</td>\n",
       "    </tr>\n",
       "    <tr>\n",
       "      <th>1</th>\n",
       "      <td>2013-01-04</td>\n",
       "      <td>VMM00048840</td>\n",
       "      <td>15.0</td>\n",
       "      <td>12.2</td>\n",
       "      <td>13.3</td>\n",
       "      <td>0.00</td>\n",
       "      <td>2013</td>\n",
       "      <td>1</td>\n",
       "      <td>Winter</td>\n",
       "      <td>False</td>\n",
       "    </tr>\n",
       "    <tr>\n",
       "      <th>2</th>\n",
       "      <td>2013-01-05</td>\n",
       "      <td>VMM00048840</td>\n",
       "      <td>13.3</td>\n",
       "      <td>11.1</td>\n",
       "      <td>12.2</td>\n",
       "      <td>0.01</td>\n",
       "      <td>2013</td>\n",
       "      <td>1</td>\n",
       "      <td>Winter</td>\n",
       "      <td>False</td>\n",
       "    </tr>\n",
       "    <tr>\n",
       "      <th>3</th>\n",
       "      <td>2013-01-06</td>\n",
       "      <td>VMM00048840</td>\n",
       "      <td>12.2</td>\n",
       "      <td>11.1</td>\n",
       "      <td>11.7</td>\n",
       "      <td>0.05</td>\n",
       "      <td>2013</td>\n",
       "      <td>1</td>\n",
       "      <td>Winter</td>\n",
       "      <td>False</td>\n",
       "    </tr>\n",
       "    <tr>\n",
       "      <th>4</th>\n",
       "      <td>2013-01-07</td>\n",
       "      <td>VMM00048840</td>\n",
       "      <td>13.9</td>\n",
       "      <td>11.7</td>\n",
       "      <td>12.8</td>\n",
       "      <td>0.00</td>\n",
       "      <td>2013</td>\n",
       "      <td>1</td>\n",
       "      <td>Winter</td>\n",
       "      <td>False</td>\n",
       "    </tr>\n",
       "    <tr>\n",
       "      <th>...</th>\n",
       "      <td>...</td>\n",
       "      <td>...</td>\n",
       "      <td>...</td>\n",
       "      <td>...</td>\n",
       "      <td>...</td>\n",
       "      <td>...</td>\n",
       "      <td>...</td>\n",
       "      <td>...</td>\n",
       "      <td>...</td>\n",
       "      <td>...</td>\n",
       "    </tr>\n",
       "    <tr>\n",
       "      <th>7613</th>\n",
       "      <td>2024-09-11</td>\n",
       "      <td>VMM00048806</td>\n",
       "      <td>27.2</td>\n",
       "      <td>21.1</td>\n",
       "      <td>22.8</td>\n",
       "      <td>0.00</td>\n",
       "      <td>2024</td>\n",
       "      <td>9</td>\n",
       "      <td>Autumn</td>\n",
       "      <td>False</td>\n",
       "    </tr>\n",
       "    <tr>\n",
       "      <th>7614</th>\n",
       "      <td>2024-09-12</td>\n",
       "      <td>VMM00048806</td>\n",
       "      <td>27.8</td>\n",
       "      <td>20.6</td>\n",
       "      <td>23.9</td>\n",
       "      <td>0.00</td>\n",
       "      <td>2024</td>\n",
       "      <td>9</td>\n",
       "      <td>Autumn</td>\n",
       "      <td>False</td>\n",
       "    </tr>\n",
       "    <tr>\n",
       "      <th>7615</th>\n",
       "      <td>2024-09-14</td>\n",
       "      <td>VMM00048806</td>\n",
       "      <td>28.9</td>\n",
       "      <td>21.1</td>\n",
       "      <td>24.4</td>\n",
       "      <td>0.00</td>\n",
       "      <td>2024</td>\n",
       "      <td>9</td>\n",
       "      <td>Autumn</td>\n",
       "      <td>False</td>\n",
       "    </tr>\n",
       "    <tr>\n",
       "      <th>7616</th>\n",
       "      <td>2024-09-15</td>\n",
       "      <td>VMM00048806</td>\n",
       "      <td>31.7</td>\n",
       "      <td>20.6</td>\n",
       "      <td>26.1</td>\n",
       "      <td>0.00</td>\n",
       "      <td>2024</td>\n",
       "      <td>9</td>\n",
       "      <td>Autumn</td>\n",
       "      <td>False</td>\n",
       "    </tr>\n",
       "    <tr>\n",
       "      <th>7617</th>\n",
       "      <td>2024-11-09</td>\n",
       "      <td>VMM00048806</td>\n",
       "      <td>25.6</td>\n",
       "      <td>14.4</td>\n",
       "      <td>20.0</td>\n",
       "      <td>0.00</td>\n",
       "      <td>2024</td>\n",
       "      <td>11</td>\n",
       "      <td>Winter</td>\n",
       "      <td>False</td>\n",
       "    </tr>\n",
       "  </tbody>\n",
       "</table>\n",
       "<p>7618 rows × 10 columns</p>\n",
       "</div>"
      ],
      "text/plain": [
       "            DATE      STATION  TMAX  TMIN  TAVG  PRCP  YEAR  MONTH  SEASON  \\\n",
       "0     2013-01-01  VMM00048840  16.1  12.2  15.0  0.00  2013      1  Winter   \n",
       "1     2013-01-04  VMM00048840  15.0  12.2  13.3  0.00  2013      1  Winter   \n",
       "2     2013-01-05  VMM00048840  13.3  11.1  12.2  0.01  2013      1  Winter   \n",
       "3     2013-01-06  VMM00048840  12.2  11.1  11.7  0.05  2013      1  Winter   \n",
       "4     2013-01-07  VMM00048840  13.9  11.7  12.8  0.00  2013      1  Winter   \n",
       "...          ...          ...   ...   ...   ...   ...   ...    ...     ...   \n",
       "7613  2024-09-11  VMM00048806  27.2  21.1  22.8  0.00  2024      9  Autumn   \n",
       "7614  2024-09-12  VMM00048806  27.8  20.6  23.9  0.00  2024      9  Autumn   \n",
       "7615  2024-09-14  VMM00048806  28.9  21.1  24.4  0.00  2024      9  Autumn   \n",
       "7616  2024-09-15  VMM00048806  31.7  20.6  26.1  0.00  2024      9  Autumn   \n",
       "7617  2024-11-09  VMM00048806  25.6  14.4  20.0  0.00  2024     11  Winter   \n",
       "\n",
       "      ISOUTLIER  \n",
       "0         False  \n",
       "1         False  \n",
       "2         False  \n",
       "3         False  \n",
       "4         False  \n",
       "...         ...  \n",
       "7613      False  \n",
       "7614      False  \n",
       "7615      False  \n",
       "7616      False  \n",
       "7617      False  \n",
       "\n",
       "[7618 rows x 10 columns]"
      ]
     },
     "execution_count": 231,
     "metadata": {},
     "output_type": "execute_result"
    }
   ],
   "source": [
    "# Tính toán Q1, Q3 và IQR cho từng tỉnh\n",
    "def calculate_isoutlier(df, column):\n",
    "    df['ISOUTLIER'] = False  # Khởi tạo cột IsOutlier mặc định là False\n",
    "    for (station), group in df.groupby('STATION'):\n",
    "        q1 = group[column].quantile(0.25)\n",
    "        q3 = group[column].quantile(0.75)\n",
    "        iqr = q3 - q1\n",
    "        lower_bound = q1 - 1.5 * iqr\n",
    "        upper_bound = q3 + 1.5 * iqr\n",
    "        outliers = (group[column] < lower_bound) | (group[column] > upper_bound)\n",
    "        # Lọc các giá trị outlier\n",
    "        df.loc[(df['STATION'] == station) & outliers, 'ISOUTLIER'] = True\n",
    "    return df\n",
    "\n",
    "# Lấy các giá trị outlier cho từng tỉnh\n",
    "df = calculate_isoutlier(df,'TAVG')\n",
    "df\n",
    "\n"
   ]
  },
  {
   "cell_type": "code",
   "execution_count": 232,
   "metadata": {},
   "outputs": [
    {
     "data": {
      "text/html": [
       "<div>\n",
       "<style scoped>\n",
       "    .dataframe tbody tr th:only-of-type {\n",
       "        vertical-align: middle;\n",
       "    }\n",
       "\n",
       "    .dataframe tbody tr th {\n",
       "        vertical-align: top;\n",
       "    }\n",
       "\n",
       "    .dataframe thead th {\n",
       "        text-align: right;\n",
       "    }\n",
       "</style>\n",
       "<table border=\"1\" class=\"dataframe\">\n",
       "  <thead>\n",
       "    <tr style=\"text-align: right;\">\n",
       "      <th></th>\n",
       "      <th>DATE</th>\n",
       "      <th>STATION</th>\n",
       "      <th>TMAX</th>\n",
       "      <th>TMIN</th>\n",
       "      <th>TAVG</th>\n",
       "      <th>PRCP</th>\n",
       "      <th>YEAR</th>\n",
       "      <th>MONTH</th>\n",
       "      <th>SEASON</th>\n",
       "      <th>ISOUTLIER</th>\n",
       "    </tr>\n",
       "  </thead>\n",
       "  <tbody>\n",
       "    <tr>\n",
       "      <th>269</th>\n",
       "      <td>2014-02-11</td>\n",
       "      <td>VMM00048840</td>\n",
       "      <td>11.1</td>\n",
       "      <td>9.4</td>\n",
       "      <td>10.6</td>\n",
       "      <td>0.04</td>\n",
       "      <td>2014</td>\n",
       "      <td>2</td>\n",
       "      <td>Spring</td>\n",
       "      <td>True</td>\n",
       "    </tr>\n",
       "    <tr>\n",
       "      <th>487</th>\n",
       "      <td>2016-01-25</td>\n",
       "      <td>VMM00048840</td>\n",
       "      <td>11.1</td>\n",
       "      <td>6.1</td>\n",
       "      <td>9.4</td>\n",
       "      <td>0.01</td>\n",
       "      <td>2016</td>\n",
       "      <td>1</td>\n",
       "      <td>Winter</td>\n",
       "      <td>True</td>\n",
       "    </tr>\n",
       "    <tr>\n",
       "      <th>488</th>\n",
       "      <td>2016-01-26</td>\n",
       "      <td>VMM00048840</td>\n",
       "      <td>8.3</td>\n",
       "      <td>7.2</td>\n",
       "      <td>7.8</td>\n",
       "      <td>1.26</td>\n",
       "      <td>2016</td>\n",
       "      <td>1</td>\n",
       "      <td>Winter</td>\n",
       "      <td>True</td>\n",
       "    </tr>\n",
       "    <tr>\n",
       "      <th>1237</th>\n",
       "      <td>2013-01-06</td>\n",
       "      <td>VMM00048825</td>\n",
       "      <td>12.8</td>\n",
       "      <td>8.9</td>\n",
       "      <td>11.7</td>\n",
       "      <td>0.07</td>\n",
       "      <td>2013</td>\n",
       "      <td>1</td>\n",
       "      <td>Winter</td>\n",
       "      <td>True</td>\n",
       "    </tr>\n",
       "    <tr>\n",
       "      <th>1238</th>\n",
       "      <td>2013-01-07</td>\n",
       "      <td>VMM00048825</td>\n",
       "      <td>12.2</td>\n",
       "      <td>10.0</td>\n",
       "      <td>11.7</td>\n",
       "      <td>0.02</td>\n",
       "      <td>2013</td>\n",
       "      <td>1</td>\n",
       "      <td>Winter</td>\n",
       "      <td>True</td>\n",
       "    </tr>\n",
       "    <tr>\n",
       "      <th>...</th>\n",
       "      <td>...</td>\n",
       "      <td>...</td>\n",
       "      <td>...</td>\n",
       "      <td>...</td>\n",
       "      <td>...</td>\n",
       "      <td>...</td>\n",
       "      <td>...</td>\n",
       "      <td>...</td>\n",
       "      <td>...</td>\n",
       "      <td>...</td>\n",
       "    </tr>\n",
       "    <tr>\n",
       "      <th>7284</th>\n",
       "      <td>2022-02-21</td>\n",
       "      <td>VMM00048806</td>\n",
       "      <td>10.0</td>\n",
       "      <td>6.1</td>\n",
       "      <td>7.8</td>\n",
       "      <td>0.00</td>\n",
       "      <td>2022</td>\n",
       "      <td>2</td>\n",
       "      <td>Spring</td>\n",
       "      <td>True</td>\n",
       "    </tr>\n",
       "    <tr>\n",
       "      <th>7285</th>\n",
       "      <td>2022-02-23</td>\n",
       "      <td>VMM00048806</td>\n",
       "      <td>12.8</td>\n",
       "      <td>6.1</td>\n",
       "      <td>9.4</td>\n",
       "      <td>0.09</td>\n",
       "      <td>2022</td>\n",
       "      <td>2</td>\n",
       "      <td>Spring</td>\n",
       "      <td>True</td>\n",
       "    </tr>\n",
       "    <tr>\n",
       "      <th>7511</th>\n",
       "      <td>2024-01-23</td>\n",
       "      <td>VMM00048806</td>\n",
       "      <td>10.0</td>\n",
       "      <td>7.2</td>\n",
       "      <td>8.3</td>\n",
       "      <td>0.05</td>\n",
       "      <td>2024</td>\n",
       "      <td>1</td>\n",
       "      <td>Winter</td>\n",
       "      <td>True</td>\n",
       "    </tr>\n",
       "    <tr>\n",
       "      <th>7512</th>\n",
       "      <td>2024-01-24</td>\n",
       "      <td>VMM00048806</td>\n",
       "      <td>10.6</td>\n",
       "      <td>7.2</td>\n",
       "      <td>8.3</td>\n",
       "      <td>0.00</td>\n",
       "      <td>2024</td>\n",
       "      <td>1</td>\n",
       "      <td>Winter</td>\n",
       "      <td>True</td>\n",
       "    </tr>\n",
       "    <tr>\n",
       "      <th>7513</th>\n",
       "      <td>2024-01-25</td>\n",
       "      <td>VMM00048806</td>\n",
       "      <td>10.6</td>\n",
       "      <td>6.7</td>\n",
       "      <td>8.9</td>\n",
       "      <td>0.00</td>\n",
       "      <td>2024</td>\n",
       "      <td>1</td>\n",
       "      <td>Winter</td>\n",
       "      <td>True</td>\n",
       "    </tr>\n",
       "  </tbody>\n",
       "</table>\n",
       "<p>61 rows × 10 columns</p>\n",
       "</div>"
      ],
      "text/plain": [
       "            DATE      STATION  TMAX  TMIN  TAVG  PRCP  YEAR  MONTH  SEASON  \\\n",
       "269   2014-02-11  VMM00048840  11.1   9.4  10.6  0.04  2014      2  Spring   \n",
       "487   2016-01-25  VMM00048840  11.1   6.1   9.4  0.01  2016      1  Winter   \n",
       "488   2016-01-26  VMM00048840   8.3   7.2   7.8  1.26  2016      1  Winter   \n",
       "1237  2013-01-06  VMM00048825  12.8   8.9  11.7  0.07  2013      1  Winter   \n",
       "1238  2013-01-07  VMM00048825  12.2  10.0  11.7  0.02  2013      1  Winter   \n",
       "...          ...          ...   ...   ...   ...   ...   ...    ...     ...   \n",
       "7284  2022-02-21  VMM00048806  10.0   6.1   7.8  0.00  2022      2  Spring   \n",
       "7285  2022-02-23  VMM00048806  12.8   6.1   9.4  0.09  2022      2  Spring   \n",
       "7511  2024-01-23  VMM00048806  10.0   7.2   8.3  0.05  2024      1  Winter   \n",
       "7512  2024-01-24  VMM00048806  10.6   7.2   8.3  0.00  2024      1  Winter   \n",
       "7513  2024-01-25  VMM00048806  10.6   6.7   8.9  0.00  2024      1  Winter   \n",
       "\n",
       "      ISOUTLIER  \n",
       "269        True  \n",
       "487        True  \n",
       "488        True  \n",
       "1237       True  \n",
       "1238       True  \n",
       "...         ...  \n",
       "7284       True  \n",
       "7285       True  \n",
       "7511       True  \n",
       "7512       True  \n",
       "7513       True  \n",
       "\n",
       "[61 rows x 10 columns]"
      ]
     },
     "execution_count": 232,
     "metadata": {},
     "output_type": "execute_result"
    }
   ],
   "source": [
    "# kiểm tra outlier\n",
    "df[df['ISOUTLIER']==True]"
   ]
  },
  {
   "cell_type": "markdown",
   "metadata": {},
   "source": [
    "6. NHIỆT ĐỘ TRUNG BÌNH THEO NĂM TRONG PHẠM VI"
   ]
  },
  {
   "cell_type": "code",
   "execution_count": 233,
   "metadata": {},
   "outputs": [],
   "source": [
    "# temp_avg theo năm\n",
    "df1 = df[df['ISOUTLIER']==False].groupby('YEAR')['TAVG'].mean().reset_index().round(1)\n",
    "df1.to_csv('temp_year.csv',index= False)"
   ]
  },
  {
   "cell_type": "markdown",
   "metadata": {},
   "source": [
    "7. NHIỆT ĐỘ THAY ĐỔI QUA TỪNG NĂM"
   ]
  },
  {
   "cell_type": "code",
   "execution_count": 234,
   "metadata": {},
   "outputs": [
    {
     "data": {
      "text/html": [
       "<div>\n",
       "<style scoped>\n",
       "    .dataframe tbody tr th:only-of-type {\n",
       "        vertical-align: middle;\n",
       "    }\n",
       "\n",
       "    .dataframe tbody tr th {\n",
       "        vertical-align: top;\n",
       "    }\n",
       "\n",
       "    .dataframe thead th {\n",
       "        text-align: right;\n",
       "    }\n",
       "</style>\n",
       "<table border=\"1\" class=\"dataframe\">\n",
       "  <thead>\n",
       "    <tr style=\"text-align: right;\">\n",
       "      <th></th>\n",
       "      <th>YEAR</th>\n",
       "      <th>TAVG</th>\n",
       "      <th>TEMP_CHANGE</th>\n",
       "    </tr>\n",
       "  </thead>\n",
       "  <tbody>\n",
       "    <tr>\n",
       "      <th>0</th>\n",
       "      <td>2013</td>\n",
       "      <td>23.4</td>\n",
       "      <td>NaN</td>\n",
       "    </tr>\n",
       "    <tr>\n",
       "      <th>1</th>\n",
       "      <td>2014</td>\n",
       "      <td>23.6</td>\n",
       "      <td>0.2</td>\n",
       "    </tr>\n",
       "    <tr>\n",
       "      <th>2</th>\n",
       "      <td>2015</td>\n",
       "      <td>19.3</td>\n",
       "      <td>-4.3</td>\n",
       "    </tr>\n",
       "    <tr>\n",
       "      <th>3</th>\n",
       "      <td>2016</td>\n",
       "      <td>26.0</td>\n",
       "      <td>6.7</td>\n",
       "    </tr>\n",
       "    <tr>\n",
       "      <th>4</th>\n",
       "      <td>2017</td>\n",
       "      <td>23.4</td>\n",
       "      <td>-2.6</td>\n",
       "    </tr>\n",
       "    <tr>\n",
       "      <th>5</th>\n",
       "      <td>2018</td>\n",
       "      <td>23.9</td>\n",
       "      <td>0.5</td>\n",
       "    </tr>\n",
       "    <tr>\n",
       "      <th>6</th>\n",
       "      <td>2019</td>\n",
       "      <td>25.6</td>\n",
       "      <td>1.7</td>\n",
       "    </tr>\n",
       "    <tr>\n",
       "      <th>7</th>\n",
       "      <td>2020</td>\n",
       "      <td>22.0</td>\n",
       "      <td>-3.6</td>\n",
       "    </tr>\n",
       "    <tr>\n",
       "      <th>8</th>\n",
       "      <td>2021</td>\n",
       "      <td>22.7</td>\n",
       "      <td>0.7</td>\n",
       "    </tr>\n",
       "    <tr>\n",
       "      <th>9</th>\n",
       "      <td>2022</td>\n",
       "      <td>24.2</td>\n",
       "      <td>1.5</td>\n",
       "    </tr>\n",
       "    <tr>\n",
       "      <th>10</th>\n",
       "      <td>2023</td>\n",
       "      <td>23.5</td>\n",
       "      <td>-0.7</td>\n",
       "    </tr>\n",
       "    <tr>\n",
       "      <th>11</th>\n",
       "      <td>2024</td>\n",
       "      <td>25.7</td>\n",
       "      <td>2.2</td>\n",
       "    </tr>\n",
       "  </tbody>\n",
       "</table>\n",
       "</div>"
      ],
      "text/plain": [
       "    YEAR  TAVG  TEMP_CHANGE\n",
       "0   2013  23.4          NaN\n",
       "1   2014  23.6          0.2\n",
       "2   2015  19.3         -4.3\n",
       "3   2016  26.0          6.7\n",
       "4   2017  23.4         -2.6\n",
       "5   2018  23.9          0.5\n",
       "6   2019  25.6          1.7\n",
       "7   2020  22.0         -3.6\n",
       "8   2021  22.7          0.7\n",
       "9   2022  24.2          1.5\n",
       "10  2023  23.5         -0.7\n",
       "11  2024  25.7          2.2"
      ]
     },
     "execution_count": 234,
     "metadata": {},
     "output_type": "execute_result"
    }
   ],
   "source": [
    "df1 = pd.read_csv('temp_year.csv')\n",
    "# tính sự thay đổi nhiệt giữa các năm\n",
    "df1['TEMP_CHANGE'] = df1['TAVG'].diff().round(1)\n",
    "# dùng loc để gán giá trị đầu là nan\n",
    "df1.loc[0,'TEMP_CHANGE'] = np.nan\n",
    "df1\n"
   ]
  },
  {
   "cell_type": "markdown",
   "metadata": {},
   "source": [
    "8. NHIỆT ĐỘ MAX, MIN VÀ BIÊN ĐỘ NHIỆT THEO NĂM"
   ]
  },
  {
   "cell_type": "code",
   "execution_count": 235,
   "metadata": {},
   "outputs": [
    {
     "data": {
      "text/html": [
       "<div>\n",
       "<style scoped>\n",
       "    .dataframe tbody tr th:only-of-type {\n",
       "        vertical-align: middle;\n",
       "    }\n",
       "\n",
       "    .dataframe tbody tr th {\n",
       "        vertical-align: top;\n",
       "    }\n",
       "\n",
       "    .dataframe thead th {\n",
       "        text-align: right;\n",
       "    }\n",
       "</style>\n",
       "<table border=\"1\" class=\"dataframe\">\n",
       "  <thead>\n",
       "    <tr style=\"text-align: right;\">\n",
       "      <th></th>\n",
       "      <th>YEAR</th>\n",
       "      <th>TAVG</th>\n",
       "      <th>TEMP_CHANGE</th>\n",
       "      <th>TMAX</th>\n",
       "      <th>TMIN</th>\n",
       "    </tr>\n",
       "  </thead>\n",
       "  <tbody>\n",
       "    <tr>\n",
       "      <th>0</th>\n",
       "      <td>2013</td>\n",
       "      <td>23.4</td>\n",
       "      <td>NaN</td>\n",
       "      <td>39.4</td>\n",
       "      <td>1.1</td>\n",
       "    </tr>\n",
       "    <tr>\n",
       "      <th>1</th>\n",
       "      <td>2014</td>\n",
       "      <td>23.6</td>\n",
       "      <td>0.2</td>\n",
       "      <td>39.4</td>\n",
       "      <td>0.6</td>\n",
       "    </tr>\n",
       "    <tr>\n",
       "      <th>2</th>\n",
       "      <td>2015</td>\n",
       "      <td>19.3</td>\n",
       "      <td>-4.3</td>\n",
       "      <td>40.0</td>\n",
       "      <td>3.3</td>\n",
       "    </tr>\n",
       "    <tr>\n",
       "      <th>3</th>\n",
       "      <td>2016</td>\n",
       "      <td>26.0</td>\n",
       "      <td>6.7</td>\n",
       "      <td>38.9</td>\n",
       "      <td>2.8</td>\n",
       "    </tr>\n",
       "    <tr>\n",
       "      <th>4</th>\n",
       "      <td>2017</td>\n",
       "      <td>23.4</td>\n",
       "      <td>-2.6</td>\n",
       "      <td>38.3</td>\n",
       "      <td>10.0</td>\n",
       "    </tr>\n",
       "    <tr>\n",
       "      <th>5</th>\n",
       "      <td>2018</td>\n",
       "      <td>23.9</td>\n",
       "      <td>0.5</td>\n",
       "      <td>40.0</td>\n",
       "      <td>1.1</td>\n",
       "    </tr>\n",
       "    <tr>\n",
       "      <th>6</th>\n",
       "      <td>2019</td>\n",
       "      <td>25.6</td>\n",
       "      <td>1.7</td>\n",
       "      <td>41.1</td>\n",
       "      <td>0.0</td>\n",
       "    </tr>\n",
       "    <tr>\n",
       "      <th>7</th>\n",
       "      <td>2020</td>\n",
       "      <td>22.0</td>\n",
       "      <td>-3.6</td>\n",
       "      <td>38.9</td>\n",
       "      <td>8.3</td>\n",
       "    </tr>\n",
       "    <tr>\n",
       "      <th>8</th>\n",
       "      <td>2021</td>\n",
       "      <td>22.7</td>\n",
       "      <td>0.7</td>\n",
       "      <td>40.0</td>\n",
       "      <td>3.3</td>\n",
       "    </tr>\n",
       "    <tr>\n",
       "      <th>9</th>\n",
       "      <td>2022</td>\n",
       "      <td>24.2</td>\n",
       "      <td>1.5</td>\n",
       "      <td>44.4</td>\n",
       "      <td>4.4</td>\n",
       "    </tr>\n",
       "    <tr>\n",
       "      <th>10</th>\n",
       "      <td>2023</td>\n",
       "      <td>23.5</td>\n",
       "      <td>-0.7</td>\n",
       "      <td>39.4</td>\n",
       "      <td>4.4</td>\n",
       "    </tr>\n",
       "    <tr>\n",
       "      <th>11</th>\n",
       "      <td>2024</td>\n",
       "      <td>25.7</td>\n",
       "      <td>2.2</td>\n",
       "      <td>40.6</td>\n",
       "      <td>3.9</td>\n",
       "    </tr>\n",
       "  </tbody>\n",
       "</table>\n",
       "</div>"
      ],
      "text/plain": [
       "    YEAR  TAVG  TEMP_CHANGE  TMAX  TMIN\n",
       "0   2013  23.4          NaN  39.4   1.1\n",
       "1   2014  23.6          0.2  39.4   0.6\n",
       "2   2015  19.3         -4.3  40.0   3.3\n",
       "3   2016  26.0          6.7  38.9   2.8\n",
       "4   2017  23.4         -2.6  38.3  10.0\n",
       "5   2018  23.9          0.5  40.0   1.1\n",
       "6   2019  25.6          1.7  41.1   0.0\n",
       "7   2020  22.0         -3.6  38.9   8.3\n",
       "8   2021  22.7          0.7  40.0   3.3\n",
       "9   2022  24.2          1.5  44.4   4.4\n",
       "10  2023  23.5         -0.7  39.4   4.4\n",
       "11  2024  25.7          2.2  40.6   3.9"
      ]
     },
     "execution_count": 235,
     "metadata": {},
     "output_type": "execute_result"
    }
   ],
   "source": [
    "# Tính nhiệt độ lớn nhất và nhỏ nhất theo từng năm\n",
    "temp_max = df.groupby('YEAR')['TMAX'].max().reset_index(name= 'TMAX')\n",
    "temp_min = df.groupby('YEAR')['TMIN'].min().reset_index(name= 'TMIN')\n",
    "# Tính biên độ dao động nhiệt theo năm\n",
    "df1 = df1.merge(temp_max, on='YEAR', how='left')\n",
    "df1 = df1.merge(temp_min, on='YEAR', how='left')\n",
    "df1"
   ]
  },
  {
   "cell_type": "markdown",
   "metadata": {},
   "source": [
    "9. XÁC ĐỊNH TUẦN SUẤT NHIỆT CỰC ĐOAN"
   ]
  },
  {
   "cell_type": "code",
   "execution_count": 236,
   "metadata": {},
   "outputs": [],
   "source": [
    "hot_ = df[df['TMAX']>37].groupby('YEAR')['TMAX'].count().reset_index(name='frequency_hot')\n",
    "cold_ = df[df['TMIN']<5].groupby('YEAR')['TMIN'].count().reset_index(name='frequency_cold')\n",
    "df1 = df1.merge(hot_,on='YEAR',how='left')\n",
    "df1 = df1.merge(cold_,on='YEAR',how='left')\n",
    "# Thay thế các giá trị NaN trong cột 'frequency_cold' bằng 0\n",
    "df1['frequency_cold'] = df1['frequency_cold'].fillna(0).astype(int)\n",
    "df1.to_csv('temp_year.csv',index=False)\n"
   ]
  },
  {
   "cell_type": "markdown",
   "metadata": {},
   "source": [
    "10. VẼ ĐỒ THỊ"
   ]
  },
  {
   "cell_type": "code",
   "execution_count": 237,
   "metadata": {},
   "outputs": [
    {
     "data": {
      "text/plain": [
       "Text(0.5, 1.0, 'nhiệt độ trung bình theo năm')"
      ]
     },
     "execution_count": 237,
     "metadata": {},
     "output_type": "execute_result"
    },
    {
     "data": {
      "image/png": "[encoded data removed]",
      "text/plain": [
       "<Figure size 1200x600 with 1 Axes>"
      ]
     },
     "metadata": {},
     "output_type": "display_data"
    }
   ],
   "source": [
    "df1.plot(kind= 'bar',x='YEAR',y='TAVG',figsize=(12,6))\n",
    "plt.title('nhiệt độ trung bình theo năm')"
   ]
  },
  {
   "cell_type": "code",
   "execution_count": 238,
   "metadata": {},
   "outputs": [
    {
     "data": {
      "text/plain": [
       "<Axes: xlabel='YEAR'>"
      ]
     },
     "execution_count": 238,
     "metadata": {},
     "output_type": "execute_result"
    },
    {
     "data": {
      "image/png": "[encoded data removed]",
      "text/plain": [
       "<Figure size 1200x600 with 1 Axes>"
      ]
     },
     "metadata": {},
     "output_type": "display_data"
    }
   ],
   "source": [
    "df1.plot(kind='line',x = 'YEAR',y ='TEMP_CHANGE',figsize=(12,6))"
   ]
  },
  {
   "cell_type": "code",
   "execution_count": 239,
   "metadata": {},
   "outputs": [
    {
     "data": {
      "image/png": "[encoded data removed]",
      "text/plain": [
       "<Figure size 1000x600 with 1 Axes>"
      ]
     },
     "metadata": {},
     "output_type": "display_data"
    }
   ],
   "source": [
    "import pandas as pd\n",
    "import matplotlib.pyplot as plt\n",
    "# Vẽ biểu đồ vùng\n",
    "plt.figure(figsize=(10, 6))\n",
    "plt.fill_between(df1['YEAR'], df1['TMAX'], df1['TMIN'], color='lightblue', alpha=0.5, label='Khoảng nhiệt độ')\n",
    "plt.plot(df1['YEAR'], df1['TMAX'], color='red', label='Nhiệt độ cao nhất (TMAX)')\n",
    "plt.plot(df1['YEAR'], df1['TMIN'], color='blue', label='Nhiệt độ thấp nhất (TMIN)')\n",
    "\n",
    "# Cấu hình biểu đồ\n",
    "plt.title('Biểu đồ khoảng nhiệt độ theo năm', fontsize=14)\n",
    "plt.xlabel('Năm', fontsize=12)\n",
    "plt.ylabel('Nhiệt độ (°C)', fontsize=12)\n",
    "plt.grid(True, linestyle='--', alpha=0.7)\n",
    "plt.legend()\n",
    "plt.tight_layout()\n",
    "\n",
    "# Hiển thị biểu đồ\n",
    "plt.show()\n"
   ]
  },
  {
   "cell_type": "code",
   "execution_count": 240,
   "metadata": {},
   "outputs": [
    {
     "data": {
      "application/vnd.plotly.v1+json": {
       "config": {
        "plotlyServerURL": "https://plot.ly"
       },
       "data": [
        {
         "alignmentgroup": "True",
         "hovertemplate": "variable=frequency_hot<br>Năm=%{x}<br>Tần số xuất hiện=%{y}<extra></extra>",
         "legendgroup": "frequency_hot",
         "marker": {
          "color": "salmon",
          "pattern": {
           "shape": ""
          }
         },
         "name": "frequency_hot",
         "offsetgroup": "frequency_hot",
         "orientation": "v",
         "showlegend": true,
         "textposition": "auto",
         "type": "bar",
         "x": [
          2013,
          2014,
          2015,
          2016,
          2017,
          2018,
          2019,
          2020,
          2021,
          2022,
          2023,
          2024
         ],
         "xaxis": "x",
         "y": [
          16,
          17,
          5,
          9,
          3,
          9,
          38,
          5,
          20,
          24,
          13,
          25
         ],
         "yaxis": "y"
        },
        {
         "alignmentgroup": "True",
         "hovertemplate": "variable=frequency_cold<br>Năm=%{x}<br>Tần số xuất hiện=%{y}<extra></extra>",
         "legendgroup": "frequency_cold",
         "marker": {
          "color": "skyblue",
          "pattern": {
           "shape": ""
          }
         },
         "name": "frequency_cold",
         "offsetgroup": "frequency_cold",
         "orientation": "v",
         "showlegend": true,
         "textposition": "auto",
         "type": "bar",
         "x": [
          2013,
          2014,
          2015,
          2016,
          2017,
          2018,
          2019,
          2020,
          2021,
          2022,
          2023,
          2024
         ],
         "xaxis": "x",
         "y": [
          17,
          23,
          2,
          5,
          0,
          2,
          9,
          0,
          4,
          1,
          2,
          1
         ],
         "yaxis": "y"
        }
       ],
       "layout": {
        "barmode": "group",
        "legend": {
         "title": {
          "text": "variable"
         },
         "tracegroupgap": 0
        },
        "template": {
         "data": {
          "bar": [
           {
            "error_x": {
             "color": "#2a3f5f"
            },
            "error_y": {
             "color": "#2a3f5f"
            },
            "marker": {
             "line": {
              "color": "#E5ECF6",
              "width": 0.5
             },
             "pattern": {
              "fillmode": "overlay",
              "size": 10,
              "solidity": 0.2
             }
            },
            "type": "bar"
           }
          ],
          "barpolar": [
           {
            "marker": {
             "line": {
              "color": "#E5ECF6",
              "width": 0.5
             },
             "pattern": {
              "fillmode": "overlay",
              "size": 10,
              "solidity": 0.2
             }
            },
            "type": "barpolar"
           }
          ],
          "carpet": [
           {
            "aaxis": {
             "endlinecolor": "#2a3f5f",
             "gridcolor": "white",
             "linecolor": "white",
             "minorgridcolor": "white",
             "startlinecolor": "#2a3f5f"
            },
            "baxis": {
             "endlinecolor": "#2a3f5f",
             "gridcolor": "white",
             "linecolor": "white",
             "minorgridcolor": "white",
             "startlinecolor": "#2a3f5f"
            },
            "type": "carpet"
           }
          ],
          "choropleth": [
           {
            "colorbar": {
             "outlinewidth": 0,
             "ticks": ""
            },
            "type": "choropleth"
           }
          ],
          "contour": [
           {
            "colorbar": {
             "outlinewidth": 0,
             "ticks": ""
            },
            "colorscale": [
             [
              0,
              "#0d0887"
             ],
             [
              0.1111111111111111,
              "#46039f"
             ],
             [
              0.2222222222222222,
              "#7201a8"
             ],
             [
              0.3333333333333333,
              "#9c179e"
             ],
             [
              0.4444444444444444,
              "#bd3786"
             ],
             [
              0.5555555555555556,
              "#d8576b"
             ],
             [
              0.6666666666666666,
              "#ed7953"
             ],
             [
              0.7777777777777778,
              "#fb9f3a"
             ],
             [
              0.8888888888888888,
              "#fdca26"
             ],
             [
              1,
              "#f0f921"
             ]
            ],
            "type": "contour"
           }
          ],
          "contourcarpet": [
           {
            "colorbar": {
             "outlinewidth": 0,
             "ticks": ""
            },
            "type": "contourcarpet"
           }
          ],
          "heatmap": [
           {
            "colorbar": {
             "outlinewidth": 0,
             "ticks": ""
            },
            "colorscale": [
             [
              0,
              "#0d0887"
             ],
             [
              0.1111111111111111,
              "#46039f"
             ],
             [
              0.2222222222222222,
              "#7201a8"
             ],
             [
              0.3333333333333333,
              "#9c179e"
             ],
             [
              0.4444444444444444,
              "#bd3786"
             ],
             [
              0.5555555555555556,
              "#d8576b"
             ],
             [
              0.6666666666666666,
              "#ed7953"
             ],
             [
              0.7777777777777778,
              "#fb9f3a"
             ],
             [
              0.8888888888888888,
              "#fdca26"
             ],
             [
              1,
              "#f0f921"
             ]
            ],
            "type": "heatmap"
           }
          ],
          "heatmapgl": [
           {
            "colorbar": {
             "outlinewidth": 0,
             "ticks": ""
            },
            "colorscale": [
             [
              0,
              "#0d0887"
             ],
             [
              0.1111111111111111,
              "#46039f"
             ],
             [
              0.2222222222222222,
              "#7201a8"
             ],
             [
              0.3333333333333333,
              "#9c179e"
             ],
             [
              0.4444444444444444,
              "#bd3786"
             ],
             [
              0.5555555555555556,
              "#d8576b"
             ],
             [
              0.6666666666666666,
              "#ed7953"
             ],
             [
              0.7777777777777778,
              "#fb9f3a"
             ],
             [
              0.8888888888888888,
              "#fdca26"
             ],
             [
              1,
              "#f0f921"
             ]
            ],
            "type": "heatmapgl"
           }
          ],
          "histogram": [
           {
            "marker": {
             "pattern": {
              "fillmode": "overlay",
              "size": 10,
              "solidity": 0.2
             }
            },
            "type": "histogram"
           }
          ],
          "histogram2d": [
           {
            "colorbar": {
             "outlinewidth": 0,
             "ticks": ""
            },
            "colorscale": [
             [
              0,
              "#0d0887"
             ],
             [
              0.1111111111111111,
              "#46039f"
             ],
             [
              0.2222222222222222,
              "#7201a8"
             ],
             [
              0.3333333333333333,
              "#9c179e"
             ],
             [
              0.4444444444444444,
              "#bd3786"
             ],
             [
              0.5555555555555556,
              "#d8576b"
             ],
             [
              0.6666666666666666,
              "#ed7953"
             ],
             [
              0.7777777777777778,
              "#fb9f3a"
             ],
             [
              0.8888888888888888,
              "#fdca26"
             ],
             [
              1,
              "#f0f921"
             ]
            ],
            "type": "histogram2d"
           }
          ],
          "histogram2dcontour": [
           {
            "colorbar": {
             "outlinewidth": 0,
             "ticks": ""
            },
            "colorscale": [
             [
              0,
              "#0d0887"
             ],
             [
              0.1111111111111111,
              "#46039f"
             ],
             [
              0.2222222222222222,
              "#7201a8"
             ],
             [
              0.3333333333333333,
              "#9c179e"
             ],
             [
              0.4444444444444444,
              "#bd3786"
             ],
             [
              0.5555555555555556,
              "#d8576b"
             ],
             [
              0.6666666666666666,
              "#ed7953"
             ],
             [
              0.7777777777777778,
              "#fb9f3a"
             ],
             [
              0.8888888888888888,
              "#fdca26"
             ],
             [
              1,
              "#f0f921"
             ]
            ],
            "type": "histogram2dcontour"
           }
          ],
          "mesh3d": [
           {
            "colorbar": {
             "outlinewidth": 0,
             "ticks": ""
            },
            "type": "mesh3d"
           }
          ],
          "parcoords": [
           {
            "line": {
             "colorbar": {
              "outlinewidth": 0,
              "ticks": ""
             }
            },
            "type": "parcoords"
           }
          ],
          "pie": [
           {
            "automargin": true,
            "type": "pie"
           }
          ],
          "scatter": [
           {
            "fillpattern": {
             "fillmode": "overlay",
             "size": 10,
             "solidity": 0.2
            },
            "type": "scatter"
           }
          ],
          "scatter3d": [
           {
            "line": {
             "colorbar": {
              "outlinewidth": 0,
              "ticks": ""
             }
            },
            "marker": {
             "colorbar": {
              "outlinewidth": 0,
              "ticks": ""
             }
            },
            "type": "scatter3d"
           }
          ],
          "scattercarpet": [
           {
            "marker": {
             "colorbar": {
              "outlinewidth": 0,
              "ticks": ""
             }
            },
            "type": "scattercarpet"
           }
          ],
          "scattergeo": [
           {
            "marker": {
             "colorbar": {
              "outlinewidth": 0,
              "ticks": ""
             }
            },
            "type": "scattergeo"
           }
          ],
          "scattergl": [
           {
            "marker": {
             "colorbar": {
              "outlinewidth": 0,
              "ticks": ""
             }
            },
            "type": "scattergl"
           }
          ],
          "scattermapbox": [
           {
            "marker": {
             "colorbar": {
              "outlinewidth": 0,
              "ticks": ""
             }
            },
            "type": "scattermapbox"
           }
          ],
          "scatterpolar": [
           {
            "marker": {
             "colorbar": {
              "outlinewidth": 0,
              "ticks": ""
             }
            },
            "type": "scatterpolar"
           }
          ],
          "scatterpolargl": [
           {
            "marker": {
             "colorbar": {
              "outlinewidth": 0,
              "ticks": ""
             }
            },
            "type": "scatterpolargl"
           }
          ],
          "scatterternary": [
           {
            "marker": {
             "colorbar": {
              "outlinewidth": 0,
              "ticks": ""
             }
            },
            "type": "scatterternary"
           }
          ],
          "surface": [
           {
            "colorbar": {
             "outlinewidth": 0,
             "ticks": ""
            },
            "colorscale": [
             [
              0,
              "#0d0887"
             ],
             [
              0.1111111111111111,
              "#46039f"
             ],
             [
              0.2222222222222222,
              "#7201a8"
             ],
             [
              0.3333333333333333,
              "#9c179e"
             ],
             [
              0.4444444444444444,
              "#bd3786"
             ],
             [
              0.5555555555555556,
              "#d8576b"
             ],
             [
              0.6666666666666666,
              "#ed7953"
             ],
             [
              0.7777777777777778,
              "#fb9f3a"
             ],
             [
              0.8888888888888888,
              "#fdca26"
             ],
             [
              1,
              "#f0f921"
             ]
            ],
            "type": "surface"
           }
          ],
          "table": [
           {
            "cells": {
             "fill": {
              "color": "#EBF0F8"
             },
             "line": {
              "color": "white"
             }
            },
            "header": {
             "fill": {
              "color": "#C8D4E3"
             },
             "line": {
              "color": "white"
             }
            },
            "type": "table"
           }
          ]
         },
         "layout": {
          "annotationdefaults": {
           "arrowcolor": "#2a3f5f",
           "arrowhead": 0,
           "arrowwidth": 1
          },
          "autotypenumbers": "strict",
          "coloraxis": {
           "colorbar": {
            "outlinewidth": 0,
            "ticks": ""
           }
          },
          "colorscale": {
           "diverging": [
            [
             0,
             "#8e0152"
            ],
            [
             0.1,
             "#c51b7d"
            ],
            [
             0.2,
             "#de77ae"
            ],
            [
             0.3,
             "#f1b6da"
            ],
            [
             0.4,
             "#fde0ef"
            ],
            [
             0.5,
             "#f7f7f7"
            ],
            [
             0.6,
             "#e6f5d0"
            ],
            [
             0.7,
             "#b8e186"
            ],
            [
             0.8,
             "#7fbc41"
            ],
            [
             0.9,
             "#4d9221"
            ],
            [
             1,
             "#276419"
            ]
           ],
           "sequential": [
            [
             0,
             "#0d0887"
            ],
            [
             0.1111111111111111,
             "#46039f"
            ],
            [
             0.2222222222222222,
             "#7201a8"
            ],
            [
             0.3333333333333333,
             "#9c179e"
            ],
            [
             0.4444444444444444,
             "#bd3786"
            ],
            [
             0.5555555555555556,
             "#d8576b"
            ],
            [
             0.6666666666666666,
             "#ed7953"
            ],
            [
             0.7777777777777778,
             "#fb9f3a"
            ],
            [
             0.8888888888888888,
             "#fdca26"
            ],
            [
             1,
             "#f0f921"
            ]
           ],
           "sequentialminus": [
            [
             0,
             "#0d0887"
            ],
            [
             0.1111111111111111,
             "#46039f"
            ],
            [
             0.2222222222222222,
             "#7201a8"
            ],
            [
             0.3333333333333333,
             "#9c179e"
            ],
            [
             0.4444444444444444,
             "#bd3786"
            ],
            [
             0.5555555555555556,
             "#d8576b"
            ],
            [
             0.6666666666666666,
             "#ed7953"
            ],
            [
             0.7777777777777778,
             "#fb9f3a"
            ],
            [
             0.8888888888888888,
             "#fdca26"
            ],
            [
             1,
             "#f0f921"
            ]
           ]
          },
          "colorway": [
           "#636efa",
           "#EF553B",
           "#00cc96",
           "#ab63fa",
           "#FFA15A",
           "#19d3f3",
           "#FF6692",
           "#B6E880",
           "#FF97FF",
           "#FECB52"
          ],
          "font": {
           "color": "#2a3f5f"
          },
          "geo": {
           "bgcolor": "white",
           "lakecolor": "white",
           "landcolor": "#E5ECF6",
           "showlakes": true,
           "showland": true,
           "subunitcolor": "white"
          },
          "hoverlabel": {
           "align": "left"
          },
          "hovermode": "closest",
          "mapbox": {
           "style": "light"
          },
          "paper_bgcolor": "white",
          "plot_bgcolor": "#E5ECF6",
          "polar": {
           "angularaxis": {
            "gridcolor": "white",
            "linecolor": "white",
            "ticks": ""
           },
           "bgcolor": "#E5ECF6",
           "radialaxis": {
            "gridcolor": "white",
            "linecolor": "white",
            "ticks": ""
           }
          },
          "scene": {
           "xaxis": {
            "backgroundcolor": "#E5ECF6",
            "gridcolor": "white",
            "gridwidth": 2,
            "linecolor": "white",
            "showbackground": true,
            "ticks": "",
            "zerolinecolor": "white"
           },
           "yaxis": {
            "backgroundcolor": "#E5ECF6",
            "gridcolor": "white",
            "gridwidth": 2,
            "linecolor": "white",
            "showbackground": true,
            "ticks": "",
            "zerolinecolor": "white"
           },
           "zaxis": {
            "backgroundcolor": "#E5ECF6",
            "gridcolor": "white",
            "gridwidth": 2,
            "linecolor": "white",
            "showbackground": true,
            "ticks": "",
            "zerolinecolor": "white"
           }
          },
          "shapedefaults": {
           "line": {
            "color": "#2a3f5f"
           }
          },
          "ternary": {
           "aaxis": {
            "gridcolor": "white",
            "linecolor": "white",
            "ticks": ""
           },
           "baxis": {
            "gridcolor": "white",
            "linecolor": "white",
            "ticks": ""
           },
           "bgcolor": "#E5ECF6",
           "caxis": {
            "gridcolor": "white",
            "linecolor": "white",
            "ticks": ""
           }
          },
          "title": {
           "x": 0.05
          },
          "xaxis": {
           "automargin": true,
           "gridcolor": "white",
           "linecolor": "white",
           "ticks": "",
           "title": {
            "standoff": 15
           },
           "zerolinecolor": "white",
           "zerolinewidth": 2
          },
          "yaxis": {
           "automargin": true,
           "gridcolor": "white",
           "linecolor": "white",
           "ticks": "",
           "title": {
            "standoff": 15
           },
           "zerolinecolor": "white",
           "zerolinewidth": 2
          }
         }
        },
        "title": {
         "text": "So sánh tần số nhiệt độ cực đoan theo năm (Hot và Cold)"
        },
        "xaxis": {
         "anchor": "y",
         "domain": [
          0,
          1
         ],
         "title": {
          "text": "Năm"
         }
        },
        "yaxis": {
         "anchor": "x",
         "domain": [
          0,
          1
         ],
         "title": {
          "text": "Tần số xuất hiện"
         }
        }
       }
      }
     },
     "metadata": {},
     "output_type": "display_data"
    }
   ],
   "source": [
    "fig = px.bar(\n",
    "    df1,\n",
    "    x='YEAR',\n",
    "    y=['frequency_hot', 'frequency_cold'],\n",
    "    barmode='group',  # Grouped bar chart\n",
    "    labels={'value': 'Tần số xuất hiện', 'YEAR': 'Năm'},\n",
    "    title='So sánh tần số nhiệt độ cực đoan theo năm (Hot và Cold)',\n",
    "    color_discrete_sequence=['salmon', 'skyblue']\n",
    ")\n",
    "fig.show()\n"
   ]
  },
  {
   "cell_type": "code",
   "execution_count": 241,
   "metadata": {},
   "outputs": [
    {
     "data": {
      "application/vnd.plotly.v1+json": {
       "config": {
        "plotlyServerURL": "https://plot.ly"
       },
       "data": [
        {
         "hovertemplate": "variable=frequency_hot<br>Năm=%{x}<br>Tần số xuất hiện=%{y}<extra></extra>",
         "legendgroup": "frequency_hot",
         "line": {
          "color": "salmon",
          "dash": "solid"
         },
         "marker": {
          "symbol": "circle"
         },
         "mode": "lines+markers",
         "name": "frequency_hot",
         "orientation": "v",
         "showlegend": true,
         "type": "scatter",
         "x": [
          2013,
          2014,
          2015,
          2016,
          2017,
          2018,
          2019,
          2020,
          2021,
          2022,
          2023,
          2024
         ],
         "xaxis": "x",
         "y": [
          16,
          17,
          5,
          9,
          3,
          9,
          38,
          5,
          20,
          24,
          13,
          25
         ],
         "yaxis": "y"
        },
        {
         "hovertemplate": "variable=frequency_cold<br>Năm=%{x}<br>Tần số xuất hiện=%{y}<extra></extra>",
         "legendgroup": "frequency_cold",
         "line": {
          "color": "skyblue",
          "dash": "solid"
         },
         "marker": {
          "symbol": "circle"
         },
         "mode": "lines+markers",
         "name": "frequency_cold",
         "orientation": "v",
         "showlegend": true,
         "type": "scatter",
         "x": [
          2013,
          2014,
          2015,
          2016,
          2017,
          2018,
          2019,
          2020,
          2021,
          2022,
          2023,
          2024
         ],
         "xaxis": "x",
         "y": [
          17,
          23,
          2,
          5,
          0,
          2,
          9,
          0,
          4,
          1,
          2,
          1
         ],
         "yaxis": "y"
        }
       ],
       "layout": {
        "legend": {
         "title": {
          "text": "variable"
         },
         "tracegroupgap": 0
        },
        "template": {
         "data": {
          "bar": [
           {
            "error_x": {
             "color": "#2a3f5f"
            },
            "error_y": {
             "color": "#2a3f5f"
            },
            "marker": {
             "line": {
              "color": "#E5ECF6",
              "width": 0.5
             },
             "pattern": {
              "fillmode": "overlay",
              "size": 10,
              "solidity": 0.2
             }
            },
            "type": "bar"
           }
          ],
          "barpolar": [
           {
            "marker": {
             "line": {
              "color": "#E5ECF6",
              "width": 0.5
             },
             "pattern": {
              "fillmode": "overlay",
              "size": 10,
              "solidity": 0.2
             }
            },
            "type": "barpolar"
           }
          ],
          "carpet": [
           {
            "aaxis": {
             "endlinecolor": "#2a3f5f",
             "gridcolor": "white",
             "linecolor": "white",
             "minorgridcolor": "white",
             "startlinecolor": "#2a3f5f"
            },
            "baxis": {
             "endlinecolor": "#2a3f5f",
             "gridcolor": "white",
             "linecolor": "white",
             "minorgridcolor": "white",
             "startlinecolor": "#2a3f5f"
            },
            "type": "carpet"
           }
          ],
          "choropleth": [
           {
            "colorbar": {
             "outlinewidth": 0,
             "ticks": ""
            },
            "type": "choropleth"
           }
          ],
          "contour": [
           {
            "colorbar": {
             "outlinewidth": 0,
             "ticks": ""
            },
            "colorscale": [
             [
              0,
              "#0d0887"
             ],
             [
              0.1111111111111111,
              "#46039f"
             ],
             [
              0.2222222222222222,
              "#7201a8"
             ],
             [
              0.3333333333333333,
              "#9c179e"
             ],
             [
              0.4444444444444444,
              "#bd3786"
             ],
             [
              0.5555555555555556,
              "#d8576b"
             ],
             [
              0.6666666666666666,
              "#ed7953"
             ],
             [
              0.7777777777777778,
              "#fb9f3a"
             ],
             [
              0.8888888888888888,
              "#fdca26"
             ],
             [
              1,
              "#f0f921"
             ]
            ],
            "type": "contour"
           }
          ],
          "contourcarpet": [
           {
            "colorbar": {
             "outlinewidth": 0,
             "ticks": ""
            },
            "type": "contourcarpet"
           }
          ],
          "heatmap": [
           {
            "colorbar": {
             "outlinewidth": 0,
             "ticks": ""
            },
            "colorscale": [
             [
              0,
              "#0d0887"
             ],
             [
              0.1111111111111111,
              "#46039f"
             ],
             [
              0.2222222222222222,
              "#7201a8"
             ],
             [
              0.3333333333333333,
              "#9c179e"
             ],
             [
              0.4444444444444444,
              "#bd3786"
             ],
             [
              0.5555555555555556,
              "#d8576b"
             ],
             [
              0.6666666666666666,
              "#ed7953"
             ],
             [
              0.7777777777777778,
              "#fb9f3a"
             ],
             [
              0.8888888888888888,
              "#fdca26"
             ],
             [
              1,
              "#f0f921"
             ]
            ],
            "type": "heatmap"
           }
          ],
          "heatmapgl": [
           {
            "colorbar": {
             "outlinewidth": 0,
             "ticks": ""
            },
            "colorscale": [
             [
              0,
              "#0d0887"
             ],
             [
              0.1111111111111111,
              "#46039f"
             ],
             [
              0.2222222222222222,
              "#7201a8"
             ],
             [
              0.3333333333333333,
              "#9c179e"
             ],
             [
              0.4444444444444444,
              "#bd3786"
             ],
             [
              0.5555555555555556,
              "#d8576b"
             ],
             [
              0.6666666666666666,
              "#ed7953"
             ],
             [
              0.7777777777777778,
              "#fb9f3a"
             ],
             [
              0.8888888888888888,
              "#fdca26"
             ],
             [
              1,
              "#f0f921"
             ]
            ],
            "type": "heatmapgl"
           }
          ],
          "histogram": [
           {
            "marker": {
             "pattern": {
              "fillmode": "overlay",
              "size": 10,
              "solidity": 0.2
             }
            },
            "type": "histogram"
           }
          ],
          "histogram2d": [
           {
            "colorbar": {
             "outlinewidth": 0,
             "ticks": ""
            },
            "colorscale": [
             [
              0,
              "#0d0887"
             ],
             [
              0.1111111111111111,
              "#46039f"
             ],
             [
              0.2222222222222222,
              "#7201a8"
             ],
             [
              0.3333333333333333,
              "#9c179e"
             ],
             [
              0.4444444444444444,
              "#bd3786"
             ],
             [
              0.5555555555555556,
              "#d8576b"
             ],
             [
              0.6666666666666666,
              "#ed7953"
             ],
             [
              0.7777777777777778,
              "#fb9f3a"
             ],
             [
              0.8888888888888888,
              "#fdca26"
             ],
             [
              1,
              "#f0f921"
             ]
            ],
            "type": "histogram2d"
           }
          ],
          "histogram2dcontour": [
           {
            "colorbar": {
             "outlinewidth": 0,
             "ticks": ""
            },
            "colorscale": [
             [
              0,
              "#0d0887"
             ],
             [
              0.1111111111111111,
              "#46039f"
             ],
             [
              0.2222222222222222,
              "#7201a8"
             ],
             [
              0.3333333333333333,
              "#9c179e"
             ],
             [
              0.4444444444444444,
              "#bd3786"
             ],
             [
              0.5555555555555556,
              "#d8576b"
             ],
             [
              0.6666666666666666,
              "#ed7953"
             ],
             [
              0.7777777777777778,
              "#fb9f3a"
             ],
             [
              0.8888888888888888,
              "#fdca26"
             ],
             [
              1,
              "#f0f921"
             ]
            ],
            "type": "histogram2dcontour"
           }
          ],
          "mesh3d": [
           {
            "colorbar": {
             "outlinewidth": 0,
             "ticks": ""
            },
            "type": "mesh3d"
           }
          ],
          "parcoords": [
           {
            "line": {
             "colorbar": {
              "outlinewidth": 0,
              "ticks": ""
             }
            },
            "type": "parcoords"
           }
          ],
          "pie": [
           {
            "automargin": true,
            "type": "pie"
           }
          ],
          "scatter": [
           {
            "fillpattern": {
             "fillmode": "overlay",
             "size": 10,
             "solidity": 0.2
            },
            "type": "scatter"
           }
          ],
          "scatter3d": [
           {
            "line": {
             "colorbar": {
              "outlinewidth": 0,
              "ticks": ""
             }
            },
            "marker": {
             "colorbar": {
              "outlinewidth": 0,
              "ticks": ""
             }
            },
            "type": "scatter3d"
           }
          ],
          "scattercarpet": [
           {
            "marker": {
             "colorbar": {
              "outlinewidth": 0,
              "ticks": ""
             }
            },
            "type": "scattercarpet"
           }
          ],
          "scattergeo": [
           {
            "marker": {
             "colorbar": {
              "outlinewidth": 0,
              "ticks": ""
             }
            },
            "type": "scattergeo"
           }
          ],
          "scattergl": [
           {
            "marker": {
             "colorbar": {
              "outlinewidth": 0,
              "ticks": ""
             }
            },
            "type": "scattergl"
           }
          ],
          "scattermapbox": [
           {
            "marker": {
             "colorbar": {
              "outlinewidth": 0,
              "ticks": ""
             }
            },
            "type": "scattermapbox"
           }
          ],
          "scatterpolar": [
           {
            "marker": {
             "colorbar": {
              "outlinewidth": 0,
              "ticks": ""
             }
            },
            "type": "scatterpolar"
           }
          ],
          "scatterpolargl": [
           {
            "marker": {
             "colorbar": {
              "outlinewidth": 0,
              "ticks": ""
             }
            },
            "type": "scatterpolargl"
           }
          ],
          "scatterternary": [
           {
            "marker": {
             "colorbar": {
              "outlinewidth": 0,
              "ticks": ""
             }
            },
            "type": "scatterternary"
           }
          ],
          "surface": [
           {
            "colorbar": {
             "outlinewidth": 0,
             "ticks": ""
            },
            "colorscale": [
             [
              0,
              "#0d0887"
             ],
             [
              0.1111111111111111,
              "#46039f"
             ],
             [
              0.2222222222222222,
              "#7201a8"
             ],
             [
              0.3333333333333333,
              "#9c179e"
             ],
             [
              0.4444444444444444,
              "#bd3786"
             ],
             [
              0.5555555555555556,
              "#d8576b"
             ],
             [
              0.6666666666666666,
              "#ed7953"
             ],
             [
              0.7777777777777778,
              "#fb9f3a"
             ],
             [
              0.8888888888888888,
              "#fdca26"
             ],
             [
              1,
              "#f0f921"
             ]
            ],
            "type": "surface"
           }
          ],
          "table": [
           {
            "cells": {
             "fill": {
              "color": "#EBF0F8"
             },
             "line": {
              "color": "white"
             }
            },
            "header": {
             "fill": {
              "color": "#C8D4E3"
             },
             "line": {
              "color": "white"
             }
            },
            "type": "table"
           }
          ]
         },
         "layout": {
          "annotationdefaults": {
           "arrowcolor": "#2a3f5f",
           "arrowhead": 0,
           "arrowwidth": 1
          },
          "autotypenumbers": "strict",
          "coloraxis": {
           "colorbar": {
            "outlinewidth": 0,
            "ticks": ""
           }
          },
          "colorscale": {
           "diverging": [
            [
             0,
             "#8e0152"
            ],
            [
             0.1,
             "#c51b7d"
            ],
            [
             0.2,
             "#de77ae"
            ],
            [
             0.3,
             "#f1b6da"
            ],
            [
             0.4,
             "#fde0ef"
            ],
            [
             0.5,
             "#f7f7f7"
            ],
            [
             0.6,
             "#e6f5d0"
            ],
            [
             0.7,
             "#b8e186"
            ],
            [
             0.8,
             "#7fbc41"
            ],
            [
             0.9,
             "#4d9221"
            ],
            [
             1,
             "#276419"
            ]
           ],
           "sequential": [
            [
             0,
             "#0d0887"
            ],
            [
             0.1111111111111111,
             "#46039f"
            ],
            [
             0.2222222222222222,
             "#7201a8"
            ],
            [
             0.3333333333333333,
             "#9c179e"
            ],
            [
             0.4444444444444444,
             "#bd3786"
            ],
            [
             0.5555555555555556,
             "#d8576b"
            ],
            [
             0.6666666666666666,
             "#ed7953"
            ],
            [
             0.7777777777777778,
             "#fb9f3a"
            ],
            [
             0.8888888888888888,
             "#fdca26"
            ],
            [
             1,
             "#f0f921"
            ]
           ],
           "sequentialminus": [
            [
             0,
             "#0d0887"
            ],
            [
             0.1111111111111111,
             "#46039f"
            ],
            [
             0.2222222222222222,
             "#7201a8"
            ],
            [
             0.3333333333333333,
             "#9c179e"
            ],
            [
             0.4444444444444444,
             "#bd3786"
            ],
            [
             0.5555555555555556,
             "#d8576b"
            ],
            [
             0.6666666666666666,
             "#ed7953"
            ],
            [
             0.7777777777777778,
             "#fb9f3a"
            ],
            [
             0.8888888888888888,
             "#fdca26"
            ],
            [
             1,
             "#f0f921"
            ]
           ]
          },
          "colorway": [
           "#636efa",
           "#EF553B",
           "#00cc96",
           "#ab63fa",
           "#FFA15A",
           "#19d3f3",
           "#FF6692",
           "#B6E880",
           "#FF97FF",
           "#FECB52"
          ],
          "font": {
           "color": "#2a3f5f"
          },
          "geo": {
           "bgcolor": "white",
           "lakecolor": "white",
           "landcolor": "#E5ECF6",
           "showlakes": true,
           "showland": true,
           "subunitcolor": "white"
          },
          "hoverlabel": {
           "align": "left"
          },
          "hovermode": "closest",
          "mapbox": {
           "style": "light"
          },
          "paper_bgcolor": "white",
          "plot_bgcolor": "#E5ECF6",
          "polar": {
           "angularaxis": {
            "gridcolor": "white",
            "linecolor": "white",
            "ticks": ""
           },
           "bgcolor": "#E5ECF6",
           "radialaxis": {
            "gridcolor": "white",
            "linecolor": "white",
            "ticks": ""
           }
          },
          "scene": {
           "xaxis": {
            "backgroundcolor": "#E5ECF6",
            "gridcolor": "white",
            "gridwidth": 2,
            "linecolor": "white",
            "showbackground": true,
            "ticks": "",
            "zerolinecolor": "white"
           },
           "yaxis": {
            "backgroundcolor": "#E5ECF6",
            "gridcolor": "white",
            "gridwidth": 2,
            "linecolor": "white",
            "showbackground": true,
            "ticks": "",
            "zerolinecolor": "white"
           },
           "zaxis": {
            "backgroundcolor": "#E5ECF6",
            "gridcolor": "white",
            "gridwidth": 2,
            "linecolor": "white",
            "showbackground": true,
            "ticks": "",
            "zerolinecolor": "white"
           }
          },
          "shapedefaults": {
           "line": {
            "color": "#2a3f5f"
           }
          },
          "ternary": {
           "aaxis": {
            "gridcolor": "white",
            "linecolor": "white",
            "ticks": ""
           },
           "baxis": {
            "gridcolor": "white",
            "linecolor": "white",
            "ticks": ""
           },
           "bgcolor": "#E5ECF6",
           "caxis": {
            "gridcolor": "white",
            "linecolor": "white",
            "ticks": ""
           }
          },
          "title": {
           "x": 0.05
          },
          "xaxis": {
           "automargin": true,
           "gridcolor": "white",
           "linecolor": "white",
           "ticks": "",
           "title": {
            "standoff": 15
           },
           "zerolinecolor": "white",
           "zerolinewidth": 2
          },
          "yaxis": {
           "automargin": true,
           "gridcolor": "white",
           "linecolor": "white",
           "ticks": "",
           "title": {
            "standoff": 15
           },
           "zerolinecolor": "white",
           "zerolinewidth": 2
          }
         }
        },
        "title": {
         "text": "Xu hướng tần số nhiệt độ cực đoan theo năm"
        },
        "xaxis": {
         "anchor": "y",
         "domain": [
          0,
          1
         ],
         "title": {
          "text": "Năm"
         }
        },
        "yaxis": {
         "anchor": "x",
         "domain": [
          0,
          1
         ],
         "title": {
          "text": "Tần số xuất hiện"
         }
        }
       }
      }
     },
     "metadata": {},
     "output_type": "display_data"
    }
   ],
   "source": [
    "fig = px.line(\n",
    "    df1,\n",
    "    x='YEAR',\n",
    "    y=['frequency_hot', 'frequency_cold'],\n",
    "    labels={'value': 'Tần số xuất hiện', 'YEAR': 'Năm'},\n",
    "    title='Xu hướng tần số nhiệt độ cực đoan theo năm',\n",
    "    markers=True,\n",
    "    color_discrete_sequence=['salmon', 'skyblue']\n",
    ")\n",
    "fig.show()\n"
   ]
  },
  {
   "cell_type": "code",
   "execution_count": 242,
   "metadata": {},
   "outputs": [
    {
     "data": {
      "image/png": "[encoded data removed]",
      "text/plain": [
       "<Figure size 1000x600 with 1 Axes>"
      ]
     },
     "metadata": {},
     "output_type": "display_data"
    }
   ],
   "source": [
    "plt.figure(figsize=(10, 6))\n",
    "sns.histplot(df['TAVG'], kde=True, color='blue', bins=10, stat='density', linewidth=0)\n",
    "\n",
    "# Tính toán các tham số cho phân phối chuẩn (mean và std dev)\n",
    "mean = df1['TAVG'].mean()\n",
    "std_dev = df1['TAVG'].std()\n",
    "\n",
    "# Vẽ đường phân phối chuẩn\n",
    "xmin, xmax = plt.xlim()  # Lấy phạm vi của trục x\n",
    "x = np.linspace(xmin, xmax, 100)\n",
    "p = norm.pdf(x, mean, std_dev)\n",
    "plt.plot(x, p, 'k', linewidth=2)\n",
    "\n",
    "# Thêm tiêu đề và nhãn\n",
    "plt.title('Phân phối Nhiệt độ Trung bình theo Năm')\n",
    "plt.xlabel('Nhiệt độ Trung bình (°C)')\n",
    "plt.ylabel('Mật độ')\n",
    "\n",
    "# Hiển thị đồ thị\n",
    "plt.show()"
   ]
  },
  {
   "cell_type": "code",
   "execution_count": 243,
   "metadata": {},
   "outputs": [],
   "source": [
    "df_orr = df.groupby(['MONTH','YEAR'])['TAVG'].mean().reset_index()\n",
    "df_orr1 = df.groupby(['MONTH','YEAR'])['TMIN'].min().reset_index()\n",
    "df_orr2 = df.groupby(['MONTH','YEAR'])['TMAX'].max().reset_index()\n",
    "df_orr3 = df.groupby(['MONTH','YEAR'])['PRCP'].sum().reset_index()\n",
    "df_orr = df_orr.merge(df_orr1,on=['YEAR','MONTH'],how='left')\n",
    "df_orr = df_orr.merge(df_orr2,on=['YEAR','MONTH'],how='left')\n",
    "df_orr = df_orr.merge(df_orr3,on=['YEAR','MONTH'],how='left')\n",
    "df_orr = df_orr[df_orr['YEAR'].isin([2021,2022,2023,2024])]\n",
    "df_orr.columns = df_orr.columns.str.lower()\n",
    "df_orr.to_csv('correlate.csv',index=False)"
   ]
  },
  {
   "cell_type": "markdown",
   "metadata": {},
   "source": [
    "11. DỰ BÁO NHIỆT ĐỘ"
   ]
  },
  {
   "cell_type": "code",
   "execution_count": 244,
   "metadata": {},
   "outputs": [
    {
     "data": {
      "image/png": "[encoded data removed]",
      "text/plain": [
       "<Figure size 640x480 with 1 Axes>"
      ]
     },
     "metadata": {},
     "output_type": "display_data"
    }
   ],
   "source": [
    "sns.scatterplot(\n",
    "    data=df,\n",
    "    x = 'TAVG',\n",
    "    y = 'PRCP'\n",
    ")\n",
    "plt.show()"
   ]
  },
  {
   "cell_type": "code",
   "execution_count": 245,
   "metadata": {},
   "outputs": [
    {
     "name": "stdout",
     "output_type": "stream",
     "text": [
      "0.008608439003986862 -0.04380258142801393\n"
     ]
    }
   ],
   "source": [
    "# đặt 2 vector là x và y\n",
    "x = df['TAVG'].values\n",
    "y = df['PRCP'].values\n",
    "# tìm m và b trong phương trình y = m*x+b\n",
    "N = x.shape[0] # lấy số lượng hàng của x\n",
    "m = (N*np.sum(x*y)-np.sum(x)*np.sum(y))/(N*np.sum(x**2)-(np.sum(x)**2))\n",
    "b = (np.sum(y)-m*np.sum(x))/N\n",
    "print(m,b)\n"
   ]
  },
  {
   "cell_type": "code",
   "execution_count": 246,
   "metadata": {},
   "outputs": [
    {
     "data": {
      "image/png": "[encoded data removed]",
      "text/plain": [
       "<Figure size 640x480 with 1 Axes>"
      ]
     },
     "metadata": {},
     "output_type": "display_data"
    }
   ],
   "source": [
    "# vẽ\n",
    "x_min = np.min(x)\n",
    "y_min = m*x_min+b\n",
    "x_max = np.max(x)\n",
    "y_max = m*x_max+b\n",
    "fig,ax = plt.subplots()\n",
    "sns.scatterplot(\n",
    "    data= df,\n",
    "    x = 'TAVG',\n",
    "    y = 'PRCP',\n",
    "    ax=ax,\n",
    "    alpha = 0.4\n",
    ")\n",
    "sns.lineplot(\n",
    "    x = [x_min,x_max],\n",
    "    y = [y_min,y_max],\n",
    "    linewidth = 1.5,\n",
    "    color = 'red'\n",
    ")\n",
    "plt.show()"
   ]
  },
  {
   "cell_type": "code",
   "execution_count": 247,
   "metadata": {},
   "outputs": [
    {
     "data": {
      "text/html": [
       "<div>\n",
       "<style scoped>\n",
       "    .dataframe tbody tr th:only-of-type {\n",
       "        vertical-align: middle;\n",
       "    }\n",
       "\n",
       "    .dataframe tbody tr th {\n",
       "        vertical-align: top;\n",
       "    }\n",
       "\n",
       "    .dataframe thead th {\n",
       "        text-align: right;\n",
       "    }\n",
       "</style>\n",
       "<table border=\"1\" class=\"dataframe\">\n",
       "  <thead>\n",
       "    <tr style=\"text-align: right;\">\n",
       "      <th></th>\n",
       "      <th>TAVG</th>\n",
       "      <th>TMAX</th>\n",
       "      <th>TMIN</th>\n",
       "      <th>PRCP</th>\n",
       "    </tr>\n",
       "    <tr>\n",
       "      <th>DATE</th>\n",
       "      <th></th>\n",
       "      <th></th>\n",
       "      <th></th>\n",
       "      <th></th>\n",
       "    </tr>\n",
       "  </thead>\n",
       "  <tbody>\n",
       "    <tr>\n",
       "      <th>2013-01-01</th>\n",
       "      <td>12.683333</td>\n",
       "      <td>14.800000</td>\n",
       "      <td>10.266667</td>\n",
       "      <td>0.000000</td>\n",
       "    </tr>\n",
       "    <tr>\n",
       "      <th>2013-01-02</th>\n",
       "      <td>14.100000</td>\n",
       "      <td>17.000000</td>\n",
       "      <td>9.680000</td>\n",
       "      <td>0.000000</td>\n",
       "    </tr>\n",
       "    <tr>\n",
       "      <th>2013-01-04</th>\n",
       "      <td>12.600000</td>\n",
       "      <td>14.633333</td>\n",
       "      <td>11.666667</td>\n",
       "      <td>0.006667</td>\n",
       "    </tr>\n",
       "    <tr>\n",
       "      <th>2013-01-05</th>\n",
       "      <td>9.175000</td>\n",
       "      <td>10.700000</td>\n",
       "      <td>8.200000</td>\n",
       "      <td>0.012500</td>\n",
       "    </tr>\n",
       "    <tr>\n",
       "      <th>2013-01-06</th>\n",
       "      <td>10.466667</td>\n",
       "      <td>11.766667</td>\n",
       "      <td>8.900000</td>\n",
       "      <td>0.030000</td>\n",
       "    </tr>\n",
       "    <tr>\n",
       "      <th>...</th>\n",
       "      <td>...</td>\n",
       "      <td>...</td>\n",
       "      <td>...</td>\n",
       "      <td>...</td>\n",
       "    </tr>\n",
       "    <tr>\n",
       "      <th>2024-09-14</th>\n",
       "      <td>28.050000</td>\n",
       "      <td>32.766667</td>\n",
       "      <td>24.183333</td>\n",
       "      <td>0.020000</td>\n",
       "    </tr>\n",
       "    <tr>\n",
       "      <th>2024-09-15</th>\n",
       "      <td>28.175000</td>\n",
       "      <td>33.200000</td>\n",
       "      <td>24.175000</td>\n",
       "      <td>0.050000</td>\n",
       "    </tr>\n",
       "    <tr>\n",
       "      <th>2024-09-30</th>\n",
       "      <td>25.600000</td>\n",
       "      <td>31.100000</td>\n",
       "      <td>23.900000</td>\n",
       "      <td>0.310000</td>\n",
       "    </tr>\n",
       "    <tr>\n",
       "      <th>2024-11-09</th>\n",
       "      <td>19.800000</td>\n",
       "      <td>27.600000</td>\n",
       "      <td>13.300000</td>\n",
       "      <td>0.000000</td>\n",
       "    </tr>\n",
       "    <tr>\n",
       "      <th>2024-11-11</th>\n",
       "      <td>25.600000</td>\n",
       "      <td>30.600000</td>\n",
       "      <td>21.700000</td>\n",
       "      <td>0.000000</td>\n",
       "    </tr>\n",
       "  </tbody>\n",
       "</table>\n",
       "<p>2059 rows × 4 columns</p>\n",
       "</div>"
      ],
      "text/plain": [
       "                 TAVG       TMAX       TMIN      PRCP\n",
       "DATE                                                 \n",
       "2013-01-01  12.683333  14.800000  10.266667  0.000000\n",
       "2013-01-02  14.100000  17.000000   9.680000  0.000000\n",
       "2013-01-04  12.600000  14.633333  11.666667  0.006667\n",
       "2013-01-05   9.175000  10.700000   8.200000  0.012500\n",
       "2013-01-06  10.466667  11.766667   8.900000  0.030000\n",
       "...               ...        ...        ...       ...\n",
       "2024-09-14  28.050000  32.766667  24.183333  0.020000\n",
       "2024-09-15  28.175000  33.200000  24.175000  0.050000\n",
       "2024-09-30  25.600000  31.100000  23.900000  0.310000\n",
       "2024-11-09  19.800000  27.600000  13.300000  0.000000\n",
       "2024-11-11  25.600000  30.600000  21.700000  0.000000\n",
       "\n",
       "[2059 rows x 4 columns]"
      ]
     },
     "execution_count": 247,
     "metadata": {},
     "output_type": "execute_result"
    },
    {
     "data": {
      "image/png": "[encoded data removed]",
      "text/plain": [
       "<Figure size 640x480 with 1 Axes>"
      ]
     },
     "metadata": {},
     "output_type": "display_data"
    }
   ],
   "source": [
    "df = df.groupby(['DATE'])[['TAVG','TMAX','TMIN','PRCP']].mean().reset_index()\n",
    "df['TAVG'].plot()\n",
    "df.set_index(df['DATE'],inplace=True)\n",
    "df = df.drop('DATE',axis=1)\n",
    "df"
   ]
  },
  {
   "cell_type": "code",
   "execution_count": 248,
   "metadata": {},
   "outputs": [
    {
     "data": {
      "text/html": [
       "<div>\n",
       "<style scoped>\n",
       "    .dataframe tbody tr th:only-of-type {\n",
       "        vertical-align: middle;\n",
       "    }\n",
       "\n",
       "    .dataframe tbody tr th {\n",
       "        vertical-align: top;\n",
       "    }\n",
       "\n",
       "    .dataframe thead th {\n",
       "        text-align: right;\n",
       "    }\n",
       "</style>\n",
       "<table border=\"1\" class=\"dataframe\">\n",
       "  <thead>\n",
       "    <tr style=\"text-align: right;\">\n",
       "      <th></th>\n",
       "      <th>actual</th>\n",
       "      <th>prediction</th>\n",
       "      <th>diff</th>\n",
       "    </tr>\n",
       "    <tr>\n",
       "      <th>DATE</th>\n",
       "      <th></th>\n",
       "      <th></th>\n",
       "      <th></th>\n",
       "    </tr>\n",
       "  </thead>\n",
       "  <tbody>\n",
       "    <tr>\n",
       "      <th>2013-01-02</th>\n",
       "      <td>12.600000</td>\n",
       "      <td>14.100000</td>\n",
       "      <td>1.500000</td>\n",
       "    </tr>\n",
       "    <tr>\n",
       "      <th>2013-01-04</th>\n",
       "      <td>9.175000</td>\n",
       "      <td>14.344764</td>\n",
       "      <td>5.169764</td>\n",
       "    </tr>\n",
       "    <tr>\n",
       "      <th>2013-01-05</th>\n",
       "      <td>10.466667</td>\n",
       "      <td>26.728620</td>\n",
       "      <td>16.261953</td>\n",
       "    </tr>\n",
       "    <tr>\n",
       "      <th>2013-01-06</th>\n",
       "      <td>11.033333</td>\n",
       "      <td>11.800376</td>\n",
       "      <td>0.767042</td>\n",
       "    </tr>\n",
       "    <tr>\n",
       "      <th>2013-01-07</th>\n",
       "      <td>10.000000</td>\n",
       "      <td>11.046485</td>\n",
       "      <td>1.046485</td>\n",
       "    </tr>\n",
       "    <tr>\n",
       "      <th>...</th>\n",
       "      <td>...</td>\n",
       "      <td>...</td>\n",
       "      <td>...</td>\n",
       "    </tr>\n",
       "    <tr>\n",
       "      <th>2024-09-14</th>\n",
       "      <td>28.175000</td>\n",
       "      <td>27.364797</td>\n",
       "      <td>0.810203</td>\n",
       "    </tr>\n",
       "    <tr>\n",
       "      <th>2024-09-15</th>\n",
       "      <td>25.600000</td>\n",
       "      <td>27.436379</td>\n",
       "      <td>1.836379</td>\n",
       "    </tr>\n",
       "    <tr>\n",
       "      <th>2024-09-30</th>\n",
       "      <td>19.800000</td>\n",
       "      <td>25.536843</td>\n",
       "      <td>5.736843</td>\n",
       "    </tr>\n",
       "    <tr>\n",
       "      <th>2024-11-09</th>\n",
       "      <td>25.600000</td>\n",
       "      <td>19.230332</td>\n",
       "      <td>6.369668</td>\n",
       "    </tr>\n",
       "    <tr>\n",
       "      <th>2024-11-11</th>\n",
       "      <td>25.600000</td>\n",
       "      <td>25.126124</td>\n",
       "      <td>0.473876</td>\n",
       "    </tr>\n",
       "  </tbody>\n",
       "</table>\n",
       "<p>2058 rows × 3 columns</p>\n",
       "</div>"
      ],
      "text/plain": [
       "               actual  prediction       diff\n",
       "DATE                                        \n",
       "2013-01-02  12.600000   14.100000   1.500000\n",
       "2013-01-04   9.175000   14.344764   5.169764\n",
       "2013-01-05  10.466667   26.728620  16.261953\n",
       "2013-01-06  11.033333   11.800376   0.767042\n",
       "2013-01-07  10.000000   11.046485   1.046485\n",
       "...               ...         ...        ...\n",
       "2024-09-14  28.175000   27.364797   0.810203\n",
       "2024-09-15  25.600000   27.436379   1.836379\n",
       "2024-09-30  19.800000   25.536843   5.736843\n",
       "2024-11-09  25.600000   19.230332   6.369668\n",
       "2024-11-11  25.600000   25.126124   0.473876\n",
       "\n",
       "[2058 rows x 3 columns]"
      ]
     },
     "execution_count": 248,
     "metadata": {},
     "output_type": "execute_result"
    }
   ],
   "source": [
    "df[\"target\"] = df.shift(-1)[\"TAVG\"]\n",
    "df = df.ffill()\n",
    "rr = Ridge(alpha=.1)\n",
    "predictors = df.columns[~df.columns.isin(['YEAR','MONTH','target'])]\n",
    "def backtest(weather, model, predictors, start=1, step=1):\n",
    "    all_predictions = []\n",
    "    for i in range(start, weather.shape[0], step):\n",
    "        train = weather.iloc[:i,:]\n",
    "        test = weather.iloc[i:(i+step),:]\n",
    "        \n",
    "        model.fit(train[predictors], train[\"target\"])\n",
    "        \n",
    "        preds = model.predict(test[predictors])\n",
    "        preds = pd.Series(preds, index=test.index)\n",
    "        combined = pd.concat([test[\"target\"], preds], axis=1)\n",
    "        combined.columns = [\"actual\", \"prediction\"]\n",
    "        combined[\"diff\"] = (combined[\"prediction\"] - combined[\"actual\"]).abs()\n",
    "        \n",
    "        all_predictions.append(combined)\n",
    "    return pd.concat(all_predictions)\n",
    "predictions = backtest(df, rr, predictors)\n",
    "predictions"
   ]
  },
  {
   "cell_type": "code",
   "execution_count": 249,
   "metadata": {},
   "outputs": [
    {
     "data": {
      "text/plain": [
       "1.6519026244714707"
      ]
     },
     "execution_count": 249,
     "metadata": {},
     "output_type": "execute_result"
    }
   ],
   "source": [
    "mean_absolute_error(predictions[\"actual\"], predictions[\"prediction\"])"
   ]
  },
  {
   "cell_type": "code",
   "execution_count": 250,
   "metadata": {},
   "outputs": [
    {
     "data": {
      "text/html": [
       "<div>\n",
       "<style scoped>\n",
       "    .dataframe tbody tr th:only-of-type {\n",
       "        vertical-align: middle;\n",
       "    }\n",
       "\n",
       "    .dataframe tbody tr th {\n",
       "        vertical-align: top;\n",
       "    }\n",
       "\n",
       "    .dataframe thead th {\n",
       "        text-align: right;\n",
       "    }\n",
       "</style>\n",
       "<table border=\"1\" class=\"dataframe\">\n",
       "  <thead>\n",
       "    <tr style=\"text-align: right;\">\n",
       "      <th></th>\n",
       "      <th>actual</th>\n",
       "      <th>prediction</th>\n",
       "      <th>diff</th>\n",
       "    </tr>\n",
       "    <tr>\n",
       "      <th>DATE</th>\n",
       "      <th></th>\n",
       "      <th></th>\n",
       "      <th></th>\n",
       "    </tr>\n",
       "  </thead>\n",
       "  <tbody>\n",
       "    <tr>\n",
       "      <th>2013-01-05</th>\n",
       "      <td>10.466667</td>\n",
       "      <td>26.728620</td>\n",
       "      <td>16.261953</td>\n",
       "    </tr>\n",
       "    <tr>\n",
       "      <th>2022-02-18</th>\n",
       "      <td>7.500000</td>\n",
       "      <td>22.757901</td>\n",
       "      <td>15.257901</td>\n",
       "    </tr>\n",
       "    <tr>\n",
       "      <th>2022-09-22</th>\n",
       "      <td>13.900000</td>\n",
       "      <td>27.425153</td>\n",
       "      <td>13.525153</td>\n",
       "    </tr>\n",
       "    <tr>\n",
       "      <th>2018-01-26</th>\n",
       "      <td>7.200000</td>\n",
       "      <td>20.179500</td>\n",
       "      <td>12.979500</td>\n",
       "    </tr>\n",
       "    <tr>\n",
       "      <th>2024-01-20</th>\n",
       "      <td>8.850000</td>\n",
       "      <td>21.560728</td>\n",
       "      <td>12.710728</td>\n",
       "    </tr>\n",
       "    <tr>\n",
       "      <th>...</th>\n",
       "      <td>...</td>\n",
       "      <td>...</td>\n",
       "      <td>...</td>\n",
       "    </tr>\n",
       "    <tr>\n",
       "      <th>2017-06-06</th>\n",
       "      <td>28.300000</td>\n",
       "      <td>28.291415</td>\n",
       "      <td>0.008585</td>\n",
       "    </tr>\n",
       "    <tr>\n",
       "      <th>2022-07-26</th>\n",
       "      <td>29.460000</td>\n",
       "      <td>29.463177</td>\n",
       "      <td>0.003177</td>\n",
       "    </tr>\n",
       "    <tr>\n",
       "      <th>2014-10-02</th>\n",
       "      <td>27.416667</td>\n",
       "      <td>27.414971</td>\n",
       "      <td>0.001696</td>\n",
       "    </tr>\n",
       "    <tr>\n",
       "      <th>2014-11-25</th>\n",
       "      <td>22.966667</td>\n",
       "      <td>22.966491</td>\n",
       "      <td>0.000176</td>\n",
       "    </tr>\n",
       "    <tr>\n",
       "      <th>2015-01-27</th>\n",
       "      <td>20.366667</td>\n",
       "      <td>20.366799</td>\n",
       "      <td>0.000133</td>\n",
       "    </tr>\n",
       "  </tbody>\n",
       "</table>\n",
       "<p>2058 rows × 3 columns</p>\n",
       "</div>"
      ],
      "text/plain": [
       "               actual  prediction       diff\n",
       "DATE                                        \n",
       "2013-01-05  10.466667   26.728620  16.261953\n",
       "2022-02-18   7.500000   22.757901  15.257901\n",
       "2022-09-22  13.900000   27.425153  13.525153\n",
       "2018-01-26   7.200000   20.179500  12.979500\n",
       "2024-01-20   8.850000   21.560728  12.710728\n",
       "...               ...         ...        ...\n",
       "2017-06-06  28.300000   28.291415   0.008585\n",
       "2022-07-26  29.460000   29.463177   0.003177\n",
       "2014-10-02  27.416667   27.414971   0.001696\n",
       "2014-11-25  22.966667   22.966491   0.000176\n",
       "2015-01-27  20.366667   20.366799   0.000133\n",
       "\n",
       "[2058 rows x 3 columns]"
      ]
     },
     "execution_count": 250,
     "metadata": {},
     "output_type": "execute_result"
    }
   ],
   "source": [
    "predictions.sort_values(\"diff\", ascending=False)"
   ]
  },
  {
   "cell_type": "code",
   "execution_count": 251,
   "metadata": {},
   "outputs": [
    {
     "data": {
      "text/plain": [
       "TAVG    0.890177\n",
       "TMAX   -0.126881\n",
       "TMIN    0.129167\n",
       "PRCP    0.530875\n",
       "dtype: float64"
      ]
     },
     "execution_count": 251,
     "metadata": {},
     "output_type": "execute_result"
    }
   ],
   "source": [
    "pd.Series(rr.coef_, index=predictors)"
   ]
  },
  {
   "cell_type": "code",
   "execution_count": 252,
   "metadata": {},
   "outputs": [],
   "source": [
    "def pct_diff(old, new):\n",
    "    return (new - old) / old\n",
    "\n",
    "def compute_rolling(weather, horizon, col):\n",
    "    label = f\"rolling_{horizon}_{col}\"\n",
    "    weather[label] = weather[col].rolling(horizon).mean()\n",
    "    weather[f\"{label}_pct\"] = pct_diff(weather[label], weather[col])\n",
    "    return weather\n",
    "    \n",
    "rolling_horizons = [3, 14]\n",
    "for horizon in rolling_horizons:\n",
    "    for col in [\"TMAX\", \"TMIN\", \"PRCP\",'TAVG']:\n",
    "        df = compute_rolling(df, horizon, col)"
   ]
  },
  {
   "cell_type": "code",
   "execution_count": 253,
   "metadata": {},
   "outputs": [],
   "source": [
    "def expand_mean(df):\n",
    "    return df.expanding(1).mean()\n",
    "df.index = pd.to_datetime(df.index)\n",
    "for col in [\"TMAX\", \"TMIN\", \"PRCP\",'TAVG']:\n",
    "    df[f\"month_avg_{col}\"] = df[col].groupby(df.index.month, group_keys=False).apply(expand_mean)\n",
    "    df[f\"day_avg_{col}\"] = df[col].groupby(df.index.day_of_year, group_keys=False).apply(expand_mean)"
   ]
  },
  {
   "cell_type": "code",
   "execution_count": 254,
   "metadata": {},
   "outputs": [
    {
     "data": {
      "text/html": [
       "<div>\n",
       "<style scoped>\n",
       "    .dataframe tbody tr th:only-of-type {\n",
       "        vertical-align: middle;\n",
       "    }\n",
       "\n",
       "    .dataframe tbody tr th {\n",
       "        vertical-align: top;\n",
       "    }\n",
       "\n",
       "    .dataframe thead th {\n",
       "        text-align: right;\n",
       "    }\n",
       "</style>\n",
       "<table border=\"1\" class=\"dataframe\">\n",
       "  <thead>\n",
       "    <tr style=\"text-align: right;\">\n",
       "      <th></th>\n",
       "      <th>TAVG</th>\n",
       "      <th>TMAX</th>\n",
       "      <th>TMIN</th>\n",
       "      <th>PRCP</th>\n",
       "      <th>target</th>\n",
       "      <th>rolling_3_TMAX</th>\n",
       "      <th>rolling_3_TMAX_pct</th>\n",
       "      <th>rolling_3_TMIN</th>\n",
       "      <th>rolling_3_TMIN_pct</th>\n",
       "      <th>rolling_3_PRCP</th>\n",
       "      <th>...</th>\n",
       "      <th>rolling_14_TAVG</th>\n",
       "      <th>rolling_14_TAVG_pct</th>\n",
       "      <th>month_avg_TMAX</th>\n",
       "      <th>day_avg_TMAX</th>\n",
       "      <th>month_avg_TMIN</th>\n",
       "      <th>day_avg_TMIN</th>\n",
       "      <th>month_avg_PRCP</th>\n",
       "      <th>day_avg_PRCP</th>\n",
       "      <th>month_avg_TAVG</th>\n",
       "      <th>day_avg_TAVG</th>\n",
       "    </tr>\n",
       "    <tr>\n",
       "      <th>DATE</th>\n",
       "      <th></th>\n",
       "      <th></th>\n",
       "      <th></th>\n",
       "      <th></th>\n",
       "      <th></th>\n",
       "      <th></th>\n",
       "      <th></th>\n",
       "      <th></th>\n",
       "      <th></th>\n",
       "      <th></th>\n",
       "      <th></th>\n",
       "      <th></th>\n",
       "      <th></th>\n",
       "      <th></th>\n",
       "      <th></th>\n",
       "      <th></th>\n",
       "      <th></th>\n",
       "      <th></th>\n",
       "      <th></th>\n",
       "      <th></th>\n",
       "      <th></th>\n",
       "    </tr>\n",
       "  </thead>\n",
       "  <tbody>\n",
       "    <tr>\n",
       "      <th>2013-01-16</th>\n",
       "      <td>16.300000</td>\n",
       "      <td>18.516667</td>\n",
       "      <td>14.050000</td>\n",
       "      <td>0.013333</td>\n",
       "      <td>15.000000</td>\n",
       "      <td>16.977778</td>\n",
       "      <td>0.090641</td>\n",
       "      <td>12.455556</td>\n",
       "      <td>0.128011</td>\n",
       "      <td>0.009444</td>\n",
       "      <td>...</td>\n",
       "      <td>12.196786</td>\n",
       "      <td>0.336418</td>\n",
       "      <td>14.358000</td>\n",
       "      <td>18.516667</td>\n",
       "      <td>10.241556</td>\n",
       "      <td>14.050000</td>\n",
       "      <td>0.009500</td>\n",
       "      <td>0.013333</td>\n",
       "      <td>12.229222</td>\n",
       "      <td>16.300000</td>\n",
       "    </tr>\n",
       "    <tr>\n",
       "      <th>2013-01-18</th>\n",
       "      <td>15.000000</td>\n",
       "      <td>16.500000</td>\n",
       "      <td>14.066667</td>\n",
       "      <td>0.013333</td>\n",
       "      <td>15.025000</td>\n",
       "      <td>16.983333</td>\n",
       "      <td>-0.028459</td>\n",
       "      <td>13.755556</td>\n",
       "      <td>0.022617</td>\n",
       "      <td>0.013889</td>\n",
       "      <td>...</td>\n",
       "      <td>12.261071</td>\n",
       "      <td>0.223384</td>\n",
       "      <td>14.491875</td>\n",
       "      <td>16.500000</td>\n",
       "      <td>10.480625</td>\n",
       "      <td>14.066667</td>\n",
       "      <td>0.009740</td>\n",
       "      <td>0.013333</td>\n",
       "      <td>12.402396</td>\n",
       "      <td>15.000000</td>\n",
       "    </tr>\n",
       "    <tr>\n",
       "      <th>2013-01-19</th>\n",
       "      <td>15.025000</td>\n",
       "      <td>16.800000</td>\n",
       "      <td>12.775000</td>\n",
       "      <td>0.000000</td>\n",
       "      <td>17.616667</td>\n",
       "      <td>17.272222</td>\n",
       "      <td>-0.027340</td>\n",
       "      <td>13.630556</td>\n",
       "      <td>-0.062767</td>\n",
       "      <td>0.008889</td>\n",
       "      <td>...</td>\n",
       "      <td>12.434286</td>\n",
       "      <td>0.208352</td>\n",
       "      <td>14.627647</td>\n",
       "      <td>16.800000</td>\n",
       "      <td>10.615588</td>\n",
       "      <td>12.775000</td>\n",
       "      <td>0.009167</td>\n",
       "      <td>0.000000</td>\n",
       "      <td>12.556667</td>\n",
       "      <td>15.025000</td>\n",
       "    </tr>\n",
       "    <tr>\n",
       "      <th>2013-01-20</th>\n",
       "      <td>17.616667</td>\n",
       "      <td>21.666667</td>\n",
       "      <td>13.516667</td>\n",
       "      <td>0.000000</td>\n",
       "      <td>19.166667</td>\n",
       "      <td>18.322222</td>\n",
       "      <td>0.182535</td>\n",
       "      <td>13.452778</td>\n",
       "      <td>0.004749</td>\n",
       "      <td>0.004444</td>\n",
       "      <td>...</td>\n",
       "      <td>13.037262</td>\n",
       "      <td>0.351255</td>\n",
       "      <td>15.018704</td>\n",
       "      <td>21.666667</td>\n",
       "      <td>10.776759</td>\n",
       "      <td>13.516667</td>\n",
       "      <td>0.008657</td>\n",
       "      <td>0.000000</td>\n",
       "      <td>12.837778</td>\n",
       "      <td>17.616667</td>\n",
       "    </tr>\n",
       "    <tr>\n",
       "      <th>2013-01-21</th>\n",
       "      <td>19.166667</td>\n",
       "      <td>23.716667</td>\n",
       "      <td>16.033333</td>\n",
       "      <td>0.000000</td>\n",
       "      <td>19.400000</td>\n",
       "      <td>20.727778</td>\n",
       "      <td>0.144197</td>\n",
       "      <td>14.108333</td>\n",
       "      <td>0.136444</td>\n",
       "      <td>0.000000</td>\n",
       "      <td>...</td>\n",
       "      <td>13.658690</td>\n",
       "      <td>0.403258</td>\n",
       "      <td>15.476491</td>\n",
       "      <td>23.716667</td>\n",
       "      <td>11.053421</td>\n",
       "      <td>16.033333</td>\n",
       "      <td>0.008202</td>\n",
       "      <td>0.000000</td>\n",
       "      <td>13.170877</td>\n",
       "      <td>19.166667</td>\n",
       "    </tr>\n",
       "    <tr>\n",
       "      <th>...</th>\n",
       "      <td>...</td>\n",
       "      <td>...</td>\n",
       "      <td>...</td>\n",
       "      <td>...</td>\n",
       "      <td>...</td>\n",
       "      <td>...</td>\n",
       "      <td>...</td>\n",
       "      <td>...</td>\n",
       "      <td>...</td>\n",
       "      <td>...</td>\n",
       "      <td>...</td>\n",
       "      <td>...</td>\n",
       "      <td>...</td>\n",
       "      <td>...</td>\n",
       "      <td>...</td>\n",
       "      <td>...</td>\n",
       "      <td>...</td>\n",
       "      <td>...</td>\n",
       "      <td>...</td>\n",
       "      <td>...</td>\n",
       "      <td>...</td>\n",
       "    </tr>\n",
       "    <tr>\n",
       "      <th>2024-09-14</th>\n",
       "      <td>28.050000</td>\n",
       "      <td>32.766667</td>\n",
       "      <td>24.183333</td>\n",
       "      <td>0.020000</td>\n",
       "      <td>28.175000</td>\n",
       "      <td>30.155556</td>\n",
       "      <td>0.086588</td>\n",
       "      <td>23.638889</td>\n",
       "      <td>0.023032</td>\n",
       "      <td>0.522222</td>\n",
       "      <td>...</td>\n",
       "      <td>27.197143</td>\n",
       "      <td>0.031358</td>\n",
       "      <td>31.352222</td>\n",
       "      <td>31.883889</td>\n",
       "      <td>23.774025</td>\n",
       "      <td>24.298704</td>\n",
       "      <td>0.329783</td>\n",
       "      <td>0.119333</td>\n",
       "      <td>27.005660</td>\n",
       "      <td>27.449815</td>\n",
       "    </tr>\n",
       "    <tr>\n",
       "      <th>2024-09-15</th>\n",
       "      <td>28.175000</td>\n",
       "      <td>33.200000</td>\n",
       "      <td>24.175000</td>\n",
       "      <td>0.050000</td>\n",
       "      <td>25.600000</td>\n",
       "      <td>32.144444</td>\n",
       "      <td>0.032838</td>\n",
       "      <td>23.986111</td>\n",
       "      <td>0.007875</td>\n",
       "      <td>0.256667</td>\n",
       "      <td>...</td>\n",
       "      <td>27.177500</td>\n",
       "      <td>0.036703</td>\n",
       "      <td>31.363771</td>\n",
       "      <td>32.350833</td>\n",
       "      <td>23.776531</td>\n",
       "      <td>24.159583</td>\n",
       "      <td>0.328034</td>\n",
       "      <td>0.143125</td>\n",
       "      <td>27.012969</td>\n",
       "      <td>27.814792</td>\n",
       "    </tr>\n",
       "    <tr>\n",
       "      <th>2024-09-30</th>\n",
       "      <td>25.600000</td>\n",
       "      <td>31.100000</td>\n",
       "      <td>23.900000</td>\n",
       "      <td>0.310000</td>\n",
       "      <td>19.800000</td>\n",
       "      <td>32.355556</td>\n",
       "      <td>-0.038805</td>\n",
       "      <td>24.086111</td>\n",
       "      <td>-0.007727</td>\n",
       "      <td>0.126667</td>\n",
       "      <td>...</td>\n",
       "      <td>27.028690</td>\n",
       "      <td>-0.052858</td>\n",
       "      <td>31.362133</td>\n",
       "      <td>31.134167</td>\n",
       "      <td>23.777298</td>\n",
       "      <td>23.074167</td>\n",
       "      <td>0.327922</td>\n",
       "      <td>0.137667</td>\n",
       "      <td>27.004193</td>\n",
       "      <td>26.298333</td>\n",
       "    </tr>\n",
       "    <tr>\n",
       "      <th>2024-11-09</th>\n",
       "      <td>19.800000</td>\n",
       "      <td>27.600000</td>\n",
       "      <td>13.300000</td>\n",
       "      <td>0.000000</td>\n",
       "      <td>25.600000</td>\n",
       "      <td>30.633333</td>\n",
       "      <td>-0.099021</td>\n",
       "      <td>20.458333</td>\n",
       "      <td>-0.349898</td>\n",
       "      <td>0.120000</td>\n",
       "      <td>...</td>\n",
       "      <td>26.388690</td>\n",
       "      <td>-0.249679</td>\n",
       "      <td>26.334636</td>\n",
       "      <td>27.164444</td>\n",
       "      <td>18.478039</td>\n",
       "      <td>18.432778</td>\n",
       "      <td>0.039756</td>\n",
       "      <td>0.027500</td>\n",
       "      <td>22.029300</td>\n",
       "      <td>22.340556</td>\n",
       "    </tr>\n",
       "    <tr>\n",
       "      <th>2024-11-11</th>\n",
       "      <td>25.600000</td>\n",
       "      <td>30.600000</td>\n",
       "      <td>21.700000</td>\n",
       "      <td>0.000000</td>\n",
       "      <td>25.600000</td>\n",
       "      <td>29.766667</td>\n",
       "      <td>0.027996</td>\n",
       "      <td>19.633333</td>\n",
       "      <td>0.105263</td>\n",
       "      <td>0.103333</td>\n",
       "      <td>...</td>\n",
       "      <td>26.113690</td>\n",
       "      <td>-0.019671</td>\n",
       "      <td>26.370181</td>\n",
       "      <td>27.655556</td>\n",
       "      <td>18.504889</td>\n",
       "      <td>17.922222</td>\n",
       "      <td>0.039425</td>\n",
       "      <td>0.002222</td>\n",
       "      <td>22.059056</td>\n",
       "      <td>22.711111</td>\n",
       "    </tr>\n",
       "  </tbody>\n",
       "</table>\n",
       "<p>2045 rows × 29 columns</p>\n",
       "</div>"
      ],
      "text/plain": [
       "                 TAVG       TMAX       TMIN      PRCP     target  \\\n",
       "DATE                                                               \n",
       "2013-01-16  16.300000  18.516667  14.050000  0.013333  15.000000   \n",
       "2013-01-18  15.000000  16.500000  14.066667  0.013333  15.025000   \n",
       "2013-01-19  15.025000  16.800000  12.775000  0.000000  17.616667   \n",
       "2013-01-20  17.616667  21.666667  13.516667  0.000000  19.166667   \n",
       "2013-01-21  19.166667  23.716667  16.033333  0.000000  19.400000   \n",
       "...               ...        ...        ...       ...        ...   \n",
       "2024-09-14  28.050000  32.766667  24.183333  0.020000  28.175000   \n",
       "2024-09-15  28.175000  33.200000  24.175000  0.050000  25.600000   \n",
       "2024-09-30  25.600000  31.100000  23.900000  0.310000  19.800000   \n",
       "2024-11-09  19.800000  27.600000  13.300000  0.000000  25.600000   \n",
       "2024-11-11  25.600000  30.600000  21.700000  0.000000  25.600000   \n",
       "\n",
       "            rolling_3_TMAX  rolling_3_TMAX_pct  rolling_3_TMIN  \\\n",
       "DATE                                                             \n",
       "2013-01-16       16.977778            0.090641       12.455556   \n",
       "2013-01-18       16.983333           -0.028459       13.755556   \n",
       "2013-01-19       17.272222           -0.027340       13.630556   \n",
       "2013-01-20       18.322222            0.182535       13.452778   \n",
       "2013-01-21       20.727778            0.144197       14.108333   \n",
       "...                    ...                 ...             ...   \n",
       "2024-09-14       30.155556            0.086588       23.638889   \n",
       "2024-09-15       32.144444            0.032838       23.986111   \n",
       "2024-09-30       32.355556           -0.038805       24.086111   \n",
       "2024-11-09       30.633333           -0.099021       20.458333   \n",
       "2024-11-11       29.766667            0.027996       19.633333   \n",
       "\n",
       "            rolling_3_TMIN_pct  rolling_3_PRCP  ...  rolling_14_TAVG  \\\n",
       "DATE                                            ...                    \n",
       "2013-01-16            0.128011        0.009444  ...        12.196786   \n",
       "2013-01-18            0.022617        0.013889  ...        12.261071   \n",
       "2013-01-19           -0.062767        0.008889  ...        12.434286   \n",
       "2013-01-20            0.004749        0.004444  ...        13.037262   \n",
       "2013-01-21            0.136444        0.000000  ...        13.658690   \n",
       "...                        ...             ...  ...              ...   \n",
       "2024-09-14            0.023032        0.522222  ...        27.197143   \n",
       "2024-09-15            0.007875        0.256667  ...        27.177500   \n",
       "2024-09-30           -0.007727        0.126667  ...        27.028690   \n",
       "2024-11-09           -0.349898        0.120000  ...        26.388690   \n",
       "2024-11-11            0.105263        0.103333  ...        26.113690   \n",
       "\n",
       "            rolling_14_TAVG_pct  month_avg_TMAX  day_avg_TMAX  month_avg_TMIN  \\\n",
       "DATE                                                                            \n",
       "2013-01-16             0.336418       14.358000     18.516667       10.241556   \n",
       "2013-01-18             0.223384       14.491875     16.500000       10.480625   \n",
       "2013-01-19             0.208352       14.627647     16.800000       10.615588   \n",
       "2013-01-20             0.351255       15.018704     21.666667       10.776759   \n",
       "2013-01-21             0.403258       15.476491     23.716667       11.053421   \n",
       "...                         ...             ...           ...             ...   \n",
       "2024-09-14             0.031358       31.352222     31.883889       23.774025   \n",
       "2024-09-15             0.036703       31.363771     32.350833       23.776531   \n",
       "2024-09-30            -0.052858       31.362133     31.134167       23.777298   \n",
       "2024-11-09            -0.249679       26.334636     27.164444       18.478039   \n",
       "2024-11-11            -0.019671       26.370181     27.655556       18.504889   \n",
       "\n",
       "            day_avg_TMIN  month_avg_PRCP  day_avg_PRCP  month_avg_TAVG  \\\n",
       "DATE                                                                     \n",
       "2013-01-16     14.050000        0.009500      0.013333       12.229222   \n",
       "2013-01-18     14.066667        0.009740      0.013333       12.402396   \n",
       "2013-01-19     12.775000        0.009167      0.000000       12.556667   \n",
       "2013-01-20     13.516667        0.008657      0.000000       12.837778   \n",
       "2013-01-21     16.033333        0.008202      0.000000       13.170877   \n",
       "...                  ...             ...           ...             ...   \n",
       "2024-09-14     24.298704        0.329783      0.119333       27.005660   \n",
       "2024-09-15     24.159583        0.328034      0.143125       27.012969   \n",
       "2024-09-30     23.074167        0.327922      0.137667       27.004193   \n",
       "2024-11-09     18.432778        0.039756      0.027500       22.029300   \n",
       "2024-11-11     17.922222        0.039425      0.002222       22.059056   \n",
       "\n",
       "            day_avg_TAVG  \n",
       "DATE                      \n",
       "2013-01-16     16.300000  \n",
       "2013-01-18     15.000000  \n",
       "2013-01-19     15.025000  \n",
       "2013-01-20     17.616667  \n",
       "2013-01-21     19.166667  \n",
       "...                  ...  \n",
       "2024-09-14     27.449815  \n",
       "2024-09-15     27.814792  \n",
       "2024-09-30     26.298333  \n",
       "2024-11-09     22.340556  \n",
       "2024-11-11     22.711111  \n",
       "\n",
       "[2045 rows x 29 columns]"
      ]
     },
     "execution_count": 254,
     "metadata": {},
     "output_type": "execute_result"
    }
   ],
   "source": [
    "df = df.iloc[14:,:]\n",
    "df = df.fillna(0)\n",
    "df"
   ]
  },
  {
   "cell_type": "code",
   "execution_count": 255,
   "metadata": {},
   "outputs": [
    {
     "data": {
      "text/plain": [
       "1.6509004950472213"
      ]
     },
     "execution_count": 255,
     "metadata": {},
     "output_type": "execute_result"
    }
   ],
   "source": [
    "predictions = backtest(df, rr, predictors)\n",
    "mean_absolute_error(predictions[\"actual\"], predictions[\"prediction\"])"
   ]
  },
  {
   "cell_type": "code",
   "execution_count": 256,
   "metadata": {},
   "outputs": [
    {
     "data": {
      "text/plain": [
       "5.598114594825818"
      ]
     },
     "execution_count": 256,
     "metadata": {},
     "output_type": "execute_result"
    }
   ],
   "source": [
    "mean_squared_error(predictions[\"actual\"], predictions[\"prediction\"])"
   ]
  },
  {
   "cell_type": "code",
   "execution_count": 257,
   "metadata": {},
   "outputs": [
    {
     "data": {
      "text/html": [
       "<div>\n",
       "<style scoped>\n",
       "    .dataframe tbody tr th:only-of-type {\n",
       "        vertical-align: middle;\n",
       "    }\n",
       "\n",
       "    .dataframe tbody tr th {\n",
       "        vertical-align: top;\n",
       "    }\n",
       "\n",
       "    .dataframe thead th {\n",
       "        text-align: right;\n",
       "    }\n",
       "</style>\n",
       "<table border=\"1\" class=\"dataframe\">\n",
       "  <thead>\n",
       "    <tr style=\"text-align: right;\">\n",
       "      <th></th>\n",
       "      <th>actual</th>\n",
       "      <th>prediction</th>\n",
       "      <th>diff</th>\n",
       "    </tr>\n",
       "    <tr>\n",
       "      <th>DATE</th>\n",
       "      <th></th>\n",
       "      <th></th>\n",
       "      <th></th>\n",
       "    </tr>\n",
       "  </thead>\n",
       "  <tbody>\n",
       "    <tr>\n",
       "      <th>2022-02-18</th>\n",
       "      <td>7.500000</td>\n",
       "      <td>22.755829</td>\n",
       "      <td>15.255829</td>\n",
       "    </tr>\n",
       "    <tr>\n",
       "      <th>2022-09-22</th>\n",
       "      <td>13.900000</td>\n",
       "      <td>27.421079</td>\n",
       "      <td>13.521079</td>\n",
       "    </tr>\n",
       "    <tr>\n",
       "      <th>2018-01-26</th>\n",
       "      <td>7.200000</td>\n",
       "      <td>20.180808</td>\n",
       "      <td>12.980808</td>\n",
       "    </tr>\n",
       "    <tr>\n",
       "      <th>2024-01-20</th>\n",
       "      <td>8.850000</td>\n",
       "      <td>21.571461</td>\n",
       "      <td>12.721461</td>\n",
       "    </tr>\n",
       "    <tr>\n",
       "      <th>2016-01-20</th>\n",
       "      <td>6.100000</td>\n",
       "      <td>18.653880</td>\n",
       "      <td>12.553880</td>\n",
       "    </tr>\n",
       "    <tr>\n",
       "      <th>...</th>\n",
       "      <td>...</td>\n",
       "      <td>...</td>\n",
       "      <td>...</td>\n",
       "    </tr>\n",
       "    <tr>\n",
       "      <th>2014-04-13</th>\n",
       "      <td>25.900000</td>\n",
       "      <td>25.896193</td>\n",
       "      <td>0.003807</td>\n",
       "    </tr>\n",
       "    <tr>\n",
       "      <th>2014-01-19</th>\n",
       "      <td>13.925000</td>\n",
       "      <td>13.928418</td>\n",
       "      <td>0.003418</td>\n",
       "    </tr>\n",
       "    <tr>\n",
       "      <th>2014-04-17</th>\n",
       "      <td>25.933333</td>\n",
       "      <td>25.936116</td>\n",
       "      <td>0.002783</td>\n",
       "    </tr>\n",
       "    <tr>\n",
       "      <th>2014-02-07</th>\n",
       "      <td>19.450000</td>\n",
       "      <td>19.452351</td>\n",
       "      <td>0.002351</td>\n",
       "    </tr>\n",
       "    <tr>\n",
       "      <th>2014-02-02</th>\n",
       "      <td>20.100000</td>\n",
       "      <td>20.099654</td>\n",
       "      <td>0.000346</td>\n",
       "    </tr>\n",
       "  </tbody>\n",
       "</table>\n",
       "<p>2044 rows × 3 columns</p>\n",
       "</div>"
      ],
      "text/plain": [
       "               actual  prediction       diff\n",
       "DATE                                        \n",
       "2022-02-18   7.500000   22.755829  15.255829\n",
       "2022-09-22  13.900000   27.421079  13.521079\n",
       "2018-01-26   7.200000   20.180808  12.980808\n",
       "2024-01-20   8.850000   21.571461  12.721461\n",
       "2016-01-20   6.100000   18.653880  12.553880\n",
       "...               ...         ...        ...\n",
       "2014-04-13  25.900000   25.896193   0.003807\n",
       "2014-01-19  13.925000   13.928418   0.003418\n",
       "2014-04-17  25.933333   25.936116   0.002783\n",
       "2014-02-07  19.450000   19.452351   0.002351\n",
       "2014-02-02  20.100000   20.099654   0.000346\n",
       "\n",
       "[2044 rows x 3 columns]"
      ]
     },
     "execution_count": 257,
     "metadata": {},
     "output_type": "execute_result"
    }
   ],
   "source": [
    "predictions.sort_values(\"diff\", ascending=False)"
   ]
  },
  {
   "cell_type": "code",
   "execution_count": 258,
   "metadata": {},
   "outputs": [
    {
     "data": {
      "text/plain": [
       "<Axes: xlabel='diff'>"
      ]
     },
     "execution_count": 258,
     "metadata": {},
     "output_type": "execute_result"
    },
    {
     "data": {
      "image/png": "[encoded data removed]",
      "text/plain": [
       "<Figure size 640x480 with 1 Axes>"
      ]
     },
     "metadata": {},
     "output_type": "display_data"
    }
   ],
   "source": [
    "(predictions[\"diff\"].round().value_counts().sort_index() / predictions.shape[0]).plot()"
   ]
  },
  {
   "cell_type": "code",
   "execution_count": 259,
   "metadata": {},
   "outputs": [
    {
     "data": {
      "text/plain": [
       "<Axes: xlabel='DATE'>"
      ]
     },
     "execution_count": 259,
     "metadata": {},
     "output_type": "execute_result"
    },
    {
     "data": {
      "image/png": "[encoded data removed]",
      "text/plain": [
       "<Figure size 640x480 with 1 Axes>"
      ]
     },
     "metadata": {},
     "output_type": "display_data"
    }
   ],
   "source": [
    "predictions[['actual','prediction']].plot()"
   ]
  }
 ],
 "metadata": {
  "kernelspec": {
   "display_name": "Python 3",
   "language": "python",
   "name": "python3"
  },
  "language_info": {
   "codemirror_mode": {
    "name": "ipython",
    "version": 3
   },
   "file_extension": ".py",
   "mimetype": "text/x-python",
   "name": "python",
   "nbconvert_exporter": "python",
   "pygments_lexer": "ipython3",
   "version": "3.12.8"
  }
 },
 "nbformat": 4,
 "nbformat_minor": 2
}
