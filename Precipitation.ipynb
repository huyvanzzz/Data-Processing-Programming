{
 "cells": [
  {
   "cell_type": "code",
   "execution_count": 4,
   "metadata": {},
   "outputs": [],
   "source": [
    "import pandas as pd\n",
    "import matplotlib.pyplot as plt\n",
    "import seaborn as sns\n",
    "\n",
    "# Đọc dữ liệu\n",
    "file_path = \"crawled_data_northern_vietnam.csv\"\n",
    "data = pd.read_csv(file_path)\n"
   ]
  },
  {
   "cell_type": "code",
   "execution_count": 5,
   "metadata": {},
   "outputs": [],
   "source": [
    "# Xử lý dữ liệu\n",
    "data_cleaned = data.drop(columns=['Unnamed: 0'])  # Loại bỏ cột không cần thiết\n",
    "data_cleaned['DATE'] = pd.to_datetime(data_cleaned['DATE'])  # Chuyển DATE sang datetime\n",
    "\n",
    "# Thêm cột năm và tháng\n",
    "data_cleaned['Year'] = data_cleaned['DATE'].dt.year\n",
    "data_cleaned['Month'] = data_cleaned['DATE'].dt.month\n"
   ]
  },
  {
   "cell_type": "code",
   "execution_count": 6,
   "metadata": {},
   "outputs": [],
   "source": [
    "# Phân tích lượng mưa theo thời gian\n",
    "# Tổng lượng mưa theo năm\n",
    "annual_rainfall = data_cleaned.groupby('Year')['PRCP'].sum()\n",
    "\n",
    "# Trung bình lượng mưa theo tháng (tổng hợp các năm)\n",
    "monthly_rainfall = data_cleaned.groupby('Month')['PRCP'].mean()\n",
    "\n",
    "# Lượng mưa trung bình hàng ngày\n",
    "daily_avg_rainfall = data_cleaned['PRCP'].mean()"
   ]
  },
  {
   "cell_type": "code",
   "execution_count": 7,
   "metadata": {},
   "outputs": [],
   "source": [
    "# So sánh lượng mưa giữa các trạm đo\n",
    "station_rainfall = data_cleaned.groupby('STATION')['PRCP'].agg(['sum', 'mean']).sort_values(by='sum', ascending=False)\n",
    "station_max = station_rainfall['sum'].idxmax()  # Trạm có tổng lượng mưa cao nhất\n",
    "station_min = station_rainfall['sum'].idxmin()  # Trạm có tổng lượng mưa thấp nhất\n"
   ]
  },
  {
   "cell_type": "code",
   "execution_count": 9,
   "metadata": {},
   "outputs": [],
   "source": [
    "# Phân tích theo mùa\n",
    "data_cleaned['Season'] = data_cleaned['Month'].apply(lambda x: \n",
    "                                                     'Spring' if x in [2, 3, 4] else \n",
    "                                                     'Summer' if x in [5, 6, 6] else \n",
    "                                                     'Autumn' if x in [8, 9, 10] else 'Winter')\n",
    "seasonal_rainfall = data_cleaned.groupby('Season')['PRCP'].mean()\n"
   ]
  }
 ],
 "metadata": {
  "kernelspec": {
   "display_name": "base",
   "language": "python",
   "name": "python3"
  },
  "language_info": {
   "codemirror_mode": {
    "name": "ipython",
    "version": 3
   },
   "file_extension": ".py",
   "mimetype": "text/x-python",
   "name": "python",
   "nbconvert_exporter": "python",
   "pygments_lexer": "ipython3",
   "version": "3.12.7"
  }
 },
 "nbformat": 4,
 "nbformat_minor": 2
}
