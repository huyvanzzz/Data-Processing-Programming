{
 "cells": [
  {
   "cell_type": "markdown",
   "metadata": {},
   "source": [
    "1. ĐỌC FILE DỮ LIỆU VÀ THÊM DỮ LIỆU THÁNG 12 BẰNG CÁCH LẤY TRUNG BÌNH"
   ]
  },
  {
   "cell_type": "code",
   "execution_count": 1,
   "metadata": {},
   "outputs": [],
   "source": [
    "import pandas as pd\n",
    "import os\n",
    "import matplotlib.pyplot as plt\n",
    "import pandas as pd\n",
    "import plotly.express as px\n",
    "import plotly.graph_objects as go\n",
    "import seaborn as sns\n",
    "from sklearn.preprocessing import StandardScaler\n",
    "df = pd.read_csv('co2_northern.csv')"
   ]
  },
  {
   "cell_type": "markdown",
   "metadata": {},
   "source": [
    "2. LÀM SẠCH DỮ LIỆU"
   ]
  },
  {
   "cell_type": "code",
   "execution_count": 2,
   "metadata": {},
   "outputs": [
    {
     "name": "stdout",
     "output_type": "stream",
     "text": [
      "name                         0\n",
      "country                      0\n",
      "city_id                      0\n",
      "start_time                   0\n",
      "end_time                     0\n",
      "original_inventory_sector    0\n",
      "gas                          0\n",
      "asset_emissions              0\n",
      "total_emissions              0\n",
      "dtype: int64\n"
     ]
    }
   ],
   "source": [
    "# kiểm tra xem có giá trị nan ko\n",
    "print(df.isnull().sum())"
   ]
  },
  {
   "cell_type": "code",
   "execution_count": 3,
   "metadata": {},
   "outputs": [],
   "source": [
    "# thay 2 cột month và year vs end và start_time\n",
    "df['month'] = pd.to_datetime(df['start_time']).dt.month\n",
    "df['year'] = pd.to_datetime(df['start_time']).dt.year\n",
    "# cho 2 cột lên đầu\n",
    "cols = ['month', 'year'] + [col for col in df.columns if col not in ['month', 'year']]\n",
    "df = df[cols]\n",
    "df = df.drop(['start_time','end_time'],axis=1)"
   ]
  },
  {
   "cell_type": "markdown",
   "metadata": {},
   "source": [
    "3. TÍNH TOÁN DỮ LIỆU"
   ]
  },
  {
   "cell_type": "code",
   "execution_count": 4,
   "metadata": {},
   "outputs": [
    {
     "name": "stdout",
     "output_type": "stream",
     "text": [
      "['aluminum' 'bauxite-mining'\n",
      " 'biological-treatment-of-solid-waste-and-biogenic' 'cement' 'chemicals'\n",
      " 'coal-mining' 'copper-mining' 'cropland-fires' 'domestic-aviation'\n",
      " 'domestic-shipping' 'electricity-generation'\n",
      " 'enteric-fermentation-cattle-pasture' 'enteric-fermentation-other'\n",
      " 'fluorinated-gases' 'incineration-and-open-burning-of-waste'\n",
      " 'international-aviation' 'international-shipping' 'iron-mining'\n",
      " 'manure-left-on-pasture-cattle' 'manure-management-other'\n",
      " 'net-forest-land' 'net-shrubgrass' 'net-wetland' 'oil-and-gas-refining'\n",
      " 'other-agricultural-soil-emissions' 'other-energy-use'\n",
      " 'other-fossil-fuel-operations' 'other-manufacturing'\n",
      " 'other-onsite-fuel-usage' 'other-transport' 'pulp-and-paper' 'railways'\n",
      " 'rice-cultivation' 'road-transportation' 'rock-quarrying'\n",
      " 'sand-quarrying' 'solid-fuel-transformation' 'solid-waste-disposal'\n",
      " 'synthetic-fertilizer-application' 'water-reservoirs' 'crop-residues'\n",
      " 'domestic-wastewater-treatment-and-discharge'\n",
      " 'enteric-fermentation-cattle-operation' 'food-beverage-tobacco' 'glass'\n",
      " 'heat-plants' 'industrial-wastewater-treatment-and-discharge'\n",
      " 'iron-and-steel' 'lime' 'manure-applied-to-soils'\n",
      " 'manure-management-cattle-operation' 'non-residential-onsite-fuel-usage'\n",
      " 'oil-and-gas-production' 'oil-and-gas-transport' 'other-chemicals'\n",
      " 'other-metals' 'other-mining-quarrying' 'petrochemical-steam-cracking'\n",
      " 'residential-onsite-fuel-usage' 'textiles-leather-apparel'\n",
      " 'wood-and-wood-products']\n"
     ]
    },
    {
     "data": {
      "text/plain": [
       "array(['n2o', 'co2', 'ch4', 'co2e_20yr', 'co2e_100yr'], dtype=object)"
      ]
     },
     "execution_count": 4,
     "metadata": {},
     "output_type": "execute_result"
    }
   ],
   "source": [
    "#kiểm tra số lượng lĩnh vực gây ra khí nhà kính và \n",
    "df['original_inventory_sector'].unique().size\n",
    "print(df['original_inventory_sector'].unique())\n",
    "df['gas'].unique()"
   ]
  },
  {
   "cell_type": "code",
   "execution_count": 5,
   "metadata": {},
   "outputs": [],
   "source": [
    "# Từ điển ánh xạ các lĩnh vực chi tiết vào các lĩnh vực chính\n",
    "sector_mapping = {\n",
    "    'aluminum': 'Công nghiệp',\n",
    "    'bauxite-mining': 'Công nghiệp',\n",
    "    'biological-treatment-of-solid-waste-and-biogenic': 'Chất thải',\n",
    "    'cement': 'Công nghiệp',\n",
    "    'chemicals': 'Công nghiệp',\n",
    "    'coal-mining': 'Năng lượng',\n",
    "    'copper-mining': 'Công nghiệp',\n",
    "    'cropland-fires': 'Nông nghiệp',\n",
    "    'domestic-aviation': 'Giao thông',\n",
    "    'domestic-shipping': 'Giao thông',\n",
    "    'electricity-generation': 'Năng lượng',\n",
    "    'enteric-fermentation-cattle-pasture': 'Nông nghiệp',\n",
    "    'enteric-fermentation-other': 'Nông nghiệp',\n",
    "    'fluorinated-gases': 'Công nghiệp',\n",
    "    'incineration-and-open-burning-of-waste': 'Chất thải',\n",
    "    'international-aviation': 'Giao thông',\n",
    "    'international-shipping': 'Giao thông',\n",
    "    'iron-mining': 'Công nghiệp',\n",
    "    'manure-left-on-pasture-cattle': 'Nông nghiệp',\n",
    "    'manure-management-other': 'Nông nghiệp',\n",
    "    'net-forest-land': 'Đất đai',\n",
    "    'net-shrubgrass': 'Đất đai',\n",
    "    'net-wetland': 'Đất đai',\n",
    "    'oil-and-gas-refining': 'Năng lượng',\n",
    "    'other-energy-use': 'Năng lượng',\n",
    "    'rice-cultivation': 'Nông nghiệp',\n",
    "    'solid-waste-disposal': 'Chất thải',\n",
    "    'road-transportation': 'Giao thông',\n",
    "    'textiles-leather-apparel': 'Công nghiệp',\n",
    "    'wood-and-wood-products': 'Công nghiệp'\n",
    "}\n",
    "# Ánh xạ lĩnh vực chi tiết thành lĩnh vực chính\n",
    "df['main_sector'] = df['original_inventory_sector'].map(sector_mapping)\n",
    "\n",
    "# Kiểm tra kết quả\n",
    "df = df.drop(['original_inventory_sector'],axis=1)"
   ]
  },
  {
   "cell_type": "code",
   "execution_count": 6,
   "metadata": {},
   "outputs": [
    {
     "data": {
      "text/html": [
       "<div>\n",
       "<style scoped>\n",
       "    .dataframe tbody tr th:only-of-type {\n",
       "        vertical-align: middle;\n",
       "    }\n",
       "\n",
       "    .dataframe tbody tr th {\n",
       "        vertical-align: top;\n",
       "    }\n",
       "\n",
       "    .dataframe thead th {\n",
       "        text-align: right;\n",
       "    }\n",
       "</style>\n",
       "<table border=\"1\" class=\"dataframe\">\n",
       "  <thead>\n",
       "    <tr style=\"text-align: right;\">\n",
       "      <th></th>\n",
       "      <th>year</th>\n",
       "      <th>gas</th>\n",
       "      <th>emissions_gas</th>\n",
       "    </tr>\n",
       "  </thead>\n",
       "  <tbody>\n",
       "    <tr>\n",
       "      <th>0</th>\n",
       "      <td>2021</td>\n",
       "      <td>ch4</td>\n",
       "      <td>30098428.69</td>\n",
       "    </tr>\n",
       "    <tr>\n",
       "      <th>1</th>\n",
       "      <td>2021</td>\n",
       "      <td>co2</td>\n",
       "      <td>34288363.57</td>\n",
       "    </tr>\n",
       "    <tr>\n",
       "      <th>2</th>\n",
       "      <td>2021</td>\n",
       "      <td>co2e_20yr</td>\n",
       "      <td>67137504.13</td>\n",
       "    </tr>\n",
       "    <tr>\n",
       "      <th>3</th>\n",
       "      <td>2021</td>\n",
       "      <td>n2o</td>\n",
       "      <td>296281.87</td>\n",
       "    </tr>\n",
       "    <tr>\n",
       "      <th>4</th>\n",
       "      <td>2022</td>\n",
       "      <td>ch4</td>\n",
       "      <td>28685609.65</td>\n",
       "    </tr>\n",
       "    <tr>\n",
       "      <th>5</th>\n",
       "      <td>2022</td>\n",
       "      <td>co2</td>\n",
       "      <td>33454180.48</td>\n",
       "    </tr>\n",
       "    <tr>\n",
       "      <th>6</th>\n",
       "      <td>2022</td>\n",
       "      <td>co2e_20yr</td>\n",
       "      <td>64878143.72</td>\n",
       "    </tr>\n",
       "    <tr>\n",
       "      <th>7</th>\n",
       "      <td>2022</td>\n",
       "      <td>n2o</td>\n",
       "      <td>304856.81</td>\n",
       "    </tr>\n",
       "    <tr>\n",
       "      <th>8</th>\n",
       "      <td>2023</td>\n",
       "      <td>ch4</td>\n",
       "      <td>26630238.72</td>\n",
       "    </tr>\n",
       "    <tr>\n",
       "      <th>9</th>\n",
       "      <td>2023</td>\n",
       "      <td>co2</td>\n",
       "      <td>37296960.41</td>\n",
       "    </tr>\n",
       "    <tr>\n",
       "      <th>10</th>\n",
       "      <td>2023</td>\n",
       "      <td>co2e_20yr</td>\n",
       "      <td>66655253.18</td>\n",
       "    </tr>\n",
       "    <tr>\n",
       "      <th>11</th>\n",
       "      <td>2023</td>\n",
       "      <td>n2o</td>\n",
       "      <td>326043.56</td>\n",
       "    </tr>\n",
       "    <tr>\n",
       "      <th>12</th>\n",
       "      <td>2024</td>\n",
       "      <td>ch4</td>\n",
       "      <td>26604147.92</td>\n",
       "    </tr>\n",
       "    <tr>\n",
       "      <th>13</th>\n",
       "      <td>2024</td>\n",
       "      <td>co2</td>\n",
       "      <td>37463070.99</td>\n",
       "    </tr>\n",
       "    <tr>\n",
       "      <th>14</th>\n",
       "      <td>2024</td>\n",
       "      <td>co2e_20yr</td>\n",
       "      <td>66791734.22</td>\n",
       "    </tr>\n",
       "    <tr>\n",
       "      <th>15</th>\n",
       "      <td>2024</td>\n",
       "      <td>n2o</td>\n",
       "      <td>323199.52</td>\n",
       "    </tr>\n",
       "  </tbody>\n",
       "</table>\n",
       "</div>"
      ],
      "text/plain": [
       "    year        gas  emissions_gas\n",
       "0   2021        ch4    30098428.69\n",
       "1   2021        co2    34288363.57\n",
       "2   2021  co2e_20yr    67137504.13\n",
       "3   2021        n2o      296281.87\n",
       "4   2022        ch4    28685609.65\n",
       "5   2022        co2    33454180.48\n",
       "6   2022  co2e_20yr    64878143.72\n",
       "7   2022        n2o      304856.81\n",
       "8   2023        ch4    26630238.72\n",
       "9   2023        co2    37296960.41\n",
       "10  2023  co2e_20yr    66655253.18\n",
       "11  2023        n2o      326043.56\n",
       "12  2024        ch4    26604147.92\n",
       "13  2024        co2    37463070.99\n",
       "14  2024  co2e_20yr    66791734.22\n",
       "15  2024        n2o      323199.52"
      ]
     },
     "execution_count": 6,
     "metadata": {},
     "output_type": "execute_result"
    }
   ],
   "source": [
    "# Nhóm dữ liệu và tính tổng các cột emissions\n",
    "df.loc[df['gas']=='ch4','total_emissions'] *=80 #đơn vị quy đội gwp\n",
    "df.loc[df['gas']=='n2o','total_emissions'] *=273\n",
    "grouped = df[df['gas']!='co2e_100yr'].groupby(['month', 'year', 'name', 'gas', 'main_sector'])['total_emissions'].sum().round(2).reset_index()\n",
    "grouped.to_csv('co2_nothern_clean.csv',index=False)\n",
    "# xoá các hàng có giá gas = co2e_100yr do phân tích ngắn hạn\n",
    "grouped_year = grouped.groupby(['year','gas'])['total_emissions'].sum().round(2).reset_index(name='emissions_gas')\n",
    "# quy đổi đơn vị về co2e_20yr\n",
    "grouped_year"
   ]
  },
  {
   "cell_type": "code",
   "execution_count": 7,
   "metadata": {},
   "outputs": [
    {
     "data": {
      "text/html": [
       "<div>\n",
       "<style scoped>\n",
       "    .dataframe tbody tr th:only-of-type {\n",
       "        vertical-align: middle;\n",
       "    }\n",
       "\n",
       "    .dataframe tbody tr th {\n",
       "        vertical-align: top;\n",
       "    }\n",
       "\n",
       "    .dataframe thead th {\n",
       "        text-align: right;\n",
       "    }\n",
       "</style>\n",
       "<table border=\"1\" class=\"dataframe\">\n",
       "  <thead>\n",
       "    <tr style=\"text-align: right;\">\n",
       "      <th></th>\n",
       "      <th>year</th>\n",
       "      <th>ch4</th>\n",
       "      <th>co2</th>\n",
       "      <th>co2e_20yr</th>\n",
       "      <th>n2o</th>\n",
       "      <th>other_GHGs</th>\n",
       "    </tr>\n",
       "  </thead>\n",
       "  <tbody>\n",
       "    <tr>\n",
       "      <th>0</th>\n",
       "      <td>2021</td>\n",
       "      <td>30098428.69</td>\n",
       "      <td>34288363.57</td>\n",
       "      <td>67137504.13</td>\n",
       "      <td>296281.87</td>\n",
       "      <td>2454430.00</td>\n",
       "    </tr>\n",
       "    <tr>\n",
       "      <th>1</th>\n",
       "      <td>2022</td>\n",
       "      <td>28685609.65</td>\n",
       "      <td>33454180.48</td>\n",
       "      <td>64878143.72</td>\n",
       "      <td>304856.81</td>\n",
       "      <td>2433496.78</td>\n",
       "    </tr>\n",
       "    <tr>\n",
       "      <th>2</th>\n",
       "      <td>2023</td>\n",
       "      <td>26630238.72</td>\n",
       "      <td>37296960.41</td>\n",
       "      <td>66655253.18</td>\n",
       "      <td>326043.56</td>\n",
       "      <td>2402010.49</td>\n",
       "    </tr>\n",
       "    <tr>\n",
       "      <th>3</th>\n",
       "      <td>2024</td>\n",
       "      <td>26604147.92</td>\n",
       "      <td>37463070.99</td>\n",
       "      <td>66791734.22</td>\n",
       "      <td>323199.52</td>\n",
       "      <td>2401315.79</td>\n",
       "    </tr>\n",
       "  </tbody>\n",
       "</table>\n",
       "</div>"
      ],
      "text/plain": [
       "   year          ch4          co2    co2e_20yr        n2o  other_GHGs\n",
       "0  2021  30098428.69  34288363.57  67137504.13  296281.87  2454430.00\n",
       "1  2022  28685609.65  33454180.48  64878143.72  304856.81  2433496.78\n",
       "2  2023  26630238.72  37296960.41  66655253.18  326043.56  2402010.49\n",
       "3  2024  26604147.92  37463070.99  66791734.22  323199.52  2401315.79"
      ]
     },
     "execution_count": 7,
     "metadata": {},
     "output_type": "execute_result"
    }
   ],
   "source": [
    "# Pivot dữ liệu để tạo các cột cho ch4, co2, n2o và co2e_20yr theo năm\n",
    "pivoted = grouped_year.pivot(index='year', columns='gas', values='emissions_gas').reset_index()\n",
    "# In kết quả\n",
    "pivoted['other_GHGs'] = pivoted['co2e_20yr']-pivoted['co2']-pivoted['ch4']-pivoted['n2o']\n",
    "pivoted.columns.name = None\n",
    "pivoted"
   ]
  },
  {
   "cell_type": "code",
   "execution_count": 8,
   "metadata": {},
   "outputs": [
    {
     "data": {
      "text/html": [
       "<div>\n",
       "<style scoped>\n",
       "    .dataframe tbody tr th:only-of-type {\n",
       "        vertical-align: middle;\n",
       "    }\n",
       "\n",
       "    .dataframe tbody tr th {\n",
       "        vertical-align: top;\n",
       "    }\n",
       "\n",
       "    .dataframe thead th {\n",
       "        text-align: right;\n",
       "    }\n",
       "</style>\n",
       "<table border=\"1\" class=\"dataframe\">\n",
       "  <thead>\n",
       "    <tr style=\"text-align: right;\">\n",
       "      <th></th>\n",
       "      <th>main_sector</th>\n",
       "      <th>year</th>\n",
       "      <th>emissions_sector</th>\n",
       "    </tr>\n",
       "  </thead>\n",
       "  <tbody>\n",
       "    <tr>\n",
       "      <th>0</th>\n",
       "      <td>Chất thải</td>\n",
       "      <td>2021</td>\n",
       "      <td>2911814.76</td>\n",
       "    </tr>\n",
       "    <tr>\n",
       "      <th>1</th>\n",
       "      <td>Chất thải</td>\n",
       "      <td>2022</td>\n",
       "      <td>2913800.04</td>\n",
       "    </tr>\n",
       "    <tr>\n",
       "      <th>2</th>\n",
       "      <td>Chất thải</td>\n",
       "      <td>2023</td>\n",
       "      <td>2965528.80</td>\n",
       "    </tr>\n",
       "    <tr>\n",
       "      <th>3</th>\n",
       "      <td>Chất thải</td>\n",
       "      <td>2024</td>\n",
       "      <td>3018197.04</td>\n",
       "    </tr>\n",
       "    <tr>\n",
       "      <th>4</th>\n",
       "      <td>Công nghiệp</td>\n",
       "      <td>2021</td>\n",
       "      <td>9242855.69</td>\n",
       "    </tr>\n",
       "    <tr>\n",
       "      <th>5</th>\n",
       "      <td>Công nghiệp</td>\n",
       "      <td>2022</td>\n",
       "      <td>9573449.15</td>\n",
       "    </tr>\n",
       "    <tr>\n",
       "      <th>6</th>\n",
       "      <td>Công nghiệp</td>\n",
       "      <td>2023</td>\n",
       "      <td>9867048.31</td>\n",
       "    </tr>\n",
       "    <tr>\n",
       "      <th>7</th>\n",
       "      <td>Công nghiệp</td>\n",
       "      <td>2024</td>\n",
       "      <td>9624798.18</td>\n",
       "    </tr>\n",
       "    <tr>\n",
       "      <th>8</th>\n",
       "      <td>Giao thông</td>\n",
       "      <td>2021</td>\n",
       "      <td>6973200.21</td>\n",
       "    </tr>\n",
       "    <tr>\n",
       "      <th>9</th>\n",
       "      <td>Giao thông</td>\n",
       "      <td>2022</td>\n",
       "      <td>8746805.66</td>\n",
       "    </tr>\n",
       "    <tr>\n",
       "      <th>10</th>\n",
       "      <td>Giao thông</td>\n",
       "      <td>2023</td>\n",
       "      <td>9237306.66</td>\n",
       "    </tr>\n",
       "    <tr>\n",
       "      <th>11</th>\n",
       "      <td>Giao thông</td>\n",
       "      <td>2024</td>\n",
       "      <td>9138320.77</td>\n",
       "    </tr>\n",
       "    <tr>\n",
       "      <th>12</th>\n",
       "      <td>Nông nghiệp</td>\n",
       "      <td>2021</td>\n",
       "      <td>12555537.16</td>\n",
       "    </tr>\n",
       "    <tr>\n",
       "      <th>13</th>\n",
       "      <td>Nông nghiệp</td>\n",
       "      <td>2022</td>\n",
       "      <td>11880743.54</td>\n",
       "    </tr>\n",
       "    <tr>\n",
       "      <th>14</th>\n",
       "      <td>Nông nghiệp</td>\n",
       "      <td>2023</td>\n",
       "      <td>11650880.65</td>\n",
       "    </tr>\n",
       "    <tr>\n",
       "      <th>15</th>\n",
       "      <td>Nông nghiệp</td>\n",
       "      <td>2024</td>\n",
       "      <td>11534371.88</td>\n",
       "    </tr>\n",
       "    <tr>\n",
       "      <th>16</th>\n",
       "      <td>Năng lượng</td>\n",
       "      <td>2021</td>\n",
       "      <td>35361382.75</td>\n",
       "    </tr>\n",
       "    <tr>\n",
       "      <th>17</th>\n",
       "      <td>Năng lượng</td>\n",
       "      <td>2022</td>\n",
       "      <td>31747973.57</td>\n",
       "    </tr>\n",
       "    <tr>\n",
       "      <th>18</th>\n",
       "      <td>Năng lượng</td>\n",
       "      <td>2023</td>\n",
       "      <td>32740775.16</td>\n",
       "    </tr>\n",
       "    <tr>\n",
       "      <th>19</th>\n",
       "      <td>Năng lượng</td>\n",
       "      <td>2024</td>\n",
       "      <td>33284269.67</td>\n",
       "    </tr>\n",
       "    <tr>\n",
       "      <th>20</th>\n",
       "      <td>Đất đai</td>\n",
       "      <td>2021</td>\n",
       "      <td>92713.56</td>\n",
       "    </tr>\n",
       "    <tr>\n",
       "      <th>21</th>\n",
       "      <td>Đất đai</td>\n",
       "      <td>2022</td>\n",
       "      <td>15371.76</td>\n",
       "    </tr>\n",
       "    <tr>\n",
       "      <th>22</th>\n",
       "      <td>Đất đai</td>\n",
       "      <td>2023</td>\n",
       "      <td>193713.60</td>\n",
       "    </tr>\n",
       "    <tr>\n",
       "      <th>23</th>\n",
       "      <td>Đất đai</td>\n",
       "      <td>2024</td>\n",
       "      <td>191776.68</td>\n",
       "    </tr>\n",
       "  </tbody>\n",
       "</table>\n",
       "</div>"
      ],
      "text/plain": [
       "    main_sector  year  emissions_sector\n",
       "0     Chất thải  2021        2911814.76\n",
       "1     Chất thải  2022        2913800.04\n",
       "2     Chất thải  2023        2965528.80\n",
       "3     Chất thải  2024        3018197.04\n",
       "4   Công nghiệp  2021        9242855.69\n",
       "5   Công nghiệp  2022        9573449.15\n",
       "6   Công nghiệp  2023        9867048.31\n",
       "7   Công nghiệp  2024        9624798.18\n",
       "8    Giao thông  2021        6973200.21\n",
       "9    Giao thông  2022        8746805.66\n",
       "10   Giao thông  2023        9237306.66\n",
       "11   Giao thông  2024        9138320.77\n",
       "12  Nông nghiệp  2021       12555537.16\n",
       "13  Nông nghiệp  2022       11880743.54\n",
       "14  Nông nghiệp  2023       11650880.65\n",
       "15  Nông nghiệp  2024       11534371.88\n",
       "16   Năng lượng  2021       35361382.75\n",
       "17   Năng lượng  2022       31747973.57\n",
       "18   Năng lượng  2023       32740775.16\n",
       "19   Năng lượng  2024       33284269.67\n",
       "20      Đất đai  2021          92713.56\n",
       "21      Đất đai  2022          15371.76\n",
       "22      Đất đai  2023         193713.60\n",
       "23      Đất đai  2024         191776.68"
      ]
     },
     "execution_count": 8,
     "metadata": {},
     "output_type": "execute_result"
    }
   ],
   "source": [
    "grouped_sector = grouped[grouped['gas']=='co2e_20yr'].groupby(['main_sector','year'])['total_emissions'].sum().round(2).reset_index(name='emissions_sector')\n",
    "grouped_sector"
   ]
  },
  {
   "cell_type": "code",
   "execution_count": 9,
   "metadata": {},
   "outputs": [
    {
     "data": {
      "text/html": [
       "<div>\n",
       "<style scoped>\n",
       "    .dataframe tbody tr th:only-of-type {\n",
       "        vertical-align: middle;\n",
       "    }\n",
       "\n",
       "    .dataframe tbody tr th {\n",
       "        vertical-align: top;\n",
       "    }\n",
       "\n",
       "    .dataframe thead th {\n",
       "        text-align: right;\n",
       "    }\n",
       "</style>\n",
       "<table border=\"1\" class=\"dataframe\">\n",
       "  <thead>\n",
       "    <tr style=\"text-align: right;\">\n",
       "      <th></th>\n",
       "      <th>main_sector</th>\n",
       "      <th>ch4</th>\n",
       "      <th>co2</th>\n",
       "      <th>co2e_20yr</th>\n",
       "      <th>n2o</th>\n",
       "      <th>other_GHGs</th>\n",
       "    </tr>\n",
       "  </thead>\n",
       "  <tbody>\n",
       "    <tr>\n",
       "      <th>0</th>\n",
       "      <td>Chất thải</td>\n",
       "      <td>11667264.96</td>\n",
       "      <td>26096.52</td>\n",
       "      <td>1.180934e+07</td>\n",
       "      <td>5742.12</td>\n",
       "      <td>110237.04</td>\n",
       "    </tr>\n",
       "    <tr>\n",
       "      <th>1</th>\n",
       "      <td>Công nghiệp</td>\n",
       "      <td>130310.00</td>\n",
       "      <td>29995001.00</td>\n",
       "      <td>3.830815e+07</td>\n",
       "      <td>111893.03</td>\n",
       "      <td>8070947.30</td>\n",
       "    </tr>\n",
       "    <tr>\n",
       "      <th>2</th>\n",
       "      <td>Giao thông</td>\n",
       "      <td>238245.05</td>\n",
       "      <td>33539153.25</td>\n",
       "      <td>3.409563e+07</td>\n",
       "      <td>314451.72</td>\n",
       "      <td>3783.28</td>\n",
       "    </tr>\n",
       "    <tr>\n",
       "      <th>3</th>\n",
       "      <td>Nông nghiệp</td>\n",
       "      <td>32785355.36</td>\n",
       "      <td>13752474.50</td>\n",
       "      <td>4.762153e+07</td>\n",
       "      <td>591923.12</td>\n",
       "      <td>491780.25</td>\n",
       "    </tr>\n",
       "    <tr>\n",
       "      <th>4</th>\n",
       "      <td>Năng lượng</td>\n",
       "      <td>67197249.61</td>\n",
       "      <td>64696274.58</td>\n",
       "      <td>1.331344e+08</td>\n",
       "      <td>226371.77</td>\n",
       "      <td>1014505.19</td>\n",
       "    </tr>\n",
       "    <tr>\n",
       "      <th>5</th>\n",
       "      <td>Đất đai</td>\n",
       "      <td>0.00</td>\n",
       "      <td>493575.60</td>\n",
       "      <td>4.935756e+05</td>\n",
       "      <td>0.00</td>\n",
       "      <td>0.00</td>\n",
       "    </tr>\n",
       "  </tbody>\n",
       "</table>\n",
       "</div>"
      ],
      "text/plain": [
       "   main_sector          ch4          co2     co2e_20yr        n2o  other_GHGs\n",
       "0    Chất thải  11667264.96     26096.52  1.180934e+07    5742.12   110237.04\n",
       "1  Công nghiệp    130310.00  29995001.00  3.830815e+07  111893.03  8070947.30\n",
       "2   Giao thông    238245.05  33539153.25  3.409563e+07  314451.72     3783.28\n",
       "3  Nông nghiệp  32785355.36  13752474.50  4.762153e+07  591923.12   491780.25\n",
       "4   Năng lượng  67197249.61  64696274.58  1.331344e+08  226371.77  1014505.19\n",
       "5      Đất đai         0.00    493575.60  4.935756e+05       0.00        0.00"
      ]
     },
     "execution_count": 9,
     "metadata": {},
     "output_type": "execute_result"
    }
   ],
   "source": [
    "# tính toán các khí theo từng ngành\n",
    "summary = grouped.groupby(['gas', 'main_sector'])['total_emissions'].sum().reset_index()\n",
    "summary = summary.pivot(index='main_sector',columns='gas',values='total_emissions')\n",
    "summary.columns.name = None\n",
    "summary.reset_index(inplace=True)\n",
    "summary['other_GHGs'] = (summary['co2e_20yr']-summary['co2']-summary['ch4']-summary['n2o'])\n",
    "summary"
   ]
  },
  {
   "cell_type": "markdown",
   "metadata": {},
   "source": [
    "4. VẼ BIỂU ĐỒ"
   ]
  },
  {
   "cell_type": "code",
   "execution_count": 10,
   "metadata": {},
   "outputs": [
    {
     "data": {
      "application/vnd.plotly.v1+json": {
       "config": {
        "plotlyServerURL": "https://plot.ly"
       },
       "data": [
        {
         "alignmentgroup": "True",
         "hovertemplate": "Gas=ch4<br>Year=%{x}<br>Emissions=%{y}<extra></extra>",
         "legendgroup": "ch4",
         "marker": {
          "color": "#636efa",
          "pattern": {
           "shape": ""
          }
         },
         "name": "ch4",
         "offsetgroup": "ch4",
         "orientation": "v",
         "showlegend": true,
         "textposition": "auto",
         "type": "bar",
         "x": [
          2021,
          2022,
          2023,
          2024
         ],
         "xaxis": "x",
         "y": [
          30098428.69,
          28685609.65,
          26630238.72,
          26604147.92
         ],
         "yaxis": "y"
        },
        {
         "alignmentgroup": "True",
         "hovertemplate": "Gas=co2<br>Year=%{x}<br>Emissions=%{y}<extra></extra>",
         "legendgroup": "co2",
         "marker": {
          "color": "#EF553B",
          "pattern": {
           "shape": ""
          }
         },
         "name": "co2",
         "offsetgroup": "co2",
         "orientation": "v",
         "showlegend": true,
         "textposition": "auto",
         "type": "bar",
         "x": [
          2021,
          2022,
          2023,
          2024
         ],
         "xaxis": "x",
         "y": [
          34288363.57,
          33454180.48,
          37296960.41,
          37463070.99
         ],
         "yaxis": "y"
        },
        {
         "alignmentgroup": "True",
         "hovertemplate": "Gas=n2o<br>Year=%{x}<br>Emissions=%{y}<extra></extra>",
         "legendgroup": "n2o",
         "marker": {
          "color": "#00cc96",
          "pattern": {
           "shape": ""
          }
         },
         "name": "n2o",
         "offsetgroup": "n2o",
         "orientation": "v",
         "showlegend": true,
         "textposition": "auto",
         "type": "bar",
         "x": [
          2021,
          2022,
          2023,
          2024
         ],
         "xaxis": "x",
         "y": [
          296281.87,
          304856.81,
          326043.56,
          323199.52
         ],
         "yaxis": "y"
        },
        {
         "alignmentgroup": "True",
         "hovertemplate": "Gas=other_GHGs<br>Year=%{x}<br>Emissions=%{y}<extra></extra>",
         "legendgroup": "other_GHGs",
         "marker": {
          "color": "#ab63fa",
          "pattern": {
           "shape": ""
          }
         },
         "name": "other_GHGs",
         "offsetgroup": "other_GHGs",
         "orientation": "v",
         "showlegend": true,
         "textposition": "auto",
         "type": "bar",
         "x": [
          2021,
          2022,
          2023,
          2024
         ],
         "xaxis": "x",
         "y": [
          2454429.9999999935,
          2433496.78,
          2402010.4900000044,
          2401315.789999995
         ],
         "yaxis": "y"
        }
       ],
       "layout": {
        "barmode": "group",
        "legend": {
         "title": {
          "text": "Gas"
         },
         "tracegroupgap": 0
        },
        "template": {
         "data": {
          "bar": [
           {
            "error_x": {
             "color": "#2a3f5f"
            },
            "error_y": {
             "color": "#2a3f5f"
            },
            "marker": {
             "line": {
              "color": "#E5ECF6",
              "width": 0.5
             },
             "pattern": {
              "fillmode": "overlay",
              "size": 10,
              "solidity": 0.2
             }
            },
            "type": "bar"
           }
          ],
          "barpolar": [
           {
            "marker": {
             "line": {
              "color": "#E5ECF6",
              "width": 0.5
             },
             "pattern": {
              "fillmode": "overlay",
              "size": 10,
              "solidity": 0.2
             }
            },
            "type": "barpolar"
           }
          ],
          "carpet": [
           {
            "aaxis": {
             "endlinecolor": "#2a3f5f",
             "gridcolor": "white",
             "linecolor": "white",
             "minorgridcolor": "white",
             "startlinecolor": "#2a3f5f"
            },
            "baxis": {
             "endlinecolor": "#2a3f5f",
             "gridcolor": "white",
             "linecolor": "white",
             "minorgridcolor": "white",
             "startlinecolor": "#2a3f5f"
            },
            "type": "carpet"
           }
          ],
          "choropleth": [
           {
            "colorbar": {
             "outlinewidth": 0,
             "ticks": ""
            },
            "type": "choropleth"
           }
          ],
          "contour": [
           {
            "colorbar": {
             "outlinewidth": 0,
             "ticks": ""
            },
            "colorscale": [
             [
              0,
              "#0d0887"
             ],
             [
              0.1111111111111111,
              "#46039f"
             ],
             [
              0.2222222222222222,
              "#7201a8"
             ],
             [
              0.3333333333333333,
              "#9c179e"
             ],
             [
              0.4444444444444444,
              "#bd3786"
             ],
             [
              0.5555555555555556,
              "#d8576b"
             ],
             [
              0.6666666666666666,
              "#ed7953"
             ],
             [
              0.7777777777777778,
              "#fb9f3a"
             ],
             [
              0.8888888888888888,
              "#fdca26"
             ],
             [
              1,
              "#f0f921"
             ]
            ],
            "type": "contour"
           }
          ],
          "contourcarpet": [
           {
            "colorbar": {
             "outlinewidth": 0,
             "ticks": ""
            },
            "type": "contourcarpet"
           }
          ],
          "heatmap": [
           {
            "colorbar": {
             "outlinewidth": 0,
             "ticks": ""
            },
            "colorscale": [
             [
              0,
              "#0d0887"
             ],
             [
              0.1111111111111111,
              "#46039f"
             ],
             [
              0.2222222222222222,
              "#7201a8"
             ],
             [
              0.3333333333333333,
              "#9c179e"
             ],
             [
              0.4444444444444444,
              "#bd3786"
             ],
             [
              0.5555555555555556,
              "#d8576b"
             ],
             [
              0.6666666666666666,
              "#ed7953"
             ],
             [
              0.7777777777777778,
              "#fb9f3a"
             ],
             [
              0.8888888888888888,
              "#fdca26"
             ],
             [
              1,
              "#f0f921"
             ]
            ],
            "type": "heatmap"
           }
          ],
          "heatmapgl": [
           {
            "colorbar": {
             "outlinewidth": 0,
             "ticks": ""
            },
            "colorscale": [
             [
              0,
              "#0d0887"
             ],
             [
              0.1111111111111111,
              "#46039f"
             ],
             [
              0.2222222222222222,
              "#7201a8"
             ],
             [
              0.3333333333333333,
              "#9c179e"
             ],
             [
              0.4444444444444444,
              "#bd3786"
             ],
             [
              0.5555555555555556,
              "#d8576b"
             ],
             [
              0.6666666666666666,
              "#ed7953"
             ],
             [
              0.7777777777777778,
              "#fb9f3a"
             ],
             [
              0.8888888888888888,
              "#fdca26"
             ],
             [
              1,
              "#f0f921"
             ]
            ],
            "type": "heatmapgl"
           }
          ],
          "histogram": [
           {
            "marker": {
             "pattern": {
              "fillmode": "overlay",
              "size": 10,
              "solidity": 0.2
             }
            },
            "type": "histogram"
           }
          ],
          "histogram2d": [
           {
            "colorbar": {
             "outlinewidth": 0,
             "ticks": ""
            },
            "colorscale": [
             [
              0,
              "#0d0887"
             ],
             [
              0.1111111111111111,
              "#46039f"
             ],
             [
              0.2222222222222222,
              "#7201a8"
             ],
             [
              0.3333333333333333,
              "#9c179e"
             ],
             [
              0.4444444444444444,
              "#bd3786"
             ],
             [
              0.5555555555555556,
              "#d8576b"
             ],
             [
              0.6666666666666666,
              "#ed7953"
             ],
             [
              0.7777777777777778,
              "#fb9f3a"
             ],
             [
              0.8888888888888888,
              "#fdca26"
             ],
             [
              1,
              "#f0f921"
             ]
            ],
            "type": "histogram2d"
           }
          ],
          "histogram2dcontour": [
           {
            "colorbar": {
             "outlinewidth": 0,
             "ticks": ""
            },
            "colorscale": [
             [
              0,
              "#0d0887"
             ],
             [
              0.1111111111111111,
              "#46039f"
             ],
             [
              0.2222222222222222,
              "#7201a8"
             ],
             [
              0.3333333333333333,
              "#9c179e"
             ],
             [
              0.4444444444444444,
              "#bd3786"
             ],
             [
              0.5555555555555556,
              "#d8576b"
             ],
             [
              0.6666666666666666,
              "#ed7953"
             ],
             [
              0.7777777777777778,
              "#fb9f3a"
             ],
             [
              0.8888888888888888,
              "#fdca26"
             ],
             [
              1,
              "#f0f921"
             ]
            ],
            "type": "histogram2dcontour"
           }
          ],
          "mesh3d": [
           {
            "colorbar": {
             "outlinewidth": 0,
             "ticks": ""
            },
            "type": "mesh3d"
           }
          ],
          "parcoords": [
           {
            "line": {
             "colorbar": {
              "outlinewidth": 0,
              "ticks": ""
             }
            },
            "type": "parcoords"
           }
          ],
          "pie": [
           {
            "automargin": true,
            "type": "pie"
           }
          ],
          "scatter": [
           {
            "fillpattern": {
             "fillmode": "overlay",
             "size": 10,
             "solidity": 0.2
            },
            "type": "scatter"
           }
          ],
          "scatter3d": [
           {
            "line": {
             "colorbar": {
              "outlinewidth": 0,
              "ticks": ""
             }
            },
            "marker": {
             "colorbar": {
              "outlinewidth": 0,
              "ticks": ""
             }
            },
            "type": "scatter3d"
           }
          ],
          "scattercarpet": [
           {
            "marker": {
             "colorbar": {
              "outlinewidth": 0,
              "ticks": ""
             }
            },
            "type": "scattercarpet"
           }
          ],
          "scattergeo": [
           {
            "marker": {
             "colorbar": {
              "outlinewidth": 0,
              "ticks": ""
             }
            },
            "type": "scattergeo"
           }
          ],
          "scattergl": [
           {
            "marker": {
             "colorbar": {
              "outlinewidth": 0,
              "ticks": ""
             }
            },
            "type": "scattergl"
           }
          ],
          "scattermapbox": [
           {
            "marker": {
             "colorbar": {
              "outlinewidth": 0,
              "ticks": ""
             }
            },
            "type": "scattermapbox"
           }
          ],
          "scatterpolar": [
           {
            "marker": {
             "colorbar": {
              "outlinewidth": 0,
              "ticks": ""
             }
            },
            "type": "scatterpolar"
           }
          ],
          "scatterpolargl": [
           {
            "marker": {
             "colorbar": {
              "outlinewidth": 0,
              "ticks": ""
             }
            },
            "type": "scatterpolargl"
           }
          ],
          "scatterternary": [
           {
            "marker": {
             "colorbar": {
              "outlinewidth": 0,
              "ticks": ""
             }
            },
            "type": "scatterternary"
           }
          ],
          "surface": [
           {
            "colorbar": {
             "outlinewidth": 0,
             "ticks": ""
            },
            "colorscale": [
             [
              0,
              "#0d0887"
             ],
             [
              0.1111111111111111,
              "#46039f"
             ],
             [
              0.2222222222222222,
              "#7201a8"
             ],
             [
              0.3333333333333333,
              "#9c179e"
             ],
             [
              0.4444444444444444,
              "#bd3786"
             ],
             [
              0.5555555555555556,
              "#d8576b"
             ],
             [
              0.6666666666666666,
              "#ed7953"
             ],
             [
              0.7777777777777778,
              "#fb9f3a"
             ],
             [
              0.8888888888888888,
              "#fdca26"
             ],
             [
              1,
              "#f0f921"
             ]
            ],
            "type": "surface"
           }
          ],
          "table": [
           {
            "cells": {
             "fill": {
              "color": "#EBF0F8"
             },
             "line": {
              "color": "white"
             }
            },
            "header": {
             "fill": {
              "color": "#C8D4E3"
             },
             "line": {
              "color": "white"
             }
            },
            "type": "table"
           }
          ]
         },
         "layout": {
          "annotationdefaults": {
           "arrowcolor": "#2a3f5f",
           "arrowhead": 0,
           "arrowwidth": 1
          },
          "autotypenumbers": "strict",
          "coloraxis": {
           "colorbar": {
            "outlinewidth": 0,
            "ticks": ""
           }
          },
          "colorscale": {
           "diverging": [
            [
             0,
             "#8e0152"
            ],
            [
             0.1,
             "#c51b7d"
            ],
            [
             0.2,
             "#de77ae"
            ],
            [
             0.3,
             "#f1b6da"
            ],
            [
             0.4,
             "#fde0ef"
            ],
            [
             0.5,
             "#f7f7f7"
            ],
            [
             0.6,
             "#e6f5d0"
            ],
            [
             0.7,
             "#b8e186"
            ],
            [
             0.8,
             "#7fbc41"
            ],
            [
             0.9,
             "#4d9221"
            ],
            [
             1,
             "#276419"
            ]
           ],
           "sequential": [
            [
             0,
             "#0d0887"
            ],
            [
             0.1111111111111111,
             "#46039f"
            ],
            [
             0.2222222222222222,
             "#7201a8"
            ],
            [
             0.3333333333333333,
             "#9c179e"
            ],
            [
             0.4444444444444444,
             "#bd3786"
            ],
            [
             0.5555555555555556,
             "#d8576b"
            ],
            [
             0.6666666666666666,
             "#ed7953"
            ],
            [
             0.7777777777777778,
             "#fb9f3a"
            ],
            [
             0.8888888888888888,
             "#fdca26"
            ],
            [
             1,
             "#f0f921"
            ]
           ],
           "sequentialminus": [
            [
             0,
             "#0d0887"
            ],
            [
             0.1111111111111111,
             "#46039f"
            ],
            [
             0.2222222222222222,
             "#7201a8"
            ],
            [
             0.3333333333333333,
             "#9c179e"
            ],
            [
             0.4444444444444444,
             "#bd3786"
            ],
            [
             0.5555555555555556,
             "#d8576b"
            ],
            [
             0.6666666666666666,
             "#ed7953"
            ],
            [
             0.7777777777777778,
             "#fb9f3a"
            ],
            [
             0.8888888888888888,
             "#fdca26"
            ],
            [
             1,
             "#f0f921"
            ]
           ]
          },
          "colorway": [
           "#636efa",
           "#EF553B",
           "#00cc96",
           "#ab63fa",
           "#FFA15A",
           "#19d3f3",
           "#FF6692",
           "#B6E880",
           "#FF97FF",
           "#FECB52"
          ],
          "font": {
           "color": "#2a3f5f"
          },
          "geo": {
           "bgcolor": "white",
           "lakecolor": "white",
           "landcolor": "#E5ECF6",
           "showlakes": true,
           "showland": true,
           "subunitcolor": "white"
          },
          "hoverlabel": {
           "align": "left"
          },
          "hovermode": "closest",
          "mapbox": {
           "style": "light"
          },
          "paper_bgcolor": "white",
          "plot_bgcolor": "#E5ECF6",
          "polar": {
           "angularaxis": {
            "gridcolor": "white",
            "linecolor": "white",
            "ticks": ""
           },
           "bgcolor": "#E5ECF6",
           "radialaxis": {
            "gridcolor": "white",
            "linecolor": "white",
            "ticks": ""
           }
          },
          "scene": {
           "xaxis": {
            "backgroundcolor": "#E5ECF6",
            "gridcolor": "white",
            "gridwidth": 2,
            "linecolor": "white",
            "showbackground": true,
            "ticks": "",
            "zerolinecolor": "white"
           },
           "yaxis": {
            "backgroundcolor": "#E5ECF6",
            "gridcolor": "white",
            "gridwidth": 2,
            "linecolor": "white",
            "showbackground": true,
            "ticks": "",
            "zerolinecolor": "white"
           },
           "zaxis": {
            "backgroundcolor": "#E5ECF6",
            "gridcolor": "white",
            "gridwidth": 2,
            "linecolor": "white",
            "showbackground": true,
            "ticks": "",
            "zerolinecolor": "white"
           }
          },
          "shapedefaults": {
           "line": {
            "color": "#2a3f5f"
           }
          },
          "ternary": {
           "aaxis": {
            "gridcolor": "white",
            "linecolor": "white",
            "ticks": ""
           },
           "baxis": {
            "gridcolor": "white",
            "linecolor": "white",
            "ticks": ""
           },
           "bgcolor": "#E5ECF6",
           "caxis": {
            "gridcolor": "white",
            "linecolor": "white",
            "ticks": ""
           }
          },
          "title": {
           "x": 0.05
          },
          "xaxis": {
           "automargin": true,
           "gridcolor": "white",
           "linecolor": "white",
           "ticks": "",
           "title": {
            "standoff": 15
           },
           "zerolinecolor": "white",
           "zerolinewidth": 2
          },
          "yaxis": {
           "automargin": true,
           "gridcolor": "white",
           "linecolor": "white",
           "ticks": "",
           "title": {
            "standoff": 15
           },
           "zerolinecolor": "white",
           "zerolinewidth": 2
          }
         }
        },
        "title": {
         "text": "Greenhouse Gas Emissions Over the Years"
        },
        "xaxis": {
         "anchor": "y",
         "domain": [
          0,
          1
         ],
         "title": {
          "text": "Year"
         }
        },
        "yaxis": {
         "anchor": "x",
         "domain": [
          0,
          1
         ],
         "title": {
          "text": "Emissions"
         }
        }
       }
      }
     },
     "metadata": {},
     "output_type": "display_data"
    }
   ],
   "source": [
    "import plotly.express as px\n",
    "import pandas as pd\n",
    "\n",
    "# Chuyển dữ liệu sang dạng dài (long format) để Plotly dễ vẽ\n",
    "df_long = pivoted.melt(id_vars=['year'], value_vars=['ch4', 'co2', 'n2o', 'other_GHGs'], \n",
    "                  var_name='gas', value_name='emissions')\n",
    "\n",
    "# Tạo biểu đồ cột động\n",
    "fig = px.bar(df_long, x='year', y='emissions', color='gas',\n",
    "             title='Greenhouse Gas Emissions Over the Years',\n",
    "             labels={'emissions': 'Emissions', 'year': 'Year', 'gas': 'Gas'},\n",
    "             barmode='group')  # 'group' để các cột của mỗi năm không bị chồng lên nhau\n",
    "\n",
    "# Hiển thị biểu đồ\n",
    "fig.show()"
   ]
  },
  {
   "cell_type": "code",
   "execution_count": 11,
   "metadata": {},
   "outputs": [
    {
     "data": {
      "application/vnd.plotly.v1+json": {
       "config": {
        "plotlyServerURL": "https://plot.ly"
       },
       "data": [
        {
         "alignmentgroup": "True",
         "hovertemplate": "main_sector=Chất thải<br>Năm=%{x}<br>Lượng phát thải (tấn CO₂e)=%{y:.2f}<extra></extra>",
         "legendgroup": "Chất thải",
         "marker": {
          "color": "#636efa",
          "pattern": {
           "shape": ""
          }
         },
         "name": "Chất thải",
         "offsetgroup": "Chất thải",
         "orientation": "v",
         "showlegend": true,
         "textposition": "auto",
         "type": "bar",
         "x": [
          2021,
          2022,
          2023,
          2024
         ],
         "xaxis": "x",
         "y": [
          2911814.76,
          2913800.04,
          2965528.8,
          3018197.04
         ],
         "yaxis": "y"
        },
        {
         "alignmentgroup": "True",
         "hovertemplate": "main_sector=Công nghiệp<br>Năm=%{x}<br>Lượng phát thải (tấn CO₂e)=%{y:.2f}<extra></extra>",
         "legendgroup": "Công nghiệp",
         "marker": {
          "color": "#EF553B",
          "pattern": {
           "shape": ""
          }
         },
         "name": "Công nghiệp",
         "offsetgroup": "Công nghiệp",
         "orientation": "v",
         "showlegend": true,
         "textposition": "auto",
         "type": "bar",
         "x": [
          2021,
          2022,
          2023,
          2024
         ],
         "xaxis": "x",
         "y": [
          9242855.69,
          9573449.15,
          9867048.31,
          9624798.18
         ],
         "yaxis": "y"
        },
        {
         "alignmentgroup": "True",
         "hovertemplate": "main_sector=Giao thông<br>Năm=%{x}<br>Lượng phát thải (tấn CO₂e)=%{y:.2f}<extra></extra>",
         "legendgroup": "Giao thông",
         "marker": {
          "color": "#00cc96",
          "pattern": {
           "shape": ""
          }
         },
         "name": "Giao thông",
         "offsetgroup": "Giao thông",
         "orientation": "v",
         "showlegend": true,
         "textposition": "auto",
         "type": "bar",
         "x": [
          2021,
          2022,
          2023,
          2024
         ],
         "xaxis": "x",
         "y": [
          6973200.21,
          8746805.66,
          9237306.66,
          9138320.77
         ],
         "yaxis": "y"
        },
        {
         "alignmentgroup": "True",
         "hovertemplate": "main_sector=Nông nghiệp<br>Năm=%{x}<br>Lượng phát thải (tấn CO₂e)=%{y:.2f}<extra></extra>",
         "legendgroup": "Nông nghiệp",
         "marker": {
          "color": "#ab63fa",
          "pattern": {
           "shape": ""
          }
         },
         "name": "Nông nghiệp",
         "offsetgroup": "Nông nghiệp",
         "orientation": "v",
         "showlegend": true,
         "textposition": "auto",
         "type": "bar",
         "x": [
          2021,
          2022,
          2023,
          2024
         ],
         "xaxis": "x",
         "y": [
          12555537.16,
          11880743.54,
          11650880.65,
          11534371.88
         ],
         "yaxis": "y"
        },
        {
         "alignmentgroup": "True",
         "hovertemplate": "main_sector=Năng lượng<br>Năm=%{x}<br>Lượng phát thải (tấn CO₂e)=%{y:.2f}<extra></extra>",
         "legendgroup": "Năng lượng",
         "marker": {
          "color": "#FFA15A",
          "pattern": {
           "shape": ""
          }
         },
         "name": "Năng lượng",
         "offsetgroup": "Năng lượng",
         "orientation": "v",
         "showlegend": true,
         "textposition": "auto",
         "type": "bar",
         "x": [
          2021,
          2022,
          2023,
          2024
         ],
         "xaxis": "x",
         "y": [
          35361382.75,
          31747973.57,
          32740775.16,
          33284269.67
         ],
         "yaxis": "y"
        },
        {
         "alignmentgroup": "True",
         "hovertemplate": "main_sector=Đất đai<br>Năm=%{x}<br>Lượng phát thải (tấn CO₂e)=%{y:.2f}<extra></extra>",
         "legendgroup": "Đất đai",
         "marker": {
          "color": "#19d3f3",
          "pattern": {
           "shape": ""
          }
         },
         "name": "Đất đai",
         "offsetgroup": "Đất đai",
         "orientation": "v",
         "showlegend": true,
         "textposition": "auto",
         "type": "bar",
         "x": [
          2021,
          2022,
          2023,
          2024
         ],
         "xaxis": "x",
         "y": [
          92713.56,
          15371.76,
          193713.6,
          191776.68
         ],
         "yaxis": "y"
        }
       ],
       "layout": {
        "barmode": "group",
        "hovermode": "x unified",
        "legend": {
         "title": {
          "text": "Ngành"
         },
         "tracegroupgap": 0
        },
        "template": {
         "data": {
          "bar": [
           {
            "error_x": {
             "color": "#2a3f5f"
            },
            "error_y": {
             "color": "#2a3f5f"
            },
            "marker": {
             "line": {
              "color": "#E5ECF6",
              "width": 0.5
             },
             "pattern": {
              "fillmode": "overlay",
              "size": 10,
              "solidity": 0.2
             }
            },
            "type": "bar"
           }
          ],
          "barpolar": [
           {
            "marker": {
             "line": {
              "color": "#E5ECF6",
              "width": 0.5
             },
             "pattern": {
              "fillmode": "overlay",
              "size": 10,
              "solidity": 0.2
             }
            },
            "type": "barpolar"
           }
          ],
          "carpet": [
           {
            "aaxis": {
             "endlinecolor": "#2a3f5f",
             "gridcolor": "white",
             "linecolor": "white",
             "minorgridcolor": "white",
             "startlinecolor": "#2a3f5f"
            },
            "baxis": {
             "endlinecolor": "#2a3f5f",
             "gridcolor": "white",
             "linecolor": "white",
             "minorgridcolor": "white",
             "startlinecolor": "#2a3f5f"
            },
            "type": "carpet"
           }
          ],
          "choropleth": [
           {
            "colorbar": {
             "outlinewidth": 0,
             "ticks": ""
            },
            "type": "choropleth"
           }
          ],
          "contour": [
           {
            "colorbar": {
             "outlinewidth": 0,
             "ticks": ""
            },
            "colorscale": [
             [
              0,
              "#0d0887"
             ],
             [
              0.1111111111111111,
              "#46039f"
             ],
             [
              0.2222222222222222,
              "#7201a8"
             ],
             [
              0.3333333333333333,
              "#9c179e"
             ],
             [
              0.4444444444444444,
              "#bd3786"
             ],
             [
              0.5555555555555556,
              "#d8576b"
             ],
             [
              0.6666666666666666,
              "#ed7953"
             ],
             [
              0.7777777777777778,
              "#fb9f3a"
             ],
             [
              0.8888888888888888,
              "#fdca26"
             ],
             [
              1,
              "#f0f921"
             ]
            ],
            "type": "contour"
           }
          ],
          "contourcarpet": [
           {
            "colorbar": {
             "outlinewidth": 0,
             "ticks": ""
            },
            "type": "contourcarpet"
           }
          ],
          "heatmap": [
           {
            "colorbar": {
             "outlinewidth": 0,
             "ticks": ""
            },
            "colorscale": [
             [
              0,
              "#0d0887"
             ],
             [
              0.1111111111111111,
              "#46039f"
             ],
             [
              0.2222222222222222,
              "#7201a8"
             ],
             [
              0.3333333333333333,
              "#9c179e"
             ],
             [
              0.4444444444444444,
              "#bd3786"
             ],
             [
              0.5555555555555556,
              "#d8576b"
             ],
             [
              0.6666666666666666,
              "#ed7953"
             ],
             [
              0.7777777777777778,
              "#fb9f3a"
             ],
             [
              0.8888888888888888,
              "#fdca26"
             ],
             [
              1,
              "#f0f921"
             ]
            ],
            "type": "heatmap"
           }
          ],
          "heatmapgl": [
           {
            "colorbar": {
             "outlinewidth": 0,
             "ticks": ""
            },
            "colorscale": [
             [
              0,
              "#0d0887"
             ],
             [
              0.1111111111111111,
              "#46039f"
             ],
             [
              0.2222222222222222,
              "#7201a8"
             ],
             [
              0.3333333333333333,
              "#9c179e"
             ],
             [
              0.4444444444444444,
              "#bd3786"
             ],
             [
              0.5555555555555556,
              "#d8576b"
             ],
             [
              0.6666666666666666,
              "#ed7953"
             ],
             [
              0.7777777777777778,
              "#fb9f3a"
             ],
             [
              0.8888888888888888,
              "#fdca26"
             ],
             [
              1,
              "#f0f921"
             ]
            ],
            "type": "heatmapgl"
           }
          ],
          "histogram": [
           {
            "marker": {
             "pattern": {
              "fillmode": "overlay",
              "size": 10,
              "solidity": 0.2
             }
            },
            "type": "histogram"
           }
          ],
          "histogram2d": [
           {
            "colorbar": {
             "outlinewidth": 0,
             "ticks": ""
            },
            "colorscale": [
             [
              0,
              "#0d0887"
             ],
             [
              0.1111111111111111,
              "#46039f"
             ],
             [
              0.2222222222222222,
              "#7201a8"
             ],
             [
              0.3333333333333333,
              "#9c179e"
             ],
             [
              0.4444444444444444,
              "#bd3786"
             ],
             [
              0.5555555555555556,
              "#d8576b"
             ],
             [
              0.6666666666666666,
              "#ed7953"
             ],
             [
              0.7777777777777778,
              "#fb9f3a"
             ],
             [
              0.8888888888888888,
              "#fdca26"
             ],
             [
              1,
              "#f0f921"
             ]
            ],
            "type": "histogram2d"
           }
          ],
          "histogram2dcontour": [
           {
            "colorbar": {
             "outlinewidth": 0,
             "ticks": ""
            },
            "colorscale": [
             [
              0,
              "#0d0887"
             ],
             [
              0.1111111111111111,
              "#46039f"
             ],
             [
              0.2222222222222222,
              "#7201a8"
             ],
             [
              0.3333333333333333,
              "#9c179e"
             ],
             [
              0.4444444444444444,
              "#bd3786"
             ],
             [
              0.5555555555555556,
              "#d8576b"
             ],
             [
              0.6666666666666666,
              "#ed7953"
             ],
             [
              0.7777777777777778,
              "#fb9f3a"
             ],
             [
              0.8888888888888888,
              "#fdca26"
             ],
             [
              1,
              "#f0f921"
             ]
            ],
            "type": "histogram2dcontour"
           }
          ],
          "mesh3d": [
           {
            "colorbar": {
             "outlinewidth": 0,
             "ticks": ""
            },
            "type": "mesh3d"
           }
          ],
          "parcoords": [
           {
            "line": {
             "colorbar": {
              "outlinewidth": 0,
              "ticks": ""
             }
            },
            "type": "parcoords"
           }
          ],
          "pie": [
           {
            "automargin": true,
            "type": "pie"
           }
          ],
          "scatter": [
           {
            "fillpattern": {
             "fillmode": "overlay",
             "size": 10,
             "solidity": 0.2
            },
            "type": "scatter"
           }
          ],
          "scatter3d": [
           {
            "line": {
             "colorbar": {
              "outlinewidth": 0,
              "ticks": ""
             }
            },
            "marker": {
             "colorbar": {
              "outlinewidth": 0,
              "ticks": ""
             }
            },
            "type": "scatter3d"
           }
          ],
          "scattercarpet": [
           {
            "marker": {
             "colorbar": {
              "outlinewidth": 0,
              "ticks": ""
             }
            },
            "type": "scattercarpet"
           }
          ],
          "scattergeo": [
           {
            "marker": {
             "colorbar": {
              "outlinewidth": 0,
              "ticks": ""
             }
            },
            "type": "scattergeo"
           }
          ],
          "scattergl": [
           {
            "marker": {
             "colorbar": {
              "outlinewidth": 0,
              "ticks": ""
             }
            },
            "type": "scattergl"
           }
          ],
          "scattermapbox": [
           {
            "marker": {
             "colorbar": {
              "outlinewidth": 0,
              "ticks": ""
             }
            },
            "type": "scattermapbox"
           }
          ],
          "scatterpolar": [
           {
            "marker": {
             "colorbar": {
              "outlinewidth": 0,
              "ticks": ""
             }
            },
            "type": "scatterpolar"
           }
          ],
          "scatterpolargl": [
           {
            "marker": {
             "colorbar": {
              "outlinewidth": 0,
              "ticks": ""
             }
            },
            "type": "scatterpolargl"
           }
          ],
          "scatterternary": [
           {
            "marker": {
             "colorbar": {
              "outlinewidth": 0,
              "ticks": ""
             }
            },
            "type": "scatterternary"
           }
          ],
          "surface": [
           {
            "colorbar": {
             "outlinewidth": 0,
             "ticks": ""
            },
            "colorscale": [
             [
              0,
              "#0d0887"
             ],
             [
              0.1111111111111111,
              "#46039f"
             ],
             [
              0.2222222222222222,
              "#7201a8"
             ],
             [
              0.3333333333333333,
              "#9c179e"
             ],
             [
              0.4444444444444444,
              "#bd3786"
             ],
             [
              0.5555555555555556,
              "#d8576b"
             ],
             [
              0.6666666666666666,
              "#ed7953"
             ],
             [
              0.7777777777777778,
              "#fb9f3a"
             ],
             [
              0.8888888888888888,
              "#fdca26"
             ],
             [
              1,
              "#f0f921"
             ]
            ],
            "type": "surface"
           }
          ],
          "table": [
           {
            "cells": {
             "fill": {
              "color": "#EBF0F8"
             },
             "line": {
              "color": "white"
             }
            },
            "header": {
             "fill": {
              "color": "#C8D4E3"
             },
             "line": {
              "color": "white"
             }
            },
            "type": "table"
           }
          ]
         },
         "layout": {
          "annotationdefaults": {
           "arrowcolor": "#2a3f5f",
           "arrowhead": 0,
           "arrowwidth": 1
          },
          "autotypenumbers": "strict",
          "coloraxis": {
           "colorbar": {
            "outlinewidth": 0,
            "ticks": ""
           }
          },
          "colorscale": {
           "diverging": [
            [
             0,
             "#8e0152"
            ],
            [
             0.1,
             "#c51b7d"
            ],
            [
             0.2,
             "#de77ae"
            ],
            [
             0.3,
             "#f1b6da"
            ],
            [
             0.4,
             "#fde0ef"
            ],
            [
             0.5,
             "#f7f7f7"
            ],
            [
             0.6,
             "#e6f5d0"
            ],
            [
             0.7,
             "#b8e186"
            ],
            [
             0.8,
             "#7fbc41"
            ],
            [
             0.9,
             "#4d9221"
            ],
            [
             1,
             "#276419"
            ]
           ],
           "sequential": [
            [
             0,
             "#0d0887"
            ],
            [
             0.1111111111111111,
             "#46039f"
            ],
            [
             0.2222222222222222,
             "#7201a8"
            ],
            [
             0.3333333333333333,
             "#9c179e"
            ],
            [
             0.4444444444444444,
             "#bd3786"
            ],
            [
             0.5555555555555556,
             "#d8576b"
            ],
            [
             0.6666666666666666,
             "#ed7953"
            ],
            [
             0.7777777777777778,
             "#fb9f3a"
            ],
            [
             0.8888888888888888,
             "#fdca26"
            ],
            [
             1,
             "#f0f921"
            ]
           ],
           "sequentialminus": [
            [
             0,
             "#0d0887"
            ],
            [
             0.1111111111111111,
             "#46039f"
            ],
            [
             0.2222222222222222,
             "#7201a8"
            ],
            [
             0.3333333333333333,
             "#9c179e"
            ],
            [
             0.4444444444444444,
             "#bd3786"
            ],
            [
             0.5555555555555556,
             "#d8576b"
            ],
            [
             0.6666666666666666,
             "#ed7953"
            ],
            [
             0.7777777777777778,
             "#fb9f3a"
            ],
            [
             0.8888888888888888,
             "#fdca26"
            ],
            [
             1,
             "#f0f921"
            ]
           ]
          },
          "colorway": [
           "#636efa",
           "#EF553B",
           "#00cc96",
           "#ab63fa",
           "#FFA15A",
           "#19d3f3",
           "#FF6692",
           "#B6E880",
           "#FF97FF",
           "#FECB52"
          ],
          "font": {
           "color": "#2a3f5f"
          },
          "geo": {
           "bgcolor": "white",
           "lakecolor": "white",
           "landcolor": "#E5ECF6",
           "showlakes": true,
           "showland": true,
           "subunitcolor": "white"
          },
          "hoverlabel": {
           "align": "left"
          },
          "hovermode": "closest",
          "mapbox": {
           "style": "light"
          },
          "paper_bgcolor": "white",
          "plot_bgcolor": "#E5ECF6",
          "polar": {
           "angularaxis": {
            "gridcolor": "white",
            "linecolor": "white",
            "ticks": ""
           },
           "bgcolor": "#E5ECF6",
           "radialaxis": {
            "gridcolor": "white",
            "linecolor": "white",
            "ticks": ""
           }
          },
          "scene": {
           "xaxis": {
            "backgroundcolor": "#E5ECF6",
            "gridcolor": "white",
            "gridwidth": 2,
            "linecolor": "white",
            "showbackground": true,
            "ticks": "",
            "zerolinecolor": "white"
           },
           "yaxis": {
            "backgroundcolor": "#E5ECF6",
            "gridcolor": "white",
            "gridwidth": 2,
            "linecolor": "white",
            "showbackground": true,
            "ticks": "",
            "zerolinecolor": "white"
           },
           "zaxis": {
            "backgroundcolor": "#E5ECF6",
            "gridcolor": "white",
            "gridwidth": 2,
            "linecolor": "white",
            "showbackground": true,
            "ticks": "",
            "zerolinecolor": "white"
           }
          },
          "shapedefaults": {
           "line": {
            "color": "#2a3f5f"
           }
          },
          "ternary": {
           "aaxis": {
            "gridcolor": "white",
            "linecolor": "white",
            "ticks": ""
           },
           "baxis": {
            "gridcolor": "white",
            "linecolor": "white",
            "ticks": ""
           },
           "bgcolor": "#E5ECF6",
           "caxis": {
            "gridcolor": "white",
            "linecolor": "white",
            "ticks": ""
           }
          },
          "title": {
           "x": 0.05
          },
          "xaxis": {
           "automargin": true,
           "gridcolor": "white",
           "linecolor": "white",
           "ticks": "",
           "title": {
            "standoff": 15
           },
           "zerolinecolor": "white",
           "zerolinewidth": 2
          },
          "yaxis": {
           "automargin": true,
           "gridcolor": "white",
           "linecolor": "white",
           "ticks": "",
           "title": {
            "standoff": 15
           },
           "zerolinecolor": "white",
           "zerolinewidth": 2
          }
         }
        },
        "title": {
         "text": "Lượng phát thải theo ngành và năm"
        },
        "xaxis": {
         "anchor": "y",
         "domain": [
          0,
          1
         ],
         "title": {
          "text": "Năm"
         }
        },
        "yaxis": {
         "anchor": "x",
         "domain": [
          0,
          1
         ],
         "title": {
          "text": "Lượng phát thải (tấn CO₂e)"
         }
        }
       }
      }
     },
     "metadata": {},
     "output_type": "display_data"
    }
   ],
   "source": [
    "# Tạo biểu đồ cột động\n",
    "fig = px.bar(grouped_sector,\n",
    "             x='year',\n",
    "             y='emissions_sector',\n",
    "             color='main_sector',\n",
    "             barmode='group',\n",
    "             title='Lượng phát thải theo ngành và năm',\n",
    "             labels={'emissions_sector': 'Lượng phát thải (tấn CO₂e)', 'year': 'Năm'},\n",
    "             hover_data={'emissions_sector': ':.2f'})\n",
    "\n",
    "# Tùy chỉnh giao diện biểu đồ\n",
    "fig.update_layout(\n",
    "    xaxis_title='Năm',\n",
    "    yaxis_title='Lượng phát thải (tấn CO₂e)',\n",
    "    legend_title='Ngành',\n",
    "    hovermode=\"x unified\"\n",
    ")\n",
    "\n",
    "# Hiển thị biểu đồ\n",
    "fig.show()"
   ]
  },
  {
   "cell_type": "code",
   "execution_count": 12,
   "metadata": {},
   "outputs": [
    {
     "data": {
      "image/png": "[encoded data removed]",
      "text/plain": [
       "<Figure size 500x500 with 1 Axes>"
      ]
     },
     "metadata": {},
     "output_type": "display_data"
    },
    {
     "data": {
      "image/png": "[encoded data removed]",
      "text/plain": [
       "<Figure size 500x500 with 1 Axes>"
      ]
     },
     "metadata": {},
     "output_type": "display_data"
    },
    {
     "data": {
      "image/png": "[encoded data removed]",
      "text/plain": [
       "<Figure size 500x500 with 1 Axes>"
      ]
     },
     "metadata": {},
     "output_type": "display_data"
    },
    {
     "data": {
      "image/png": "[encoded data removed]",
      "text/plain": [
       "<Figure size 500x500 with 1 Axes>"
      ]
     },
     "metadata": {},
     "output_type": "display_data"
    }
   ],
   "source": [
    "# Lặp qua từng năm trong dữ liệu\n",
    "for year in grouped_sector['year'].unique():  \n",
    "    # Lọc dữ liệu theo năm\n",
    "    data_year = pivoted[pivoted['year'] == year].drop(['year', 'co2e_20yr'], axis=1).squeeze()\n",
    "    # Tính phần trăm của từng loại khí\n",
    "    percentages = (data_year / data_year.sum()) * 100\n",
    "    # Vẽ biểu đồ donut cho năm hiện tại\n",
    "    fig, ax = plt.subplots(figsize=(5, 5))\n",
    "    ax.pie(data_year, \n",
    "           startangle=90, \n",
    "           wedgeprops={'width': 0.4},  # Tạo khoảng trống ở giữa để thành hình donut\n",
    "           labels=None)  # Không hiển thị nhãn trực tiếp trên biểu đồ\n",
    "    # Tạo danh sách chú thích với tên khí và phần trăm\n",
    "    legend_labels = [f\"{gas}: {percent:.2f}%\" for gas, percent in zip(data_year.index, percentages)]\n",
    "    # Thêm chú thích (legend) với phần trăm\n",
    "    ax.legend(legend_labels, title=f\"Phần trăm phát thải ({year})\", loc=\"center left\", bbox_to_anchor=(1, 0.5))\n",
    "    ax.set_title(f'Emissions Năm {year}')\n",
    "    plt.tight_layout()\n",
    "    plt.show()"
   ]
  },
  {
   "cell_type": "code",
   "execution_count": 13,
   "metadata": {},
   "outputs": [
    {
     "data": {
      "image/png": "[encoded data removed]",
      "text/plain": [
       "<Figure size 600x600 with 1 Axes>"
      ]
     },
     "metadata": {},
     "output_type": "display_data"
    },
    {
     "data": {
      "image/png": "[encoded data removed]",
      "text/plain": [
       "<Figure size 600x600 with 1 Axes>"
      ]
     },
     "metadata": {},
     "output_type": "display_data"
    },
    {
     "data": {
      "image/png": "[encoded data removed]",
      "text/plain": [
       "<Figure size 600x600 with 1 Axes>"
      ]
     },
     "metadata": {},
     "output_type": "display_data"
    },
    {
     "data": {
      "image/png": "[encoded data removed]",
      "text/plain": [
       "<Figure size 600x600 with 1 Axes>"
      ]
     },
     "metadata": {},
     "output_type": "display_data"
    }
   ],
   "source": [
    "# Vẽ biểu đồ donut cho từng năm\n",
    "for year in grouped_sector['year'].unique():  # Lấy danh sách các năm duy nhất\n",
    "    # Lọc dữ liệu theo năm\n",
    "    data_year = grouped_sector[grouped_sector['year'] == year]\n",
    "    emissions = data_year['emissions_sector']\n",
    "    sectors = data_year['main_sector']\n",
    "\n",
    "    # Tính phần trăm\n",
    "    percentages = (emissions / emissions.sum()) * 100\n",
    "\n",
    "    # Vẽ biểu đồ donut\n",
    "    fig, ax = plt.subplots(figsize=(6, 6))\n",
    "    ax.pie(emissions, \n",
    "           startangle=90, \n",
    "           wedgeprops={'width': 0.3},  # Tạo khoảng trống ở giữa để thành hình donut\n",
    "           labels=None)  # Không hiển thị nhãn trực tiếp trên biểu đồ\n",
    "\n",
    "    # Tạo danh sách chú thích với tên ngành và phần trăm\n",
    "    legend_labels = [f\"{sector}: {percent:.2f}%\" for sector, percent in zip(sectors, percentages)]\n",
    "\n",
    "    # Thêm chú thích (legend) với phần trăm\n",
    "    ax.legend(legend_labels, title=f\"Phần trăm phát thải ({year})\", loc=\"center left\", bbox_to_anchor=(1, 0.5))\n",
    "\n",
    "    # Đặt tiêu đề cho biểu đồ\n",
    "    ax.set_title(f'Phát thải khí nhà kính theo ngành - Năm {year}')\n",
    "\n",
    "    # Hiển thị biểu đồ\n",
    "    plt.tight_layout()\n",
    "    plt.show()\n"
   ]
  },
  {
   "cell_type": "code",
   "execution_count": 14,
   "metadata": {},
   "outputs": [
    {
     "data": {
      "application/vnd.plotly.v1+json": {
       "config": {
        "plotlyServerURL": "https://plot.ly"
       },
       "data": [
        {
         "alignmentgroup": "True",
         "hovertemplate": "Loại khí=ch4<br>Lĩnh vực=%{x}<br>Lượng phát thải=%{y}<extra></extra>",
         "legendgroup": "ch4",
         "marker": {
          "color": "#636efa",
          "pattern": {
           "shape": ""
          }
         },
         "name": "ch4",
         "offsetgroup": "ch4",
         "orientation": "v",
         "showlegend": true,
         "textposition": "auto",
         "type": "bar",
         "x": [
          "Chất thải",
          "Công nghiệp",
          "Giao thông",
          "Nông nghiệp",
          "Năng lượng",
          "Đất đai"
         ],
         "xaxis": "x",
         "y": [
          11667264.959999999,
          130310,
          238245.05,
          32785355.36,
          67197249.61,
          0
         ],
         "yaxis": "y"
        },
        {
         "alignmentgroup": "True",
         "hovertemplate": "Loại khí=co2<br>Lĩnh vực=%{x}<br>Lượng phát thải=%{y}<extra></extra>",
         "legendgroup": "co2",
         "marker": {
          "color": "#EF553B",
          "pattern": {
           "shape": ""
          }
         },
         "name": "co2",
         "offsetgroup": "co2",
         "orientation": "v",
         "showlegend": true,
         "textposition": "auto",
         "type": "bar",
         "x": [
          "Chất thải",
          "Công nghiệp",
          "Giao thông",
          "Nông nghiệp",
          "Năng lượng",
          "Đất đai"
         ],
         "xaxis": "x",
         "y": [
          26096.52,
          29995001,
          33539153.25,
          13752474.5,
          64696274.58,
          493575.6
         ],
         "yaxis": "y"
        },
        {
         "alignmentgroup": "True",
         "hovertemplate": "Loại khí=n2o<br>Lĩnh vực=%{x}<br>Lượng phát thải=%{y}<extra></extra>",
         "legendgroup": "n2o",
         "marker": {
          "color": "#00cc96",
          "pattern": {
           "shape": ""
          }
         },
         "name": "n2o",
         "offsetgroup": "n2o",
         "orientation": "v",
         "showlegend": true,
         "textposition": "auto",
         "type": "bar",
         "x": [
          "Chất thải",
          "Công nghiệp",
          "Giao thông",
          "Nông nghiệp",
          "Năng lượng",
          "Đất đai"
         ],
         "xaxis": "x",
         "y": [
          5742.12,
          111893.03,
          314451.72000000003,
          591923.12,
          226371.77,
          0
         ],
         "yaxis": "y"
        },
        {
         "alignmentgroup": "True",
         "hovertemplate": "Loại khí=other_GHGs<br>Lĩnh vực=%{x}<br>Lượng phát thải=%{y}<extra></extra>",
         "legendgroup": "other_GHGs",
         "marker": {
          "color": "#ab63fa",
          "pattern": {
           "shape": ""
          }
         },
         "name": "other_GHGs",
         "offsetgroup": "other_GHGs",
         "orientation": "v",
         "showlegend": true,
         "textposition": "auto",
         "type": "bar",
         "x": [
          "Chất thải",
          "Công nghiệp",
          "Giao thông",
          "Nông nghiệp",
          "Năng lượng",
          "Đất đai"
         ],
         "xaxis": "x",
         "y": [
          110237.04000000202,
          8070947.299999998,
          3783.279999997001,
          491780.2499999973,
          1014505.1900000083,
          0
         ],
         "yaxis": "y"
        }
       ],
       "layout": {
        "barmode": "group",
        "legend": {
         "title": {
          "text": "Loại khí"
         },
         "tracegroupgap": 0
        },
        "template": {
         "data": {
          "bar": [
           {
            "error_x": {
             "color": "#2a3f5f"
            },
            "error_y": {
             "color": "#2a3f5f"
            },
            "marker": {
             "line": {
              "color": "#E5ECF6",
              "width": 0.5
             },
             "pattern": {
              "fillmode": "overlay",
              "size": 10,
              "solidity": 0.2
             }
            },
            "type": "bar"
           }
          ],
          "barpolar": [
           {
            "marker": {
             "line": {
              "color": "#E5ECF6",
              "width": 0.5
             },
             "pattern": {
              "fillmode": "overlay",
              "size": 10,
              "solidity": 0.2
             }
            },
            "type": "barpolar"
           }
          ],
          "carpet": [
           {
            "aaxis": {
             "endlinecolor": "#2a3f5f",
             "gridcolor": "white",
             "linecolor": "white",
             "minorgridcolor": "white",
             "startlinecolor": "#2a3f5f"
            },
            "baxis": {
             "endlinecolor": "#2a3f5f",
             "gridcolor": "white",
             "linecolor": "white",
             "minorgridcolor": "white",
             "startlinecolor": "#2a3f5f"
            },
            "type": "carpet"
           }
          ],
          "choropleth": [
           {
            "colorbar": {
             "outlinewidth": 0,
             "ticks": ""
            },
            "type": "choropleth"
           }
          ],
          "contour": [
           {
            "colorbar": {
             "outlinewidth": 0,
             "ticks": ""
            },
            "colorscale": [
             [
              0,
              "#0d0887"
             ],
             [
              0.1111111111111111,
              "#46039f"
             ],
             [
              0.2222222222222222,
              "#7201a8"
             ],
             [
              0.3333333333333333,
              "#9c179e"
             ],
             [
              0.4444444444444444,
              "#bd3786"
             ],
             [
              0.5555555555555556,
              "#d8576b"
             ],
             [
              0.6666666666666666,
              "#ed7953"
             ],
             [
              0.7777777777777778,
              "#fb9f3a"
             ],
             [
              0.8888888888888888,
              "#fdca26"
             ],
             [
              1,
              "#f0f921"
             ]
            ],
            "type": "contour"
           }
          ],
          "contourcarpet": [
           {
            "colorbar": {
             "outlinewidth": 0,
             "ticks": ""
            },
            "type": "contourcarpet"
           }
          ],
          "heatmap": [
           {
            "colorbar": {
             "outlinewidth": 0,
             "ticks": ""
            },
            "colorscale": [
             [
              0,
              "#0d0887"
             ],
             [
              0.1111111111111111,
              "#46039f"
             ],
             [
              0.2222222222222222,
              "#7201a8"
             ],
             [
              0.3333333333333333,
              "#9c179e"
             ],
             [
              0.4444444444444444,
              "#bd3786"
             ],
             [
              0.5555555555555556,
              "#d8576b"
             ],
             [
              0.6666666666666666,
              "#ed7953"
             ],
             [
              0.7777777777777778,
              "#fb9f3a"
             ],
             [
              0.8888888888888888,
              "#fdca26"
             ],
             [
              1,
              "#f0f921"
             ]
            ],
            "type": "heatmap"
           }
          ],
          "heatmapgl": [
           {
            "colorbar": {
             "outlinewidth": 0,
             "ticks": ""
            },
            "colorscale": [
             [
              0,
              "#0d0887"
             ],
             [
              0.1111111111111111,
              "#46039f"
             ],
             [
              0.2222222222222222,
              "#7201a8"
             ],
             [
              0.3333333333333333,
              "#9c179e"
             ],
             [
              0.4444444444444444,
              "#bd3786"
             ],
             [
              0.5555555555555556,
              "#d8576b"
             ],
             [
              0.6666666666666666,
              "#ed7953"
             ],
             [
              0.7777777777777778,
              "#fb9f3a"
             ],
             [
              0.8888888888888888,
              "#fdca26"
             ],
             [
              1,
              "#f0f921"
             ]
            ],
            "type": "heatmapgl"
           }
          ],
          "histogram": [
           {
            "marker": {
             "pattern": {
              "fillmode": "overlay",
              "size": 10,
              "solidity": 0.2
             }
            },
            "type": "histogram"
           }
          ],
          "histogram2d": [
           {
            "colorbar": {
             "outlinewidth": 0,
             "ticks": ""
            },
            "colorscale": [
             [
              0,
              "#0d0887"
             ],
             [
              0.1111111111111111,
              "#46039f"
             ],
             [
              0.2222222222222222,
              "#7201a8"
             ],
             [
              0.3333333333333333,
              "#9c179e"
             ],
             [
              0.4444444444444444,
              "#bd3786"
             ],
             [
              0.5555555555555556,
              "#d8576b"
             ],
             [
              0.6666666666666666,
              "#ed7953"
             ],
             [
              0.7777777777777778,
              "#fb9f3a"
             ],
             [
              0.8888888888888888,
              "#fdca26"
             ],
             [
              1,
              "#f0f921"
             ]
            ],
            "type": "histogram2d"
           }
          ],
          "histogram2dcontour": [
           {
            "colorbar": {
             "outlinewidth": 0,
             "ticks": ""
            },
            "colorscale": [
             [
              0,
              "#0d0887"
             ],
             [
              0.1111111111111111,
              "#46039f"
             ],
             [
              0.2222222222222222,
              "#7201a8"
             ],
             [
              0.3333333333333333,
              "#9c179e"
             ],
             [
              0.4444444444444444,
              "#bd3786"
             ],
             [
              0.5555555555555556,
              "#d8576b"
             ],
             [
              0.6666666666666666,
              "#ed7953"
             ],
             [
              0.7777777777777778,
              "#fb9f3a"
             ],
             [
              0.8888888888888888,
              "#fdca26"
             ],
             [
              1,
              "#f0f921"
             ]
            ],
            "type": "histogram2dcontour"
           }
          ],
          "mesh3d": [
           {
            "colorbar": {
             "outlinewidth": 0,
             "ticks": ""
            },
            "type": "mesh3d"
           }
          ],
          "parcoords": [
           {
            "line": {
             "colorbar": {
              "outlinewidth": 0,
              "ticks": ""
             }
            },
            "type": "parcoords"
           }
          ],
          "pie": [
           {
            "automargin": true,
            "type": "pie"
           }
          ],
          "scatter": [
           {
            "fillpattern": {
             "fillmode": "overlay",
             "size": 10,
             "solidity": 0.2
            },
            "type": "scatter"
           }
          ],
          "scatter3d": [
           {
            "line": {
             "colorbar": {
              "outlinewidth": 0,
              "ticks": ""
             }
            },
            "marker": {
             "colorbar": {
              "outlinewidth": 0,
              "ticks": ""
             }
            },
            "type": "scatter3d"
           }
          ],
          "scattercarpet": [
           {
            "marker": {
             "colorbar": {
              "outlinewidth": 0,
              "ticks": ""
             }
            },
            "type": "scattercarpet"
           }
          ],
          "scattergeo": [
           {
            "marker": {
             "colorbar": {
              "outlinewidth": 0,
              "ticks": ""
             }
            },
            "type": "scattergeo"
           }
          ],
          "scattergl": [
           {
            "marker": {
             "colorbar": {
              "outlinewidth": 0,
              "ticks": ""
             }
            },
            "type": "scattergl"
           }
          ],
          "scattermapbox": [
           {
            "marker": {
             "colorbar": {
              "outlinewidth": 0,
              "ticks": ""
             }
            },
            "type": "scattermapbox"
           }
          ],
          "scatterpolar": [
           {
            "marker": {
             "colorbar": {
              "outlinewidth": 0,
              "ticks": ""
             }
            },
            "type": "scatterpolar"
           }
          ],
          "scatterpolargl": [
           {
            "marker": {
             "colorbar": {
              "outlinewidth": 0,
              "ticks": ""
             }
            },
            "type": "scatterpolargl"
           }
          ],
          "scatterternary": [
           {
            "marker": {
             "colorbar": {
              "outlinewidth": 0,
              "ticks": ""
             }
            },
            "type": "scatterternary"
           }
          ],
          "surface": [
           {
            "colorbar": {
             "outlinewidth": 0,
             "ticks": ""
            },
            "colorscale": [
             [
              0,
              "#0d0887"
             ],
             [
              0.1111111111111111,
              "#46039f"
             ],
             [
              0.2222222222222222,
              "#7201a8"
             ],
             [
              0.3333333333333333,
              "#9c179e"
             ],
             [
              0.4444444444444444,
              "#bd3786"
             ],
             [
              0.5555555555555556,
              "#d8576b"
             ],
             [
              0.6666666666666666,
              "#ed7953"
             ],
             [
              0.7777777777777778,
              "#fb9f3a"
             ],
             [
              0.8888888888888888,
              "#fdca26"
             ],
             [
              1,
              "#f0f921"
             ]
            ],
            "type": "surface"
           }
          ],
          "table": [
           {
            "cells": {
             "fill": {
              "color": "#EBF0F8"
             },
             "line": {
              "color": "white"
             }
            },
            "header": {
             "fill": {
              "color": "#C8D4E3"
             },
             "line": {
              "color": "white"
             }
            },
            "type": "table"
           }
          ]
         },
         "layout": {
          "annotationdefaults": {
           "arrowcolor": "#2a3f5f",
           "arrowhead": 0,
           "arrowwidth": 1
          },
          "autotypenumbers": "strict",
          "coloraxis": {
           "colorbar": {
            "outlinewidth": 0,
            "ticks": ""
           }
          },
          "colorscale": {
           "diverging": [
            [
             0,
             "#8e0152"
            ],
            [
             0.1,
             "#c51b7d"
            ],
            [
             0.2,
             "#de77ae"
            ],
            [
             0.3,
             "#f1b6da"
            ],
            [
             0.4,
             "#fde0ef"
            ],
            [
             0.5,
             "#f7f7f7"
            ],
            [
             0.6,
             "#e6f5d0"
            ],
            [
             0.7,
             "#b8e186"
            ],
            [
             0.8,
             "#7fbc41"
            ],
            [
             0.9,
             "#4d9221"
            ],
            [
             1,
             "#276419"
            ]
           ],
           "sequential": [
            [
             0,
             "#0d0887"
            ],
            [
             0.1111111111111111,
             "#46039f"
            ],
            [
             0.2222222222222222,
             "#7201a8"
            ],
            [
             0.3333333333333333,
             "#9c179e"
            ],
            [
             0.4444444444444444,
             "#bd3786"
            ],
            [
             0.5555555555555556,
             "#d8576b"
            ],
            [
             0.6666666666666666,
             "#ed7953"
            ],
            [
             0.7777777777777778,
             "#fb9f3a"
            ],
            [
             0.8888888888888888,
             "#fdca26"
            ],
            [
             1,
             "#f0f921"
            ]
           ],
           "sequentialminus": [
            [
             0,
             "#0d0887"
            ],
            [
             0.1111111111111111,
             "#46039f"
            ],
            [
             0.2222222222222222,
             "#7201a8"
            ],
            [
             0.3333333333333333,
             "#9c179e"
            ],
            [
             0.4444444444444444,
             "#bd3786"
            ],
            [
             0.5555555555555556,
             "#d8576b"
            ],
            [
             0.6666666666666666,
             "#ed7953"
            ],
            [
             0.7777777777777778,
             "#fb9f3a"
            ],
            [
             0.8888888888888888,
             "#fdca26"
            ],
            [
             1,
             "#f0f921"
            ]
           ]
          },
          "colorway": [
           "#636efa",
           "#EF553B",
           "#00cc96",
           "#ab63fa",
           "#FFA15A",
           "#19d3f3",
           "#FF6692",
           "#B6E880",
           "#FF97FF",
           "#FECB52"
          ],
          "font": {
           "color": "#2a3f5f"
          },
          "geo": {
           "bgcolor": "white",
           "lakecolor": "white",
           "landcolor": "#E5ECF6",
           "showlakes": true,
           "showland": true,
           "subunitcolor": "white"
          },
          "hoverlabel": {
           "align": "left"
          },
          "hovermode": "closest",
          "mapbox": {
           "style": "light"
          },
          "paper_bgcolor": "white",
          "plot_bgcolor": "#E5ECF6",
          "polar": {
           "angularaxis": {
            "gridcolor": "white",
            "linecolor": "white",
            "ticks": ""
           },
           "bgcolor": "#E5ECF6",
           "radialaxis": {
            "gridcolor": "white",
            "linecolor": "white",
            "ticks": ""
           }
          },
          "scene": {
           "xaxis": {
            "backgroundcolor": "#E5ECF6",
            "gridcolor": "white",
            "gridwidth": 2,
            "linecolor": "white",
            "showbackground": true,
            "ticks": "",
            "zerolinecolor": "white"
           },
           "yaxis": {
            "backgroundcolor": "#E5ECF6",
            "gridcolor": "white",
            "gridwidth": 2,
            "linecolor": "white",
            "showbackground": true,
            "ticks": "",
            "zerolinecolor": "white"
           },
           "zaxis": {
            "backgroundcolor": "#E5ECF6",
            "gridcolor": "white",
            "gridwidth": 2,
            "linecolor": "white",
            "showbackground": true,
            "ticks": "",
            "zerolinecolor": "white"
           }
          },
          "shapedefaults": {
           "line": {
            "color": "#2a3f5f"
           }
          },
          "ternary": {
           "aaxis": {
            "gridcolor": "white",
            "linecolor": "white",
            "ticks": ""
           },
           "baxis": {
            "gridcolor": "white",
            "linecolor": "white",
            "ticks": ""
           },
           "bgcolor": "#E5ECF6",
           "caxis": {
            "gridcolor": "white",
            "linecolor": "white",
            "ticks": ""
           }
          },
          "title": {
           "x": 0.05
          },
          "xaxis": {
           "automargin": true,
           "gridcolor": "white",
           "linecolor": "white",
           "ticks": "",
           "title": {
            "standoff": 15
           },
           "zerolinecolor": "white",
           "zerolinewidth": 2
          },
          "yaxis": {
           "automargin": true,
           "gridcolor": "white",
           "linecolor": "white",
           "ticks": "",
           "title": {
            "standoff": 15
           },
           "zerolinecolor": "white",
           "zerolinewidth": 2
          }
         }
        },
        "title": {
         "text": "Biểu đồ cột động lượng phát thải khí nhà kính theo lĩnh vực"
        },
        "xaxis": {
         "anchor": "y",
         "domain": [
          0,
          1
         ],
         "title": {
          "text": "Lĩnh vực"
         }
        },
        "yaxis": {
         "anchor": "x",
         "domain": [
          0,
          1
         ],
         "title": {
          "text": "Lượng phát thải"
         }
        }
       }
      }
     },
     "metadata": {},
     "output_type": "display_data"
    },
    {
     "data": {
      "text/html": [
       "<div>\n",
       "<style scoped>\n",
       "    .dataframe tbody tr th:only-of-type {\n",
       "        vertical-align: middle;\n",
       "    }\n",
       "\n",
       "    .dataframe tbody tr th {\n",
       "        vertical-align: top;\n",
       "    }\n",
       "\n",
       "    .dataframe thead th {\n",
       "        text-align: right;\n",
       "    }\n",
       "</style>\n",
       "<table border=\"1\" class=\"dataframe\">\n",
       "  <thead>\n",
       "    <tr style=\"text-align: right;\">\n",
       "      <th></th>\n",
       "      <th>main_sector</th>\n",
       "      <th>ch4</th>\n",
       "      <th>co2</th>\n",
       "      <th>co2e_20yr</th>\n",
       "      <th>n2o</th>\n",
       "      <th>other_GHGs</th>\n",
       "    </tr>\n",
       "  </thead>\n",
       "  <tbody>\n",
       "    <tr>\n",
       "      <th>0</th>\n",
       "      <td>Chất thải</td>\n",
       "      <td>11667264.96</td>\n",
       "      <td>26096.52</td>\n",
       "      <td>1.180934e+07</td>\n",
       "      <td>5742.12</td>\n",
       "      <td>110237.04</td>\n",
       "    </tr>\n",
       "    <tr>\n",
       "      <th>1</th>\n",
       "      <td>Công nghiệp</td>\n",
       "      <td>130310.00</td>\n",
       "      <td>29995001.00</td>\n",
       "      <td>3.830815e+07</td>\n",
       "      <td>111893.03</td>\n",
       "      <td>8070947.30</td>\n",
       "    </tr>\n",
       "    <tr>\n",
       "      <th>2</th>\n",
       "      <td>Giao thông</td>\n",
       "      <td>238245.05</td>\n",
       "      <td>33539153.25</td>\n",
       "      <td>3.409563e+07</td>\n",
       "      <td>314451.72</td>\n",
       "      <td>3783.28</td>\n",
       "    </tr>\n",
       "    <tr>\n",
       "      <th>3</th>\n",
       "      <td>Nông nghiệp</td>\n",
       "      <td>32785355.36</td>\n",
       "      <td>13752474.50</td>\n",
       "      <td>4.762153e+07</td>\n",
       "      <td>591923.12</td>\n",
       "      <td>491780.25</td>\n",
       "    </tr>\n",
       "    <tr>\n",
       "      <th>4</th>\n",
       "      <td>Năng lượng</td>\n",
       "      <td>67197249.61</td>\n",
       "      <td>64696274.58</td>\n",
       "      <td>1.331344e+08</td>\n",
       "      <td>226371.77</td>\n",
       "      <td>1014505.19</td>\n",
       "    </tr>\n",
       "    <tr>\n",
       "      <th>5</th>\n",
       "      <td>Đất đai</td>\n",
       "      <td>0.00</td>\n",
       "      <td>493575.60</td>\n",
       "      <td>4.935756e+05</td>\n",
       "      <td>0.00</td>\n",
       "      <td>0.00</td>\n",
       "    </tr>\n",
       "  </tbody>\n",
       "</table>\n",
       "</div>"
      ],
      "text/plain": [
       "   main_sector          ch4          co2     co2e_20yr        n2o  other_GHGs\n",
       "0    Chất thải  11667264.96     26096.52  1.180934e+07    5742.12   110237.04\n",
       "1  Công nghiệp    130310.00  29995001.00  3.830815e+07  111893.03  8070947.30\n",
       "2   Giao thông    238245.05  33539153.25  3.409563e+07  314451.72     3783.28\n",
       "3  Nông nghiệp  32785355.36  13752474.50  4.762153e+07  591923.12   491780.25\n",
       "4   Năng lượng  67197249.61  64696274.58  1.331344e+08  226371.77  1014505.19\n",
       "5      Đất đai         0.00    493575.60  4.935756e+05       0.00        0.00"
      ]
     },
     "execution_count": 14,
     "metadata": {},
     "output_type": "execute_result"
    }
   ],
   "source": [
    "df_long = summary.drop('co2e_20yr',axis=1).melt(id_vars='main_sector', var_name='gas', value_name='total_emissions')\n",
    "# Vẽ biểu đồ cột động\n",
    "fig = px.bar(\n",
    "    df_long,\n",
    "    x='main_sector',\n",
    "    y='total_emissions',\n",
    "    color='gas',\n",
    "    title='Biểu đồ cột động lượng phát thải khí nhà kính theo lĩnh vực',\n",
    "    labels={'main_sector': 'Lĩnh vực', 'total_emissions': 'Lượng phát thải', 'gas': 'Loại khí'},\n",
    "    barmode='group',\n",
    "    hover_data=['total_emissions']\n",
    ")\n",
    "fig.show()\n",
    "summary"
   ]
  },
  {
   "cell_type": "markdown",
   "metadata": {},
   "source": [
    "5. TƯƠNG QUAN"
   ]
  },
  {
   "cell_type": "code",
   "execution_count": 15,
   "metadata": {},
   "outputs": [
    {
     "data": {
      "image/png": "[encoded data removed]",
      "text/plain": [
       "<Figure size 1000x800 with 2 Axes>"
      ]
     },
     "metadata": {},
     "output_type": "display_data"
    }
   ],
   "source": [
    "df_emissions_month = df[df['gas'].isin(['ch4','n2o','co2','co2e_20yr'])].groupby(['month', 'year','gas'])['total_emissions'].sum().reset_index()\n",
    "df_emissions_month = df_emissions_month.pivot_table(index=['month', 'year'], columns='gas', values='total_emissions', aggfunc='sum').reset_index()\n",
    "df_emissions_month.columns.name = None\n",
    "corr = pd.read_csv('correlate.csv')\n",
    "corr = corr.merge(df_emissions_month,on=['year','month'],how='inner')\n",
    "corr.to_csv('correlate.csv',index=False)\n",
    "correlation_matrix = corr.drop(['year','month','co2e_20yr'],axis=1).corr()\n",
    "\n",
    "# Vẽ heatmap\n",
    "plt.figure(figsize=(10, 8))  # Kích thước biểu đồ\n",
    "sns.heatmap(correlation_matrix, annot=True, cmap='coolwarm', fmt=\".2f\", linewidths=0.5)\n",
    "\n",
    "# Thêm tiêu đề\n",
    "plt.title('Correlation Matrix')\n",
    "\n",
    "# Hiển thị biểu đồ\n",
    "plt.show()\n"
   ]
  }
 ],
 "metadata": {
  "kernelspec": {
   "display_name": "Python 3",
   "language": "python",
   "name": "python3"
  },
  "language_info": {
   "codemirror_mode": {
    "name": "ipython",
    "version": 3
   },
   "file_extension": ".py",
   "mimetype": "text/x-python",
   "name": "python",
   "nbconvert_exporter": "python",
   "pygments_lexer": "ipython3",
   "version": "3.13.0"
  }
 },
 "nbformat": 4,
 "nbformat_minor": 2
}
