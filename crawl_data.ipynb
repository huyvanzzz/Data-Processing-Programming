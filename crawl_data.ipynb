{
 "cells": [
  {
   "cell_type": "markdown",
   "metadata": {},
   "source": [
    "# Crawl data from [NOAA](https://www.ncei.noaa.gov/support/access-data-service-api-user-documentation)\n"
   ]
  },
  {
   "cell_type": "code",
   "execution_count": 3,
   "metadata": {},
   "outputs": [
    {
     "name": "stdout",
     "output_type": "stream",
     "text": [
      "Defaulting to user installation because normal site-packages is not writeableNote: you may need to restart the kernel to use updated packages.\n",
      "\n",
      "Requirement already satisfied: requests in c:\\users\\admin\\appdata\\local\\packages\\pythonsoftwarefoundation.python.3.12_qbz5n2kfra8p0\\localcache\\local-packages\\python312\\site-packages (2.32.3)\n",
      "Requirement already satisfied: charset-normalizer<4,>=2 in c:\\users\\admin\\appdata\\local\\packages\\pythonsoftwarefoundation.python.3.12_qbz5n2kfra8p0\\localcache\\local-packages\\python312\\site-packages (from requests) (3.4.0)\n",
      "Requirement already satisfied: idna<4,>=2.5 in c:\\users\\admin\\appdata\\local\\packages\\pythonsoftwarefoundation.python.3.12_qbz5n2kfra8p0\\localcache\\local-packages\\python312\\site-packages (from requests) (3.10)\n",
      "Requirement already satisfied: urllib3<3,>=1.21.1 in c:\\users\\admin\\appdata\\local\\packages\\pythonsoftwarefoundation.python.3.12_qbz5n2kfra8p0\\localcache\\local-packages\\python312\\site-packages (from requests) (2.2.3)\n",
      "Requirement already satisfied: certifi>=2017.4.17 in c:\\users\\admin\\appdata\\local\\packages\\pythonsoftwarefoundation.python.3.12_qbz5n2kfra8p0\\localcache\\local-packages\\python312\\site-packages (from requests) (2024.8.30)\n"
     ]
    }
   ],
   "source": [
    "%pip install requests"
   ]
  },
  {
   "cell_type": "code",
   "execution_count": 4,
   "metadata": {},
   "outputs": [],
   "source": [
    "import pandas as pd\n",
    "import numpy as np\n",
    "import requests"
   ]
  },
  {
   "cell_type": "code",
   "execution_count": 5,
   "metadata": {},
   "outputs": [],
   "source": [
    "import operator\n",
    "\n",
    "def get_stations_by_bounding_box(gps_n, gps_w, gps_s, gps_e, verbose):\n",
    "    url = \"https://www.ncei.noaa.gov/access/services/search/v1/data?dataset=\" + \"daily-summaries\"\n",
    "    url += \"&bbox=\" + str(gps_n) + \",\" + str(gps_w) + \",\" + str(gps_s) + \",\" + str(gps_e)\n",
    "    url += \"&dataTypes=TMIN,TMAX,PRCP\"\n",
    "    url += \"&limit=10&offset=0\"\n",
    "    if verbose: print(url)\n",
    "\n",
    "    try:\n",
    "        req = requests.get(url, data=None, json=None, headers=None)\n",
    "    except Exception as e:\n",
    "        print('ERROR: ' + repr(e), ' fn()', url)\n",
    "        return None\n",
    "    \n",
    "    if not req.status_code == 200: \n",
    "        if req.status_code == 429:\n",
    "            raise Exception('ERROR: HTTP 429 Too Many Requests! rate limiting.  resp.status_code = ', str(req.status_code), req.text)\n",
    "        else:\n",
    "            print('\\tERROR: resp.status_code = ', str(req.status_code), req.text)\n",
    "            return None\n",
    "\n",
    "    resp = req.json()\n",
    "    if len(resp) == 0:\n",
    "        print(\"\\tNo results from query \", url)\n",
    "        return None\n",
    "    \n",
    "    #print(json.dumps(resp, sort_keys=False, indent=2))\n",
    "    station_data = []\n",
    "    #if 'data' in resp.keys():\n",
    "    if not 'results' in resp.keys(): raise Exception(\"ERROR: key 'results' not in response\")\n",
    "    results = resp['results']\n",
    "    for result in results:\n",
    "        if not 'endDate' in result.keys(): raise Exception(\"ERROR: key 'endDate' not in response (result)\")\n",
    "        if not 'startDate' in result.keys(): raise Exception(\"ERROR: key 'startDate' not in response (result)\")\n",
    "        if not 'centroid' in result.keys(): raise Exception(\"ERROR: key 'centroid' not in response (result)\")\n",
    "        if not 'point' in result['centroid'].keys(): raise Exception(\"ERROR: key 'point' not in response (result['centroid'])\")\n",
    "        centroid = result['centroid']\n",
    "        longitude = float(centroid['point'][0])\n",
    "        latitude = float(centroid['point'][1])\n",
    "        if not 'name' in result.keys(): raise Exception(\"ERROR: key 'name' not in response (result)\")\n",
    "        if not 'location' in result.keys(): raise Exception(\"ERROR: key 'location' not in response (result)\")\n",
    "        if not 'id' in result.keys(): raise Exception(\"ERROR: key 'id' not in response (result)\")\n",
    "        if not 'dataTypesCount' in result.keys(): raise Exception(\"ERROR: key 'dataTypesCount' not in response (result)\")       \n",
    "        if not 'boundingPoints' in result.keys(): raise Exception(\"ERROR: key 'boundingPoints' not in response (result)\")        \n",
    "        if not 'stations' in result.keys(): raise Exception(\"ERROR: key 'stations' not in response (result)\")\n",
    "        stations = result['stations']\n",
    "        for station in stations:\n",
    "            if not 'name' in station.keys(): raise Exception(\"ERROR: key 'name' not in response (stations)\")\n",
    "            if not 'id' in station.keys(): raise Exception(\"ERROR: key 'id' not in response (stations)\")\n",
    "            if verbose: print(station['id'], station['name'], \"\\t\", latitude, longitude, \"\\t\", result['startDate'], \"\\t\", result['endDate'])\n",
    "            station_data.append([station['id'], station['name'], latitude, longitude, result['startDate'], result['endDate']])\n",
    "    \n",
    "    return station_data"
   ]
  },
  {
   "cell_type": "code",
   "execution_count": 6,
   "metadata": {},
   "outputs": [],
   "source": [
    "20.102365,101.947632,23.074678,107.484741\n",
    "stations = get_stations_by_bounding_box(23.440, 102.337, 19.465, 107.999, False)"
   ]
  },
  {
   "cell_type": "code",
   "execution_count": 7,
   "metadata": {},
   "outputs": [
    {
     "data": {
      "text/plain": [
       "[['LAW00041062',\n",
       "  'PHU CUM LS 50, LA',\n",
       "  19.9,\n",
       "  103.13333,\n",
       "  '1967-08-25T00:00:00',\n",
       "  '1968-12-30T23:59:59'],\n",
       " ['CHM00056985',\n",
       "  'MENGZI, CH',\n",
       "  23.383,\n",
       "  103.383,\n",
       "  '1945-03-01T00:00:00',\n",
       "  '2024-11-30T23:59:59'],\n",
       " ['VMM00048806',\n",
       "  'SON LA, VM',\n",
       "  21.333,\n",
       "  103.9,\n",
       "  '1997-03-10T00:00:00',\n",
       "  '2024-11-30T23:59:59'],\n",
       " ['VMM00048808',\n",
       "  'CAO BANG, VM',\n",
       "  22.667,\n",
       "  106.25,\n",
       "  '1959-05-09T00:00:00',\n",
       "  '2024-11-30T23:59:59'],\n",
       " ['VMM00048825',\n",
       "  'HA DONG, VM',\n",
       "  20.967,\n",
       "  105.767,\n",
       "  '2012-09-04T00:00:00',\n",
       "  '2024-11-30T23:59:59'],\n",
       " ['VMM00048820',\n",
       "  'NOIBAI INTERNATIONAL, VM',\n",
       "  21.221,\n",
       "  105.807,\n",
       "  '1958-12-18T00:00:00',\n",
       "  '2024-11-30T23:59:59'],\n",
       " ['VMM00048826',\n",
       "  'PHU LIEN, VM',\n",
       "  20.8,\n",
       "  106.633,\n",
       "  '1974-09-24T00:00:00',\n",
       "  '2024-11-30T23:59:59'],\n",
       " ['VMM00048830',\n",
       "  'LANG SON, VM',\n",
       "  21.833,\n",
       "  106.767,\n",
       "  '1974-09-26T00:00:00',\n",
       "  '2024-11-30T23:59:59'],\n",
       " ['VMM00048840',\n",
       "  'THANH HOA, VM',\n",
       "  19.75,\n",
       "  105.783,\n",
       "  '1974-09-24T00:00:00',\n",
       "  '2024-11-30T23:59:59'],\n",
       " ['CHM00059417',\n",
       "  'LONGZHOU, CH',\n",
       "  22.367,\n",
       "  106.75,\n",
       "  '1953-01-01T00:00:00',\n",
       "  '2024-11-30T23:59:59']]"
      ]
     },
     "execution_count": 7,
     "metadata": {},
     "output_type": "execute_result"
    }
   ],
   "source": [
    "stations"
   ]
  },
  {
   "cell_type": "markdown",
   "metadata": {},
   "source": [
    "Filter only stations from Viet Nam"
   ]
  },
  {
   "cell_type": "code",
   "execution_count": 8,
   "metadata": {},
   "outputs": [
    {
     "name": "stdout",
     "output_type": "stream",
     "text": [
      "<class 'list'>\n"
     ]
    },
    {
     "data": {
      "text/plain": [
       "[['VMM00048806',\n",
       "  'SON LA, VM',\n",
       "  21.333,\n",
       "  103.9,\n",
       "  '1997-03-10T00:00:00',\n",
       "  '2024-11-30T23:59:59'],\n",
       " ['VMM00048808',\n",
       "  'CAO BANG, VM',\n",
       "  22.667,\n",
       "  106.25,\n",
       "  '1959-05-09T00:00:00',\n",
       "  '2024-11-30T23:59:59'],\n",
       " ['VMM00048825',\n",
       "  'HA DONG, VM',\n",
       "  20.967,\n",
       "  105.767,\n",
       "  '2012-09-04T00:00:00',\n",
       "  '2024-11-30T23:59:59'],\n",
       " ['VMM00048820',\n",
       "  'NOIBAI INTERNATIONAL, VM',\n",
       "  21.221,\n",
       "  105.807,\n",
       "  '1958-12-18T00:00:00',\n",
       "  '2024-11-30T23:59:59'],\n",
       " ['VMM00048826',\n",
       "  'PHU LIEN, VM',\n",
       "  20.8,\n",
       "  106.633,\n",
       "  '1974-09-24T00:00:00',\n",
       "  '2024-11-30T23:59:59'],\n",
       " ['VMM00048830',\n",
       "  'LANG SON, VM',\n",
       "  21.833,\n",
       "  106.767,\n",
       "  '1974-09-26T00:00:00',\n",
       "  '2024-11-30T23:59:59'],\n",
       " ['VMM00048840',\n",
       "  'THANH HOA, VM',\n",
       "  19.75,\n",
       "  105.783,\n",
       "  '1974-09-24T00:00:00',\n",
       "  '2024-11-30T23:59:59']]"
      ]
     },
     "execution_count": 8,
     "metadata": {},
     "output_type": "execute_result"
    }
   ],
   "source": [
    "print(type(stations))\n",
    "\n",
    "filter_stations = [station for station in stations if 'VMM' in station[0]]\n",
    "filter_stations"
   ]
  },
  {
   "cell_type": "markdown",
   "metadata": {},
   "source": [
    "Use API to access climate data for each station"
   ]
  },
  {
   "cell_type": "code",
   "execution_count": 9,
   "metadata": {},
   "outputs": [],
   "source": [
    "import requests\n",
    "from datetime import datetime\n",
    "from dateutil.relativedelta import relativedelta\n",
    "import calendar\n",
    "\n",
    "def get_data_from_station(station_id, startdate, enddate, verbose):\n",
    "    print(station_id)\n",
    "    # normalize variable\n",
    "\n",
    "    if ':' in str(station_id):\n",
    "        station_id = str(station_id).partition(':')[2]\n",
    "\n",
    "    if 'T' in str(startdate):\n",
    "        startdate = str(startdate).partition('T')[0]\n",
    "\n",
    "    if 'T' in str(enddate):\n",
    "        enddate = str(enddate).partition('T')[0]\n",
    "\n",
    "    data_type = \"daily-summaries\"\n",
    "    # data_type = \"global-summary-of-the-month\"\n",
    "\n",
    "    url = \"https://www.ncei.noaa.gov/access/services/data/v1\" \n",
    "    url += \"?dataset=\" + data_type\n",
    "    url += \"&dataTypes=TAVG,TMIN,TMAX,PRCP\"\n",
    "    url += \"&stations=\" + station_id \n",
    "    url += \"&startDate=\" + startdate \n",
    "    url += \"&endDate=\" + enddate \n",
    "    url += \"&format=json&units=standard&includeAttributes=false\";\n",
    "\n",
    "    headers = {'Sec-Ch-Ua-Platform': 'Windows',\n",
    "              'Sec-Ch-Ua-Platform-Version': '10.0.0',\n",
    "              'User-Agent': 'Mozilla/5.0 (Windows NT 10.0; Win64; x64) AppleWebKit/537.36 (KHTML, like Gecko) Chrome/115.0.0.0 Safari/537.36'}\n",
    "    \n",
    "    headers.update({\"accept-language\": \"en-US,en;q=0.9\", 'token': 'lHnoGeREULAfljjRfjBMtNWwpCCKkeFD'})\n",
    "        \n",
    "    try:\n",
    "        req = requests.get(url, data=None, json=None, headers=headers)\n",
    "    except Exception as e:\n",
    "        print('ERROR: ' + repr(e), ' get_data_from_station()', url)\n",
    "        return None\n",
    "    \n",
    "    if req.status_code == 200:\n",
    "        pass\n",
    "    elif req.status_code == 429:\n",
    "        print(\"ERROR: HTTP 429 Too Many Requests! rate limiting.  resp.status_code = \", str(req.status_code), req.text, \" get_data_from_station()\")\n",
    "        return None\n",
    "    elif req.status_code == 503:\n",
    "        print(\"ERROR: HTTP 503 Service Unavailable.  Server is temporarily unavailable due to maintenance or capacity issues.  get_data_from_station()\")\n",
    "        return None\n",
    "    else:\n",
    "        print('\\tERROR: resp.status_code = ', str(req.status_code), req.text, \"get_data_from_station()\")\n",
    "        return None\n",
    "\n",
    "    resp = req.json()\n",
    "\n",
    "    data = {\"DATE\": [], \"STATION\" : [], \"TMAX\" : [], \"TMIN\" : [], \"TAVG\" : [], \"PRCP\" : []}\n",
    "\n",
    "    for line in resp:\n",
    "        if not \"DATE\" in line.keys(): raise Exception(\"ERROR: key 'DATE' expected but not found. \", line)\n",
    "        if not \"STATION\" in line.keys(): raise Exception(\"ERROR: key 'STATION' expected but not found. \", line)\n",
    "        \n",
    "        missing_element = 0\n",
    "\n",
    "        if not \"TMAX\" in line.keys(): \n",
    "            missing_element += 1\n",
    "        if not \"TMIN\" in line.keys(): \n",
    "            missing_element += 1\n",
    "        if not \"TAVG\" in line.keys():\n",
    "            missing_element += 1\n",
    "        if not \"PRCP\" in line.keys():\n",
    "            missing_element += 1\n",
    "        \n",
    "        if (missing_element == 4):\n",
    "            continue\n",
    "\n",
    "        data['STATION'].append(line.get('STATION', None))\n",
    "        data['DATE'].append(line.get('DATE', None))\n",
    "        data['TMAX'].append(line.get('TMAX', None))\n",
    "        data['TMIN'].append(line.get('TMIN', None))\n",
    "        data['TAVG'].append(line.get('TAVG', None))\n",
    "        data['PRCP'].append(line.get('PRCP', None))\n",
    "    \n",
    "    return pd.DataFrame(data)\n",
    "    \n",
    "\n",
    "    "
   ]
  },
  {
   "cell_type": "code",
   "execution_count": 10,
   "metadata": {},
   "outputs": [
    {
     "name": "stdout",
     "output_type": "stream",
     "text": [
      "VMM00048806\n",
      "1997-03-10T00:00:00 2024-11-30T23:59:59\n",
      "VMM00048808\n",
      "1959-05-09T00:00:00 2024-11-30T23:59:59\n",
      "VMM00048825\n",
      "2012-09-04T00:00:00 2024-11-30T23:59:59\n",
      "VMM00048820\n",
      "1958-12-18T00:00:00 2024-11-30T23:59:59\n",
      "VMM00048826\n",
      "1974-09-24T00:00:00 2024-11-30T23:59:59\n",
      "VMM00048830\n",
      "1974-09-26T00:00:00 2024-11-30T23:59:59\n",
      "VMM00048840\n",
      "1974-09-24T00:00:00 2024-11-30T23:59:59\n",
      "VMM00048806\n",
      "VMM00048808\n",
      "VMM00048825\n",
      "VMM00048820\n",
      "VMM00048826\n",
      "ERROR: HTTP 503 Service Unavailable.  Server is temporarily unavailable due to maintenance or capacity issues.  get_data_from_station()\n",
      "VMM00048830\n",
      "VMM00048840\n"
     ]
    }
   ],
   "source": [
    "for station in filter_stations:\n",
    "    print(station[0])\n",
    "    print(station[4], station[5])\n",
    "df = pd.concat([get_data_from_station(station[0], station[4], station[5], False) for station in filter_stations])\n",
    "\n"
   ]
  },
  {
   "cell_type": "code",
   "execution_count": 11,
   "metadata": {},
   "outputs": [],
   "source": [
    "df.to_csv('data/crawled_data_northern_vietnam.csv', encoding='utf-8')"
   ]
  },
  {
   "cell_type": "code",
   "execution_count": null,
   "metadata": {},
   "outputs": [],
   "source": []
  }
 ],
 "metadata": {
  "kernelspec": {
   "display_name": "Python 3",
   "language": "python",
   "name": "python3"
  },
  "language_info": {
   "codemirror_mode": {
    "name": "ipython",
    "version": 3
   },
   "file_extension": ".py",
   "mimetype": "text/x-python",
   "name": "python",
   "nbconvert_exporter": "python",
   "pygments_lexer": "ipython3",
   "version": "3.12.8"
  }
 },
 "nbformat": 4,
 "nbformat_minor": 2
}
