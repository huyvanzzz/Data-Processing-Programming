{
 "cells": [
  {
   "cell_type": "markdown",
   "metadata": {},
   "source": [
    "# Data processing\n"
   ]
  },
  {
   "cell_type": "markdown",
   "metadata": {},
   "source": [
    "#### Import module and read data"
   ]
  },
  {
   "cell_type": "code",
   "execution_count": 2,
   "metadata": {},
   "outputs": [],
   "source": [
    "import pandas as pd\n",
    "import numpy as np"
   ]
  },
  {
   "cell_type": "code",
   "execution_count": 10,
   "metadata": {},
   "outputs": [],
   "source": [
    "## Data processing\n",
    "df = pd.read_csv('data/weather.csv')"
   ]
  },
  {
   "cell_type": "markdown",
   "metadata": {},
   "source": [
    "#### Filter dataframe:\n",
    "1. Filter only result from northern Vietnam"
   ]
  },
  {
   "cell_type": "code",
   "execution_count": 25,
   "metadata": {},
   "outputs": [],
   "source": [
    "northern_provinces = [\n",
    "    \"Ha Noi\",\n",
    "    \"Hanoi\",\n",
    "    \"Hai Duong\",\n",
    "    \"Hai Phong\",\n",
    "    \"Hoa Binh\",\n",
    "    \"Hong Gai\",\n",
    "    \"Nam Dinh\",\n",
    "    \"Thai Nguyen\",\n",
    "    \"Thanh Hoa\",\n",
    "    \"Uong Bi\",\n",
    "    \"Viet Tri\",\n",
    "    \"Yen Bai\"\n",
    "]\n",
    "\n",
    "df = df[df['province'].isin(northern_provinces)]"
   ]
  },
  {
   "cell_type": "markdown",
   "metadata": {},
   "source": [
    "2. Add column for year, month and season"
   ]
  },
  {
   "cell_type": "code",
   "execution_count": null,
   "metadata": {},
   "outputs": [
    {
     "name": "stdout",
     "output_type": "stream",
     "text": [
      "        province  max  min  wind wind_d  rain  humidi  cloud  pressure  \\\n",
      "18237   Hoa Binh   16   15     5      E  21.1      95     98      1019   \n",
      "18308   Hoa Binh   15   12     6     NE  43.1      95    100      1015   \n",
      "18403   Hoa Binh   21   19     5      E  56.1      98    100      1013   \n",
      "18418   Hoa Binh   19   18     4     NW  53.7      98     93      1017   \n",
      "18431   Hoa Binh   18   16     5     SE  59.9      98    100      1018   \n",
      "...          ...  ...  ...   ...    ...   ...     ...    ...       ...   \n",
      "176551     Hanoi   21   20    10     NW  31.6      94    100      1017   \n",
      "176580     Hanoi   28   22    11      E  41.5      86     91      1015   \n",
      "176801     Hanoi   31   23     6    SSW  26.5      81     32      1011   \n",
      "176994     Hanoi   30   19     9    ESE  20.4      88     80      1012   \n",
      "177188     Hanoi   11   11    13    NNW  28.0      87     79      1021   \n",
      "\n",
      "              date  \n",
      "18237   2010-01-07  \n",
      "18308   2017-01-12  \n",
      "18403   2017-01-11  \n",
      "18418   2010-01-21  \n",
      "18431   2010-01-22  \n",
      "...            ...  \n",
      "176551  2013-10-17  \n",
      "176580  2018-10-23  \n",
      "176801  2011-11-07  \n",
      "176994  2012-12-01  \n",
      "177188  2013-12-16  \n",
      "\n",
      "[5080 rows x 10 columns]\n",
      "{np.float64(0.0), np.float64(1.0), np.float64(2.2), np.float64(2.3), np.float64(4.1), np.float64(5.4), np.float64(6.1), np.float64(4.8), np.float64(1.5), np.float64(7.8), np.float64(7.4), np.float64(2.0), np.float64(12.4), np.float64(12.1), np.float64(13.6), np.float64(0.5), np.float64(3.0), np.float64(3.5), np.float64(18.1), np.float64(19.2), np.float64(20.9), np.float64(21.1), np.float64(4.5), np.float64(4.0), np.float64(17.7), np.float64(16.1), np.float64(5.5), np.float64(5.0), np.float64(26.1), np.float64(29.7), np.float64(28.5), np.float64(6.0), np.float64(6.5), np.float64(32.8), np.float64(30.6), np.float64(35.7), np.float64(7.0), np.float64(7.5), np.float64(38.8), np.float64(39.0), np.float64(40.8), np.float64(8.0), np.float64(42.5), np.float64(43.1), np.float64(41.5), np.float64(40.2), np.float64(9.5), np.float64(9.0), np.float64(44.0), np.float64(40.4), np.float64(41.6), np.float64(10.0), np.float64(52.5), np.float64(53.7), np.float64(54.6), np.float64(51.0), np.float64(56.1), np.float64(2.5), np.float64(58.2), np.float64(59.9), np.float64(59.4), np.float64(11.0), np.float64(58.4), np.float64(12.0), np.float64(11.5), np.float64(59.0), np.float64(13.0), np.float64(13.5), np.float64(60.8), np.float64(69.0), np.float64(12.5), np.float64(14.0), np.float64(14.5), np.float64(68.7), np.float64(67.8), np.float64(75.7), np.float64(15.5), np.float64(15.0), np.float64(74.6), np.float64(79.1), np.float64(71.5), np.float64(16.5), np.float64(16.0), np.float64(83.7), np.float64(84.2), np.float64(84.0), np.float64(17.5), np.float64(17.0), np.float64(87.8), np.float64(82.0), np.float64(90.6), np.float64(18.0), np.float64(18.5), np.float64(87.1), np.float64(94.1), np.float64(95.8), np.float64(19.0), np.float64(19.5), np.float64(95.6), np.float64(99.2), np.float64(100.2), np.float64(20.0), np.float64(20.5), np.float64(97.2), np.float64(103.4), np.float64(100.6), np.float64(106.6), np.float64(21.0), np.float64(21.5), np.float64(109.5), np.float64(104.3), np.float64(22.0), np.float64(22.5), np.float64(113.1), np.float64(113.5), np.float64(115.6), np.float64(23.0), np.float64(23.5), np.float64(113.2), np.float64(115.8), np.float64(112.5), np.float64(24.0), np.float64(24.5), np.float64(123.7), np.float64(123.2), np.float64(122.5), np.float64(25.5), np.float64(127.7), np.float64(128.2), np.float64(25.0), np.float64(130.4), np.float64(26.5), np.float64(26.0), np.float64(133.9), np.float64(134.1), np.float64(135.7), np.float64(27.5), np.float64(27.0), np.float64(136.6), np.float64(137.7), np.float64(135.8), np.float64(28.0), np.float64(134.4), np.float64(143.9), np.float64(136.8), np.float64(140.7), np.float64(29.0), np.float64(29.5), np.float64(146.5), np.float64(146.0), np.float64(150.8), np.float64(30.0), np.float64(30.5), np.float64(155.3), np.float64(31.0), np.float64(31.5), np.float64(155.8), np.float64(159.7), np.float64(159.4), np.float64(159.0), np.float64(32.0), np.float64(163.5), np.float64(32.5), np.float64(158.9), np.float64(161.8), np.float64(33.5), np.float64(33.0), np.float64(167.7), np.float64(169.6), np.float64(162.1), np.float64(34.5), np.float64(34.0), np.float64(174.0), np.float64(174.2), np.float64(173.0), np.float64(35.5), np.float64(35.0), np.float64(177.8), np.float64(177.4), np.float64(181.3), np.float64(36.0), np.float64(36.5), np.float64(182.7), np.float64(186.6), np.float64(37.5), np.float64(37.0), np.float64(186.7), np.float64(38.0), np.float64(38.5), np.float64(39.5), np.float64(199.5), np.float64(202.7), np.float64(203.2), np.float64(40.0), np.float64(40.5), np.float64(8.5), np.float64(41.0), np.float64(208.4), np.float64(203.0), np.float64(42.0), np.float64(43.0), np.float64(43.5), np.float64(217.0), np.float64(44.5), np.float64(45.5), np.float64(45.0), np.float64(230.9), np.float64(46.5), np.float64(46.0), np.float64(47.5), np.float64(47.0), np.float64(240.9), np.float64(48.5), np.float64(48.0), np.float64(243.1), np.float64(49.5), np.float64(49.0), np.float64(50.5), np.float64(50.0), np.float64(10.5), np.float64(51.5), np.float64(52.0), np.float64(53.5), np.float64(53.0), np.float64(271.9), np.float64(54.5), np.float64(54.0), np.float64(274.5), np.float64(55.0), np.float64(55.5), np.float64(56.5), np.float64(56.0), np.float64(57.0), np.float64(58.0), np.float64(58.5), np.float64(59.5), np.float64(60.0), np.float64(61.5), np.float64(61.0), np.float64(62.0), np.float64(62.5), np.float64(63.0), np.float64(63.5), np.float64(64.4), np.float64(64.0), np.float64(64.6), np.float64(64.1), np.float64(64.5), np.float64(65.6), np.float64(65.5), np.float64(65.1), np.float64(65.9), np.float64(64.9), np.float64(66.9), np.float64(66.6), np.float64(66.4), np.float64(66.1), np.float64(65.0), np.float64(67.4), np.float64(67.1), np.float64(67.9), np.float64(67.6), np.float64(67.5), np.float64(68.4), np.float64(68.1), np.float64(68.6), np.float64(68.9), np.float64(67.0), np.float64(69.5), np.float64(69.1), np.float64(69.9), np.float64(69.6), np.float64(70.0), np.float64(70.4), np.float64(70.5), np.float64(70.1), np.float64(71.4), np.float64(71.6), np.float64(71.1), np.float64(71.0), np.float64(71.9), np.float64(72.0), np.float64(72.5), np.float64(72.6), np.float64(72.1), np.float64(73.0), np.float64(73.5), np.float64(73.1), np.float64(73.4), np.float64(73.6), np.float64(74.1), np.float64(74.9), np.float64(74.4), np.float64(74.5), np.float64(73.9), np.float64(75.4), np.float64(75.5), np.float64(75.0), np.float64(75.1), np.float64(75.9), np.float64(76.9), np.float64(0.3), np.float64(76.4), np.float64(76.1), np.float64(76.6), np.float64(77.4), np.float64(77.9), np.float64(77.1), np.float64(77.0), np.float64(78.0), np.float64(78.5), np.float64(78.9), np.float64(78.4), np.float64(78.6), np.float64(79.4), np.float64(79.6), np.float64(80.6), np.float64(80.9), np.float64(4.6), np.float64(80.4), np.float64(81.4), np.float64(81.0), np.float64(5.6), np.float64(5.1), np.float64(81.6), np.float64(82.9), np.float64(82.5), np.float64(6.6), np.float64(82.6), np.float64(82.4), np.float64(83.4), np.float64(83.0), np.float64(7.6), np.float64(7.1), np.float64(83.9), np.float64(83.5), np.float64(84.6), np.float64(8.6), np.float64(8.1), np.float64(83.1), np.float64(85.9), np.float64(85.6), np.float64(9.6), np.float64(9.1), np.float64(86.6), np.float64(86.1), np.float64(10.1), np.float64(10.6), np.float64(87.0), np.float64(87.5), np.float64(11.6), np.float64(11.1), np.float64(87.9), np.float64(88.6), np.float64(88.5), np.float64(12.6), np.float64(89.1), np.float64(89.5), np.float64(13.1), np.float64(89.6), np.float64(90.5), np.float64(14.1), np.float64(14.6), np.float64(91.9), np.float64(91.5), np.float64(15.6), np.float64(15.1), np.float64(92.5), np.float64(92.9), np.float64(92.4), np.float64(93.0), np.float64(93.9), np.float64(93.5), np.float64(95.1), np.float64(95.5), np.float64(95.0), np.float64(96.1), np.float64(96.6), np.float64(96.9), np.float64(97.0), np.float64(98.5), np.float64(99.4), np.float64(99.1), np.float64(101.5), np.float64(101.0), np.float64(0.8), np.float64(1.3), np.float64(1.8), np.float64(102.0), np.float64(102.9), np.float64(102.6), np.float64(104.1), np.float64(104.9), np.float64(104.5), np.float64(106.0), np.float64(107.4), np.float64(107.0), np.float64(108.6), np.float64(109.6), np.float64(112.0), np.float64(113.9), np.float64(113.0), np.float64(113.6), np.float64(114.5), np.float64(114.6), np.float64(114.4), np.float64(114.9), np.float64(115.0), np.float64(116.9), np.float64(117.0), np.float64(117.5), np.float64(16.6), np.float64(17.1), np.float64(17.6), np.float64(18.6), np.float64(120.1), np.float64(120.4), np.float64(19.6), np.float64(19.1), np.float64(20.6), np.float64(20.1), np.float64(21.6), np.float64(22.6), np.float64(22.1), np.float64(124.9), np.float64(23.1), np.float64(23.6), np.float64(24.6), np.float64(24.1), np.float64(25.6), np.float64(25.1), np.float64(26.6), np.float64(128.8), np.float64(27.1), np.float64(27.6), np.float64(129.8), np.float64(28.6), np.float64(28.1), np.float64(130.8), np.float64(130.3), np.float64(29.1), np.float64(29.6), np.float64(30.1), np.float64(31.1), np.float64(31.6), np.float64(133.2), np.float64(32.6), np.float64(32.1), np.float64(134.9), np.float64(33.1), np.float64(33.6), np.float64(135.0), np.float64(135.3), np.float64(34.1), np.float64(34.6), np.float64(35.1), np.float64(35.6), np.float64(36.1), np.float64(36.6), np.float64(37.1), np.float64(37.6), np.float64(38.1), np.float64(38.6), np.float64(140.5), np.float64(39.6), np.float64(39.1), np.float64(141.4), np.float64(40.6), np.float64(40.1), np.float64(41.1), np.float64(42.6), np.float64(42.1), np.float64(43.6), np.float64(44.1), np.float64(44.6), np.float64(45.6), np.float64(45.1), np.float64(46.6), np.float64(46.1), np.float64(47.1), np.float64(47.6), np.float64(48.1), np.float64(48.6), np.float64(49.6), np.float64(49.1), np.float64(50.6), np.float64(50.1), np.float64(0.6), np.float64(51.6), np.float64(51.1), np.float64(52.1), np.float64(52.6), np.float64(53.6), np.float64(53.1), np.float64(54.1), np.float64(55.1), np.float64(55.6), np.float64(56.6), np.float64(57.1), np.float64(57.6), np.float64(58.6), np.float64(58.1), np.float64(8.2), np.float64(8.7), np.float64(59.6), np.float64(59.1), np.float64(9.2), np.float64(9.7), np.float64(60.1), np.float64(60.6), np.float64(10.2), np.float64(10.7), np.float64(61.1), np.float64(61.6), np.float64(11.7), np.float64(11.2), np.float64(62.6), np.float64(62.1), np.float64(12.2), np.float64(12.7), np.float64(63.6), np.float64(0.1), np.float64(13.7), np.float64(13.2), np.float64(14.7), np.float64(14.2), np.float64(2.7), np.float64(15.2), np.float64(15.7), np.float64(3.7), np.float64(3.2), np.float64(16.7), np.float64(16.2), np.float64(4.2), np.float64(4.7), np.float64(17.2), np.float64(5.7), np.float64(5.2), np.float64(18.2), np.float64(18.7), np.float64(6.2), np.float64(6.7), np.float64(19.7), np.float64(7.2), np.float64(7.7), np.float64(20.2), np.float64(20.7), np.float64(21.2), np.float64(21.7), np.float64(22.2), np.float64(22.7), np.float64(23.7), np.float64(23.2), np.float64(24.2), np.float64(24.7), np.float64(25.2), np.float64(25.7), np.float64(26.2), np.float64(26.7), np.float64(60.7), np.float64(27.2), np.float64(27.7), np.float64(28.2), np.float64(28.7), np.float64(29.2), np.float64(30.2), np.float64(30.7), np.float64(31.2), np.float64(31.7), np.float64(62.7), np.float64(1.1), np.float64(1.4), np.float64(1.6), np.float64(1.9), np.float64(2.4), np.float64(2.9), np.float64(3.9), np.float64(3.4), np.float64(2.1), np.float64(2.6), np.float64(3.1), np.float64(3.6), np.float64(32.2), np.float64(32.3), np.float64(32.7), np.float64(33.7), np.float64(33.3), np.float64(33.8), np.float64(33.2), np.float64(34.7), np.float64(34.2), np.float64(34.8), np.float64(34.3), np.float64(35.2), np.float64(35.8), np.float64(35.3), np.float64(36.3), np.float64(36.2), np.float64(36.7), np.float64(36.8), np.float64(37.8), np.float64(37.2), np.float64(37.7), np.float64(37.3), np.float64(38.3), np.float64(38.2), np.float64(38.7), np.float64(39.8), np.float64(39.2), np.float64(39.3), np.float64(39.7), np.float64(40.7), np.float64(2.8), np.float64(40.3), np.float64(41.7), np.float64(3.3), np.float64(3.8), np.float64(41.2), np.float64(41.8), np.float64(42.2), np.float64(4.3), np.float64(42.3), np.float64(42.7), np.float64(42.8), np.float64(43.7), np.float64(5.3), np.float64(5.8), np.float64(43.3), np.float64(43.2), np.float64(44.3), np.float64(6.3), np.float64(6.8), np.float64(44.7), np.float64(44.8), np.float64(45.3), np.float64(7.3), np.float64(44.2), np.float64(45.2), np.float64(45.7), np.float64(46.3), np.float64(46.8), np.float64(46.7), np.float64(46.2), np.float64(45.8), np.float64(47.3), np.float64(47.8), np.float64(47.2), np.float64(47.7), np.float64(83.6), np.float64(48.8), np.float64(48.3), np.float64(48.7), np.float64(48.2), np.float64(49.7), np.float64(49.2), np.float64(49.8), np.float64(49.3), np.float64(50.2), np.float64(50.3), np.float64(50.8), np.float64(50.7), np.float64(0.9), np.float64(0.4), np.float64(51.8), np.float64(51.3), np.float64(51.7), np.float64(51.2), np.float64(52.3), np.float64(52.8), np.float64(52.7), np.float64(52.2), np.float64(53.2), np.float64(53.8), np.float64(53.3), np.float64(54.8), np.float64(54.7), np.float64(54.2), np.float64(54.3), np.float64(55.8), np.float64(55.2), np.float64(55.7), np.float64(55.3), np.float64(56.3), np.float64(56.7), np.float64(56.8), np.float64(56.2), np.float64(57.8), np.float64(57.7), np.float64(57.2), np.float64(57.3), np.float64(58.7), np.float64(58.3), np.float64(8.3), np.float64(8.8), np.float64(59.2), np.float64(59.3), np.float64(59.7), np.float64(9.3), np.float64(9.8), np.float64(60.3), np.float64(60.2), np.float64(59.8), np.float64(10.8), np.float64(10.3), np.float64(61.7), np.float64(61.3), np.float64(61.8), np.float64(11.3), np.float64(11.8), np.float64(62.8), np.float64(62.2), np.float64(61.2), np.float64(12.8), np.float64(12.3), np.float64(63.2), np.float64(63.7), np.float64(63.3), np.float64(13.3), np.float64(13.8), np.float64(64.2), np.float64(64.7), np.float64(64.8), np.float64(14.3), np.float64(14.8), np.float64(65.7), np.float64(65.3), np.float64(15.8), np.float64(15.3), np.float64(66.2), np.float64(66.7), np.float64(16.8), np.float64(16.3), np.float64(67.3), np.float64(67.2), np.float64(17.3), np.float64(17.8), np.float64(68.3), np.float64(68.2), np.float64(18.8), np.float64(18.3), np.float64(69.3), np.float64(69.8), np.float64(69.7), np.float64(19.3), np.float64(19.8), np.float64(70.8), np.float64(70.3), np.float64(69.2), np.float64(20.3), np.float64(20.8), np.float64(71.8), np.float64(71.3), np.float64(71.7), np.float64(21.8), np.float64(21.3), np.float64(72.3), np.float64(72.8), np.float64(22.3), np.float64(22.8), np.float64(73.3), np.float64(73.8), np.float64(73.2), np.float64(23.3), np.float64(23.8), np.float64(74.8), np.float64(74.7), np.float64(74.2), np.float64(24.8), np.float64(24.3), np.float64(75.8), np.float64(75.2), np.float64(75.3), np.float64(25.8), np.float64(25.3), np.float64(76.2), np.float64(76.8), np.float64(26.8), np.float64(26.3), np.float64(77.3), np.float64(77.2), np.float64(77.8), np.float64(27.8), np.float64(27.3), np.float64(78.3), np.float64(78.2), np.float64(78.7), np.float64(28.3), np.float64(28.8), np.float64(79.3), np.float64(79.2), np.float64(62.3), np.float64(29.3), np.float64(80.7), np.float64(29.8), np.float64(80.8), np.float64(30.8), np.float64(30.3), np.float64(81.3), np.float64(81.7), np.float64(81.2), np.float64(31.3), np.float64(82.8), np.float64(31.8), np.float64(82.3), np.float64(82.7), np.float64(82.2), np.float64(83.3), np.float64(83.2), np.float64(84.3), np.float64(85.7), np.float64(87.7), np.float64(87.3), np.float64(88.2), np.float64(88.7), np.float64(89.7), np.float64(90.3), np.float64(90.7), np.float64(90.2), np.float64(91.2), np.float64(92.3), np.float64(92.2), np.float64(92.8), np.float64(94.7), np.float64(94.3), np.float64(94.8), np.float64(95.3), np.float64(95.2), np.float64(96.2), np.float64(100.8), np.float64(101.2), np.float64(0.7), np.float64(1.2), np.float64(1.7), np.float64(103.3), np.float64(104.8), np.float64(108.2), np.float64(109.8), np.float64(110.3), np.float64(112.3), np.float64(112.8), np.float64(114.3), np.float64(117.7), np.float64(16.4), np.float64(16.9), np.float64(17.4), np.float64(17.9), np.float64(18.4), np.float64(18.9), np.float64(19.4), np.float64(19.9), np.float64(20.4), np.float64(122.2), np.float64(21.4), np.float64(21.9), np.float64(41.3), np.float64(22.4), np.float64(22.9), np.float64(124.7), np.float64(23.9), np.float64(23.4), np.float64(24.9), np.float64(24.4), np.float64(25.4), np.float64(25.9), np.float64(0.2), np.float64(127.8), np.float64(66.0), np.float64(26.4), np.float64(26.9), np.float64(66.5), np.float64(27.9), np.float64(27.4), np.float64(28.4), np.float64(28.9), np.float64(29.4), np.float64(29.9), np.float64(4.9), np.float64(4.4), np.float64(30.9), np.float64(30.4), np.float64(5.9), np.float64(31.9), np.float64(31.4), np.float64(43.8), np.float64(6.9), np.float64(6.4), np.float64(32.4), np.float64(32.9), np.float64(7.9), np.float64(33.4), np.float64(33.9), np.float64(8.9), np.float64(8.4), np.float64(34.4), np.float64(34.9), np.float64(9.9), np.float64(9.4), np.float64(35.9), np.float64(35.4), np.float64(10.4), np.float64(10.9), np.float64(36.9), np.float64(36.4), np.float64(11.4), np.float64(11.9), np.float64(37.4), np.float64(37.9), np.float64(12.9), np.float64(38.4), np.float64(38.9), np.float64(13.4), np.float64(13.9), np.float64(39.9), np.float64(39.4), np.float64(14.4), np.float64(14.9), np.float64(40.9), np.float64(15.4), np.float64(15.9), np.float64(41.9), np.float64(41.4), np.float64(42.9), np.float64(42.4), np.float64(73.7), np.float64(77.7), np.float64(43.9), np.float64(43.4), np.float64(44.4), np.float64(44.9), np.float64(45.9), np.float64(45.4), np.float64(46.9), np.float64(46.4), np.float64(47.9), np.float64(47.4), np.float64(48.4), np.float64(48.9), np.float64(49.9), np.float64(50.4), np.float64(50.9), np.float64(51.4), np.float64(51.9), np.float64(52.4), np.float64(53.9), np.float64(53.4), np.float64(54.4), np.float64(54.9), np.float64(55.9), np.float64(55.4), np.float64(56.4), np.float64(56.9), np.float64(57.4), np.float64(57.9), np.float64(58.9), np.float64(60.4), np.float64(60.9), np.float64(61.9), np.float64(61.4), np.float64(62.4), np.float64(62.9), np.float64(63.4), np.float64(63.9)}\n"
     ]
    }
   ],
   "source": [
    "import datetime\n",
    "\n",
    "\n",
    "\n",
    "print(df[df[\"rain\"] > 20])\n",
    "\n",
    "print(set(df[\"rain\"].values))"
   ]
  }
 ],
 "metadata": {
  "kernelspec": {
   "display_name": "Python 3",
   "language": "python",
   "name": "python3"
  },
  "language_info": {
   "codemirror_mode": {
    "name": "ipython",
    "version": 3
   },
   "file_extension": ".py",
   "mimetype": "text/x-python",
   "name": "python",
   "nbconvert_exporter": "python",
   "pygments_lexer": "ipython3",
   "version": "3.12.7"
  }
 },
 "nbformat": 4,
 "nbformat_minor": 2
}
