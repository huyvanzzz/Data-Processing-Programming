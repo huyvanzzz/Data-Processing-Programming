{
 "cells": [
  {
   "cell_type": "markdown",
   "metadata": {},
   "source": [
    "# Data processing\n"
   ]
  },
  {
   "cell_type": "markdown",
   "metadata": {},
   "source": [
    "#### Import module and read data"
   ]
  },
  {
   "cell_type": "code",
   "execution_count": 1,
   "metadata": {},
   "outputs": [],
   "source": [
    "import pandas as pd\n",
    "import numpy as np"
   ]
  },
  {
   "cell_type": "code",
   "execution_count": 2,
   "metadata": {},
   "outputs": [],
   "source": [
    "## Data processing\n",
    "df = pd.read_csv('data/crawled_data_northern_vietnam.csv')"
   ]
  },
  {
   "cell_type": "markdown",
   "metadata": {},
   "source": [
    "1. Add column for year, month and season"
   ]
  },
  {
   "cell_type": "code",
   "execution_count": 3,
   "metadata": {},
   "outputs": [],
   "source": [
    "df['DATE'] = pd.to_datetime(df['DATE'])\n",
    "\n",
    "df['YEAR'] = df['DATE'].dt.year\n",
    "df['MONTH'] = df['DATE'].dt.month\n",
    "\n",
    "def get_season(month):\n",
    "    if month in [11, 12, 1]:\n",
    "        return 'Winter'  # Mùa đông\n",
    "    elif month in [2, 3, 4]:\n",
    "        return 'Spring'  # Mùa xuân\n",
    "    elif month in [5, 6, 7]:\n",
    "        return 'Summer'  # Mùa hè\n",
    "    elif month in [8, 9, 10]:\n",
    "        return 'Autumn'  # Mùa thu\n",
    "\n",
    "df['SEASON'] = df['MONTH'].apply(get_season)\n",
    "\n",
    "# Filter only past 10 years\n",
    "df = df[df['YEAR'] >= 2013]\n"
   ]
  },
  {
   "cell_type": "code",
   "execution_count": 4,
   "metadata": {},
   "outputs": [],
   "source": [
    "df = df.drop(\"Unnamed: 0\", axis=1)"
   ]
  },
  {
   "cell_type": "code",
   "execution_count": 5,
   "metadata": {},
   "outputs": [],
   "source": [
    "df.to_csv('data/filtered_data_northern_vietnam.csv', encoding='utf-8',index=False)"
   ]
  },
  {
   "cell_type": "markdown",
   "metadata": {},
   "source": [
    "### Dữ liệu sau khi lọc bao gồm các cột sau:\n",
    "\n",
    "- **DATE**: Ngày tại thời điểm đo được (từ 2013 tới nay)\n",
    "- **STATION**: Mã của trạm khí tượng\n",
    "- **TMAX**: Nhiệt độ cao nhất trong ngày (độ F)\n",
    "- **TMIN**: Nhiệt độ thấp nhất trong ngày (độ F)\n",
    "- **TAVG**: Nhiệt độ trung bình trong ngày (độ F)\n",
    "- **PRCP**: Lượng mưa của ngày (inch)\n",
    "- **YEAR**: Năm tại thời điểm đo được (từ 2013 tới nay)\n",
    "- **MONTH**: Tháng tại thời điểm đo được (từ 1 → 12)\n",
    "- **SEASON**: Mùa tại thời điểm đo được (Xuân, Hạ, Thu, Đông)\n"
   ]
  }
 ],
 "metadata": {
  "kernelspec": {
   "display_name": "Python 3",
   "language": "python",
   "name": "python3"
  },
  "language_info": {
   "codemirror_mode": {
    "name": "ipython",
    "version": 3
   },
   "file_extension": ".py",
   "mimetype": "text/x-python",
   "name": "python",
   "nbconvert_exporter": "python",
   "pygments_lexer": "ipython3",
   "version": "3.13.0"
  }
 },
 "nbformat": 4,
 "nbformat_minor": 2
}
