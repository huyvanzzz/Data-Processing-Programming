{
 "cells": [
  {
   "cell_type": "markdown",
   "metadata": {},
   "source": [
    "# Data processing\n"
   ]
  },
  {
   "cell_type": "markdown",
   "metadata": {},
   "source": [
    "#### Import module and read data"
   ]
  },
  {
   "cell_type": "code",
   "execution_count": 1,
   "metadata": {},
   "outputs": [],
   "source": [
    "import pandas as pd\n",
    "import numpy as np"
   ]
  },
  {
   "cell_type": "code",
   "execution_count": 2,
   "metadata": {},
   "outputs": [],
   "source": [
    "## Data processing\n",
    "df = pd.read_csv('data/crawled_data_northern_vietnam.csv')"
   ]
  },
  {
   "cell_type": "markdown",
   "metadata": {},
   "source": [
    "1. Thêm cột DATE, YEAR, MONTH cho data lọc ra các dữ liệu của 10 năm gần đây"
   ]
  },
  {
   "cell_type": "code",
   "execution_count": 3,
   "metadata": {},
   "outputs": [],
   "source": [
    "df['DATE'] = pd.to_datetime(df['DATE'])\n",
    "\n",
    "df['YEAR'] = df['DATE'].dt.year\n",
    "df['MONTH'] = df['DATE'].dt.month\n",
    "\n",
    "def get_season(month):\n",
    "    if month in [11, 12, 1]:\n",
    "        return 'Winter'  # Mùa đông\n",
    "    elif month in [2, 3, 4]:\n",
    "        return 'Spring'  # Mùa xuân\n",
    "    elif month in [5, 6, 7]:\n",
    "        return 'Summer'  # Mùa hè\n",
    "    elif month in [8, 9, 10]:\n",
    "        return 'Autumn'  # Mùa thu\n",
    "\n",
    "df['SEASON'] = df['MONTH'].apply(get_season)\n",
    "\n",
    "# Filter only past 10 years\n",
    "df = df[df['YEAR'] >= 2013]\n"
   ]
  },
  {
   "cell_type": "markdown",
   "metadata": {},
   "source": [
    "2. Điền giá trị còn trống của PRCP và đổi đơn vị (độ F sang độ C và inches sang mm)"
   ]
  },
  {
   "cell_type": "code",
   "execution_count": 4,
   "metadata": {},
   "outputs": [],
   "source": [
    "# Assume the Nan value in PRCP column is 0\n",
    "\n",
    "# df['PRCP'].fillna(0) \n",
    "df['PRCP'] = df['PRCP'].fillna(0)\n",
    "\n",
    "df['PRCP'] = round(df['PRCP'] * 25.4, 2)\n",
    "df['TMAX'] = round((df['TMAX']-32)/1.8, 1)\n",
    "df['TMIN'] = round((df['TMIN']-32)/1.8, 1)\n",
    "df['TAVG'] = round((df['TAVG']-32)/1.8, 1)\n"
   ]
  },
  {
   "cell_type": "code",
   "execution_count": 5,
   "metadata": {},
   "outputs": [
    {
     "data": {
      "text/html": [
       "<div>\n",
       "<style scoped>\n",
       "    .dataframe tbody tr th:only-of-type {\n",
       "        vertical-align: middle;\n",
       "    }\n",
       "\n",
       "    .dataframe tbody tr th {\n",
       "        vertical-align: top;\n",
       "    }\n",
       "\n",
       "    .dataframe thead th {\n",
       "        text-align: right;\n",
       "    }\n",
       "</style>\n",
       "<table border=\"1\" class=\"dataframe\">\n",
       "  <thead>\n",
       "    <tr style=\"text-align: right;\">\n",
       "      <th></th>\n",
       "      <th>DATE</th>\n",
       "      <th>STATION</th>\n",
       "      <th>TMAX</th>\n",
       "      <th>TMIN</th>\n",
       "      <th>TAVG</th>\n",
       "      <th>PRCP</th>\n",
       "      <th>YEAR</th>\n",
       "      <th>MONTH</th>\n",
       "      <th>SEASON</th>\n",
       "    </tr>\n",
       "  </thead>\n",
       "  <tbody>\n",
       "    <tr>\n",
       "      <th>5674</th>\n",
       "      <td>2013-01-01</td>\n",
       "      <td>VMM00048806</td>\n",
       "      <td>13.3</td>\n",
       "      <td>8.3</td>\n",
       "      <td>10.6</td>\n",
       "      <td>0.00</td>\n",
       "      <td>2013</td>\n",
       "      <td>1</td>\n",
       "      <td>Winter</td>\n",
       "    </tr>\n",
       "    <tr>\n",
       "      <th>5675</th>\n",
       "      <td>2013-01-02</td>\n",
       "      <td>VMM00048806</td>\n",
       "      <td>22.8</td>\n",
       "      <td>10.0</td>\n",
       "      <td>16.1</td>\n",
       "      <td>0.00</td>\n",
       "      <td>2013</td>\n",
       "      <td>1</td>\n",
       "      <td>Winter</td>\n",
       "    </tr>\n",
       "    <tr>\n",
       "      <th>5676</th>\n",
       "      <td>2013-01-03</td>\n",
       "      <td>VMM00048806</td>\n",
       "      <td>15.6</td>\n",
       "      <td>NaN</td>\n",
       "      <td>13.3</td>\n",
       "      <td>0.00</td>\n",
       "      <td>2013</td>\n",
       "      <td>1</td>\n",
       "      <td>Winter</td>\n",
       "    </tr>\n",
       "    <tr>\n",
       "      <th>5677</th>\n",
       "      <td>2013-01-04</td>\n",
       "      <td>VMM00048806</td>\n",
       "      <td>15.0</td>\n",
       "      <td>12.2</td>\n",
       "      <td>12.8</td>\n",
       "      <td>0.00</td>\n",
       "      <td>2013</td>\n",
       "      <td>1</td>\n",
       "      <td>Winter</td>\n",
       "    </tr>\n",
       "    <tr>\n",
       "      <th>5678</th>\n",
       "      <td>2013-01-05</td>\n",
       "      <td>VMM00048806</td>\n",
       "      <td>19.4</td>\n",
       "      <td>NaN</td>\n",
       "      <td>13.9</td>\n",
       "      <td>0.00</td>\n",
       "      <td>2013</td>\n",
       "      <td>1</td>\n",
       "      <td>Winter</td>\n",
       "    </tr>\n",
       "    <tr>\n",
       "      <th>...</th>\n",
       "      <td>...</td>\n",
       "      <td>...</td>\n",
       "      <td>...</td>\n",
       "      <td>...</td>\n",
       "      <td>...</td>\n",
       "      <td>...</td>\n",
       "      <td>...</td>\n",
       "      <td>...</td>\n",
       "      <td>...</td>\n",
       "    </tr>\n",
       "    <tr>\n",
       "      <th>72548</th>\n",
       "      <td>2024-11-26</td>\n",
       "      <td>VMM00048840</td>\n",
       "      <td>NaN</td>\n",
       "      <td>NaN</td>\n",
       "      <td>21.1</td>\n",
       "      <td>1.02</td>\n",
       "      <td>2024</td>\n",
       "      <td>11</td>\n",
       "      <td>Winter</td>\n",
       "    </tr>\n",
       "    <tr>\n",
       "      <th>72549</th>\n",
       "      <td>2024-11-27</td>\n",
       "      <td>VMM00048840</td>\n",
       "      <td>22.2</td>\n",
       "      <td>NaN</td>\n",
       "      <td>20.6</td>\n",
       "      <td>0.00</td>\n",
       "      <td>2024</td>\n",
       "      <td>11</td>\n",
       "      <td>Winter</td>\n",
       "    </tr>\n",
       "    <tr>\n",
       "      <th>72550</th>\n",
       "      <td>2024-11-28</td>\n",
       "      <td>VMM00048840</td>\n",
       "      <td>23.3</td>\n",
       "      <td>18.3</td>\n",
       "      <td>20.6</td>\n",
       "      <td>0.00</td>\n",
       "      <td>2024</td>\n",
       "      <td>11</td>\n",
       "      <td>Winter</td>\n",
       "    </tr>\n",
       "    <tr>\n",
       "      <th>72551</th>\n",
       "      <td>2024-11-29</td>\n",
       "      <td>VMM00048840</td>\n",
       "      <td>23.3</td>\n",
       "      <td>NaN</td>\n",
       "      <td>19.4</td>\n",
       "      <td>0.00</td>\n",
       "      <td>2024</td>\n",
       "      <td>11</td>\n",
       "      <td>Winter</td>\n",
       "    </tr>\n",
       "    <tr>\n",
       "      <th>72552</th>\n",
       "      <td>2024-11-30</td>\n",
       "      <td>VMM00048840</td>\n",
       "      <td>25.0</td>\n",
       "      <td>15.6</td>\n",
       "      <td>20.0</td>\n",
       "      <td>0.00</td>\n",
       "      <td>2024</td>\n",
       "      <td>11</td>\n",
       "      <td>Winter</td>\n",
       "    </tr>\n",
       "  </tbody>\n",
       "</table>\n",
       "<p>25824 rows × 9 columns</p>\n",
       "</div>"
      ],
      "text/plain": [
       "            DATE      STATION  TMAX  TMIN  TAVG  PRCP  YEAR  MONTH  SEASON\n",
       "5674  2013-01-01  VMM00048806  13.3   8.3  10.6  0.00  2013      1  Winter\n",
       "5675  2013-01-02  VMM00048806  22.8  10.0  16.1  0.00  2013      1  Winter\n",
       "5676  2013-01-03  VMM00048806  15.6   NaN  13.3  0.00  2013      1  Winter\n",
       "5677  2013-01-04  VMM00048806  15.0  12.2  12.8  0.00  2013      1  Winter\n",
       "5678  2013-01-05  VMM00048806  19.4   NaN  13.9  0.00  2013      1  Winter\n",
       "...          ...          ...   ...   ...   ...   ...   ...    ...     ...\n",
       "72548 2024-11-26  VMM00048840   NaN   NaN  21.1  1.02  2024     11  Winter\n",
       "72549 2024-11-27  VMM00048840  22.2   NaN  20.6  0.00  2024     11  Winter\n",
       "72550 2024-11-28  VMM00048840  23.3  18.3  20.6  0.00  2024     11  Winter\n",
       "72551 2024-11-29  VMM00048840  23.3   NaN  19.4  0.00  2024     11  Winter\n",
       "72552 2024-11-30  VMM00048840  25.0  15.6  20.0  0.00  2024     11  Winter\n",
       "\n",
       "[25824 rows x 9 columns]"
      ]
     },
     "execution_count": 5,
     "metadata": {},
     "output_type": "execute_result"
    }
   ],
   "source": [
    "df = df.drop(\"Unnamed: 0\", axis=1)\n",
    "df"
   ]
  },
  {
   "cell_type": "code",
   "execution_count": 6,
   "metadata": {},
   "outputs": [
    {
     "data": {
      "text/html": [
       "<div>\n",
       "<style scoped>\n",
       "    .dataframe tbody tr th:only-of-type {\n",
       "        vertical-align: middle;\n",
       "    }\n",
       "\n",
       "    .dataframe tbody tr th {\n",
       "        vertical-align: top;\n",
       "    }\n",
       "\n",
       "    .dataframe thead th {\n",
       "        text-align: right;\n",
       "    }\n",
       "</style>\n",
       "<table border=\"1\" class=\"dataframe\">\n",
       "  <thead>\n",
       "    <tr style=\"text-align: right;\">\n",
       "      <th></th>\n",
       "      <th>DATE</th>\n",
       "      <th>STATION</th>\n",
       "      <th>TMAX</th>\n",
       "      <th>TMIN</th>\n",
       "      <th>TAVG</th>\n",
       "      <th>PRCP</th>\n",
       "      <th>YEAR</th>\n",
       "      <th>MONTH</th>\n",
       "      <th>SEASON</th>\n",
       "    </tr>\n",
       "  </thead>\n",
       "  <tbody>\n",
       "  </tbody>\n",
       "</table>\n",
       "</div>"
      ],
      "text/plain": [
       "Empty DataFrame\n",
       "Columns: [DATE, STATION, TMAX, TMIN, TAVG, PRCP, YEAR, MONTH, SEASON]\n",
       "Index: []"
      ]
     },
     "execution_count": 6,
     "metadata": {},
     "output_type": "execute_result"
    }
   ],
   "source": [
    "df[df['PRCP'].isnull()]"
   ]
  },
  {
   "cell_type": "code",
   "execution_count": 7,
   "metadata": {},
   "outputs": [],
   "source": [
    "df.to_csv('data/filtered_data_northern_vietnam.csv', encoding='utf-8',index=False)"
   ]
  },
  {
   "cell_type": "markdown",
   "metadata": {},
   "source": [
    "### Dữ liệu sau khi lọc bao gồm các cột sau:\n",
    "\n",
    "- **DATE**: Ngày tại thời điểm đo được (từ 2013 tới nay)\n",
    "- **STATION**: Mã của trạm khí tượng\n",
    "- **TMAX**: Nhiệt độ cao nhất trong ngày (độ C)\n",
    "- **TMIN**: Nhiệt độ thấp nhất trong ngày (độ C)\n",
    "- **TAVG**: Nhiệt độ trung bình trong ngày (độ C)\n",
    "- **PRCP**: Lượng mưa của ngày (mm)\n",
    "- **YEAR**: Năm tại thời điểm đo được (từ 2013 tới nay)\n",
    "- **MONTH**: Tháng tại thời điểm đo được (từ 1 → 12)\n",
    "- **SEASON**: Mùa tại thời điểm đo được (Spring, Summer, Autumn, Winter)\n"
   ]
  }
 ],
 "metadata": {
  "kernelspec": {
   "display_name": "Python 3",
   "language": "python",
   "name": "python3"
  },
  "language_info": {
   "codemirror_mode": {
    "name": "ipython",
    "version": 3
   },
   "file_extension": ".py",
   "mimetype": "text/x-python",
   "name": "python",
   "nbconvert_exporter": "python",
   "pygments_lexer": "ipython3",
   "version": "3.13.0"
  }
 },
 "nbformat": 4,
 "nbformat_minor": 2
}
